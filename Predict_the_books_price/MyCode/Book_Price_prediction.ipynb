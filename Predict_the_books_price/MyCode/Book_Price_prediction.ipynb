{
  "cells": [
    {
      "cell_type": "markdown",
      "metadata": {
        "id": "SXIlL9vNT2Nu"
      },
      "source": [
        "## Importing Modules"
      ]
    },
    {
      "cell_type": "code",
      "execution_count": null,
      "metadata": {
        "colab": {
          "base_uri": "https://localhost:8080/",
          "height": 69
        },
        "id": "UHXqxH9O-Y0f",
        "outputId": "f8fed1d3-2a6e-433d-cb92-fca747e2f0fc"
      },
      "outputs": [
        {
          "output_type": "stream",
          "name": "stdout",
          "text": [
            "[nltk_data] Downloading package stopwords to /root/nltk_data...\n",
            "[nltk_data]   Package stopwords is already up-to-date!\n"
          ]
        },
        {
          "output_type": "execute_result",
          "data": {
            "application/vnd.google.colaboratory.intrinsic+json": {
              "type": "string"
            },
            "text/plain": [
              "'/content'"
            ]
          },
          "metadata": {},
          "execution_count": 1180
        }
      ],
      "source": [
        "import pandas as pd\n",
        "import numpy as np\n",
        "import seaborn as sns\n",
        "import matplotlib.pyplot as plt\n",
        "import warnings\n",
        "\n",
        "pd.set_option('display.max_columns',None)\n",
        "\n",
        "import nltk\n",
        "from nltk import word_tokenize, sent_tokenize\n",
        "from nltk.corpus import stopwords\n",
        "from nltk.stem import LancasterStemmer, WordNetLemmatizer, PorterStemmer\n",
        "from wordcloud import WordCloud, STOPWORDS\n",
        "from textblob import TextBlob\n",
        "import re\n",
        "nltk.download('stopwords')\n",
        "\n",
        "from sklearn.model_selection import train_test_split\n",
        "from scipy.stats import boxcox\n",
        "from scipy.special import inv_boxcox\n",
        "from sklearn.ensemble import RandomForestRegressor\n",
        "from sklearn.metrics import mean_squared_error as mse\n",
        "\n",
        "import os\n",
        "import glob\n",
        "wdpath = os.getcwd()\n",
        "wdpath"
      ]
    },
    {
      "cell_type": "code",
      "execution_count": null,
      "metadata": {
        "id": "f6wHzmhL_uf4"
      },
      "outputs": [],
      "source": [
        "# %cd'/content/drive/MyDrive/Colab Notebooks'\n",
        "# !mkdir data"
      ]
    },
    {
      "cell_type": "code",
      "execution_count": null,
      "metadata": {
        "id": "GwaoE7hLA_1w"
      },
      "outputs": [],
      "source": [
        "# import zipfile\n",
        "# with zipfile.ZipFile(\"/content/drive/MyDrive/Colab Notebooks/Data.zip\", 'r') as zip_ref:\n",
        "#     zip_ref.extractall('/content/drive/MyDrive/Colab Notebooks/data')"
      ]
    },
    {
      "cell_type": "code",
      "execution_count": null,
      "metadata": {
        "colab": {
          "base_uri": "https://localhost:8080/",
          "height": 333
        },
        "id": "jmO4AlGzCdyg",
        "outputId": "9b50e996-2ab9-4c91-e18c-3317703d8280"
      },
      "outputs": [
        {
          "output_type": "execute_result",
          "data": {
            "text/html": [
              "\n",
              "  <div id=\"df-7e81aa25-e022-40ec-af6a-af1f32877581\">\n",
              "    <div class=\"colab-df-container\">\n",
              "      <div>\n",
              "<style scoped>\n",
              "    .dataframe tbody tr th:only-of-type {\n",
              "        vertical-align: middle;\n",
              "    }\n",
              "\n",
              "    .dataframe tbody tr th {\n",
              "        vertical-align: top;\n",
              "    }\n",
              "\n",
              "    .dataframe thead th {\n",
              "        text-align: right;\n",
              "    }\n",
              "</style>\n",
              "<table border=\"1\" class=\"dataframe\">\n",
              "  <thead>\n",
              "    <tr style=\"text-align: right;\">\n",
              "      <th></th>\n",
              "      <th>Title</th>\n",
              "      <th>Author</th>\n",
              "      <th>Edition</th>\n",
              "      <th>Reviews</th>\n",
              "      <th>Ratings</th>\n",
              "      <th>Synopsis</th>\n",
              "      <th>Genre</th>\n",
              "      <th>BookCategory</th>\n",
              "      <th>Price</th>\n",
              "    </tr>\n",
              "  </thead>\n",
              "  <tbody>\n",
              "    <tr>\n",
              "      <th>0</th>\n",
              "      <td>The Prisoner's Gold (The Hunters 3)</td>\n",
              "      <td>Chris Kuzneski</td>\n",
              "      <td>Paperback,– 10 Mar 2016</td>\n",
              "      <td>4.0 out of 5 stars</td>\n",
              "      <td>8 customer reviews</td>\n",
              "      <td>THE HUNTERS return in their third brilliant no...</td>\n",
              "      <td>Action &amp; Adventure (Books)</td>\n",
              "      <td>Action &amp; Adventure</td>\n",
              "      <td>220.00</td>\n",
              "    </tr>\n",
              "    <tr>\n",
              "      <th>1</th>\n",
              "      <td>Guru Dutt: A Tragedy in Three Acts</td>\n",
              "      <td>Arun Khopkar</td>\n",
              "      <td>Paperback,– 7 Nov 2012</td>\n",
              "      <td>3.9 out of 5 stars</td>\n",
              "      <td>14 customer reviews</td>\n",
              "      <td>A layered portrait of a troubled genius for wh...</td>\n",
              "      <td>Cinema &amp; Broadcast (Books)</td>\n",
              "      <td>Biographies, Diaries &amp; True Accounts</td>\n",
              "      <td>202.93</td>\n",
              "    </tr>\n",
              "    <tr>\n",
              "      <th>2</th>\n",
              "      <td>Leviathan (Penguin Classics)</td>\n",
              "      <td>Thomas Hobbes</td>\n",
              "      <td>Paperback,– 25 Feb 1982</td>\n",
              "      <td>4.8 out of 5 stars</td>\n",
              "      <td>6 customer reviews</td>\n",
              "      <td>\"During the time men live without a common Pow...</td>\n",
              "      <td>International Relations</td>\n",
              "      <td>Humour</td>\n",
              "      <td>299.00</td>\n",
              "    </tr>\n",
              "    <tr>\n",
              "      <th>3</th>\n",
              "      <td>A Pocket Full of Rye (Miss Marple)</td>\n",
              "      <td>Agatha Christie</td>\n",
              "      <td>Paperback,– 5 Oct 2017</td>\n",
              "      <td>4.1 out of 5 stars</td>\n",
              "      <td>13 customer reviews</td>\n",
              "      <td>A handful of grain is found in the pocket of a...</td>\n",
              "      <td>Contemporary Fiction (Books)</td>\n",
              "      <td>Crime, Thriller &amp; Mystery</td>\n",
              "      <td>180.00</td>\n",
              "    </tr>\n",
              "    <tr>\n",
              "      <th>4</th>\n",
              "      <td>LIFE 70 Years of Extraordinary Photography</td>\n",
              "      <td>Editors of Life</td>\n",
              "      <td>Hardcover,– 10 Oct 2006</td>\n",
              "      <td>5.0 out of 5 stars</td>\n",
              "      <td>1 customer review</td>\n",
              "      <td>For seven decades, \"Life\" has been thrilling t...</td>\n",
              "      <td>Photography Textbooks</td>\n",
              "      <td>Arts, Film &amp; Photography</td>\n",
              "      <td>965.62</td>\n",
              "    </tr>\n",
              "  </tbody>\n",
              "</table>\n",
              "</div>\n",
              "      <button class=\"colab-df-convert\" onclick=\"convertToInteractive('df-7e81aa25-e022-40ec-af6a-af1f32877581')\"\n",
              "              title=\"Convert this dataframe to an interactive table.\"\n",
              "              style=\"display:none;\">\n",
              "        \n",
              "  <svg xmlns=\"http://www.w3.org/2000/svg\" height=\"24px\"viewBox=\"0 0 24 24\"\n",
              "       width=\"24px\">\n",
              "    <path d=\"M0 0h24v24H0V0z\" fill=\"none\"/>\n",
              "    <path d=\"M18.56 5.44l.94 2.06.94-2.06 2.06-.94-2.06-.94-.94-2.06-.94 2.06-2.06.94zm-11 1L8.5 8.5l.94-2.06 2.06-.94-2.06-.94L8.5 2.5l-.94 2.06-2.06.94zm10 10l.94 2.06.94-2.06 2.06-.94-2.06-.94-.94-2.06-.94 2.06-2.06.94z\"/><path d=\"M17.41 7.96l-1.37-1.37c-.4-.4-.92-.59-1.43-.59-.52 0-1.04.2-1.43.59L10.3 9.45l-7.72 7.72c-.78.78-.78 2.05 0 2.83L4 21.41c.39.39.9.59 1.41.59.51 0 1.02-.2 1.41-.59l7.78-7.78 2.81-2.81c.8-.78.8-2.07 0-2.86zM5.41 20L4 18.59l7.72-7.72 1.47 1.35L5.41 20z\"/>\n",
              "  </svg>\n",
              "      </button>\n",
              "      \n",
              "  <style>\n",
              "    .colab-df-container {\n",
              "      display:flex;\n",
              "      flex-wrap:wrap;\n",
              "      gap: 12px;\n",
              "    }\n",
              "\n",
              "    .colab-df-convert {\n",
              "      background-color: #E8F0FE;\n",
              "      border: none;\n",
              "      border-radius: 50%;\n",
              "      cursor: pointer;\n",
              "      display: none;\n",
              "      fill: #1967D2;\n",
              "      height: 32px;\n",
              "      padding: 0 0 0 0;\n",
              "      width: 32px;\n",
              "    }\n",
              "\n",
              "    .colab-df-convert:hover {\n",
              "      background-color: #E2EBFA;\n",
              "      box-shadow: 0px 1px 2px rgba(60, 64, 67, 0.3), 0px 1px 3px 1px rgba(60, 64, 67, 0.15);\n",
              "      fill: #174EA6;\n",
              "    }\n",
              "\n",
              "    [theme=dark] .colab-df-convert {\n",
              "      background-color: #3B4455;\n",
              "      fill: #D2E3FC;\n",
              "    }\n",
              "\n",
              "    [theme=dark] .colab-df-convert:hover {\n",
              "      background-color: #434B5C;\n",
              "      box-shadow: 0px 1px 3px 1px rgba(0, 0, 0, 0.15);\n",
              "      filter: drop-shadow(0px 1px 2px rgba(0, 0, 0, 0.3));\n",
              "      fill: #FFFFFF;\n",
              "    }\n",
              "  </style>\n",
              "\n",
              "      <script>\n",
              "        const buttonEl =\n",
              "          document.querySelector('#df-7e81aa25-e022-40ec-af6a-af1f32877581 button.colab-df-convert');\n",
              "        buttonEl.style.display =\n",
              "          google.colab.kernel.accessAllowed ? 'block' : 'none';\n",
              "\n",
              "        async function convertToInteractive(key) {\n",
              "          const element = document.querySelector('#df-7e81aa25-e022-40ec-af6a-af1f32877581');\n",
              "          const dataTable =\n",
              "            await google.colab.kernel.invokeFunction('convertToInteractive',\n",
              "                                                     [key], {});\n",
              "          if (!dataTable) return;\n",
              "\n",
              "          const docLinkHtml = 'Like what you see? Visit the ' +\n",
              "            '<a target=\"_blank\" href=https://colab.research.google.com/notebooks/data_table.ipynb>data table notebook</a>'\n",
              "            + ' to learn more about interactive tables.';\n",
              "          element.innerHTML = '';\n",
              "          dataTable['output_type'] = 'display_data';\n",
              "          await google.colab.output.renderOutput(dataTable, element);\n",
              "          const docLink = document.createElement('div');\n",
              "          docLink.innerHTML = docLinkHtml;\n",
              "          element.appendChild(docLink);\n",
              "        }\n",
              "      </script>\n",
              "    </div>\n",
              "  </div>\n",
              "  "
            ],
            "text/plain": [
              "                                        Title           Author  \\\n",
              "0         The Prisoner's Gold (The Hunters 3)   Chris Kuzneski   \n",
              "1          Guru Dutt: A Tragedy in Three Acts     Arun Khopkar   \n",
              "2                Leviathan (Penguin Classics)    Thomas Hobbes   \n",
              "3          A Pocket Full of Rye (Miss Marple)  Agatha Christie   \n",
              "4  LIFE 70 Years of Extraordinary Photography  Editors of Life   \n",
              "\n",
              "                   Edition             Reviews              Ratings  \\\n",
              "0  Paperback,– 10 Mar 2016  4.0 out of 5 stars   8 customer reviews   \n",
              "1   Paperback,– 7 Nov 2012  3.9 out of 5 stars  14 customer reviews   \n",
              "2  Paperback,– 25 Feb 1982  4.8 out of 5 stars   6 customer reviews   \n",
              "3   Paperback,– 5 Oct 2017  4.1 out of 5 stars  13 customer reviews   \n",
              "4  Hardcover,– 10 Oct 2006  5.0 out of 5 stars    1 customer review   \n",
              "\n",
              "                                            Synopsis  \\\n",
              "0  THE HUNTERS return in their third brilliant no...   \n",
              "1  A layered portrait of a troubled genius for wh...   \n",
              "2  \"During the time men live without a common Pow...   \n",
              "3  A handful of grain is found in the pocket of a...   \n",
              "4  For seven decades, \"Life\" has been thrilling t...   \n",
              "\n",
              "                          Genre                          BookCategory   Price  \n",
              "0    Action & Adventure (Books)                    Action & Adventure  220.00  \n",
              "1    Cinema & Broadcast (Books)  Biographies, Diaries & True Accounts  202.93  \n",
              "2       International Relations                                Humour  299.00  \n",
              "3  Contemporary Fiction (Books)             Crime, Thriller & Mystery  180.00  \n",
              "4         Photography Textbooks              Arts, Film & Photography  965.62  "
            ]
          },
          "metadata": {},
          "execution_count": 1183
        }
      ],
      "source": [
        "train_data = pd.read_excel('Data_Train.xlsx')\n",
        "train_data.head()"
      ]
    },
    {
      "cell_type": "code",
      "execution_count": null,
      "metadata": {
        "colab": {
          "base_uri": "https://localhost:8080/",
          "height": 333
        },
        "id": "weBkhJPKC4QU",
        "outputId": "98c9a112-9695-4908-c85c-4f9f77c74371"
      },
      "outputs": [
        {
          "output_type": "execute_result",
          "data": {
            "text/html": [
              "\n",
              "  <div id=\"df-61b3b9dd-e178-457c-bbda-28e9b56ce7bd\">\n",
              "    <div class=\"colab-df-container\">\n",
              "      <div>\n",
              "<style scoped>\n",
              "    .dataframe tbody tr th:only-of-type {\n",
              "        vertical-align: middle;\n",
              "    }\n",
              "\n",
              "    .dataframe tbody tr th {\n",
              "        vertical-align: top;\n",
              "    }\n",
              "\n",
              "    .dataframe thead th {\n",
              "        text-align: right;\n",
              "    }\n",
              "</style>\n",
              "<table border=\"1\" class=\"dataframe\">\n",
              "  <thead>\n",
              "    <tr style=\"text-align: right;\">\n",
              "      <th></th>\n",
              "      <th>Title</th>\n",
              "      <th>Author</th>\n",
              "      <th>Edition</th>\n",
              "      <th>Reviews</th>\n",
              "      <th>Ratings</th>\n",
              "      <th>Synopsis</th>\n",
              "      <th>Genre</th>\n",
              "      <th>BookCategory</th>\n",
              "    </tr>\n",
              "  </thead>\n",
              "  <tbody>\n",
              "    <tr>\n",
              "      <th>0</th>\n",
              "      <td>The Complete Sherlock Holmes: 2 Boxes sets</td>\n",
              "      <td>Sir Arthur Conan Doyle</td>\n",
              "      <td>Mass Market Paperback,– 1 Oct 1986</td>\n",
              "      <td>4.4 out of 5 stars</td>\n",
              "      <td>960 customer reviews</td>\n",
              "      <td>A collection of entire body of work of the She...</td>\n",
              "      <td>Short Stories (Books)</td>\n",
              "      <td>Crime, Thriller &amp; Mystery</td>\n",
              "    </tr>\n",
              "    <tr>\n",
              "      <th>1</th>\n",
              "      <td>Learn Docker - Fundamentals of Docker 18.x: Ev...</td>\n",
              "      <td>Gabriel N. Schenker</td>\n",
              "      <td>Paperback,– Import, 26 Apr 2018</td>\n",
              "      <td>5.0 out of 5 stars</td>\n",
              "      <td>1 customer review</td>\n",
              "      <td>Enhance your software deployment workflow usin...</td>\n",
              "      <td>Operating Systems Textbooks</td>\n",
              "      <td>Computing, Internet &amp; Digital Media</td>\n",
              "    </tr>\n",
              "    <tr>\n",
              "      <th>2</th>\n",
              "      <td>Big Girl</td>\n",
              "      <td>Danielle Steel</td>\n",
              "      <td>Paperback,– 17 Mar 2011</td>\n",
              "      <td>5.0 out of 5 stars</td>\n",
              "      <td>4 customer reviews</td>\n",
              "      <td>'Watch out, world. Here I come!'\\nFor Victoria...</td>\n",
              "      <td>Romance (Books)</td>\n",
              "      <td>Romance</td>\n",
              "    </tr>\n",
              "    <tr>\n",
              "      <th>3</th>\n",
              "      <td>Think Python: How to Think Like a Computer Sci...</td>\n",
              "      <td>Allen B. Downey</td>\n",
              "      <td>Paperback,– 2016</td>\n",
              "      <td>4.1 out of 5 stars</td>\n",
              "      <td>11 customer reviews</td>\n",
              "      <td>If you want to learn how to program, working w...</td>\n",
              "      <td>Programming &amp; Software Development (Books)</td>\n",
              "      <td>Computing, Internet &amp; Digital Media</td>\n",
              "    </tr>\n",
              "    <tr>\n",
              "      <th>4</th>\n",
              "      <td>Oxford Word Skills: Advanced - Idioms &amp; Phrasa...</td>\n",
              "      <td>Redman Gairns</td>\n",
              "      <td>Paperback,– 26 Dec 2011</td>\n",
              "      <td>4.4 out of 5 stars</td>\n",
              "      <td>9 customer reviews</td>\n",
              "      <td>Learn and practise the verbs, prepositions and...</td>\n",
              "      <td>Linguistics (Books)</td>\n",
              "      <td>Language, Linguistics &amp; Writing</td>\n",
              "    </tr>\n",
              "  </tbody>\n",
              "</table>\n",
              "</div>\n",
              "      <button class=\"colab-df-convert\" onclick=\"convertToInteractive('df-61b3b9dd-e178-457c-bbda-28e9b56ce7bd')\"\n",
              "              title=\"Convert this dataframe to an interactive table.\"\n",
              "              style=\"display:none;\">\n",
              "        \n",
              "  <svg xmlns=\"http://www.w3.org/2000/svg\" height=\"24px\"viewBox=\"0 0 24 24\"\n",
              "       width=\"24px\">\n",
              "    <path d=\"M0 0h24v24H0V0z\" fill=\"none\"/>\n",
              "    <path d=\"M18.56 5.44l.94 2.06.94-2.06 2.06-.94-2.06-.94-.94-2.06-.94 2.06-2.06.94zm-11 1L8.5 8.5l.94-2.06 2.06-.94-2.06-.94L8.5 2.5l-.94 2.06-2.06.94zm10 10l.94 2.06.94-2.06 2.06-.94-2.06-.94-.94-2.06-.94 2.06-2.06.94z\"/><path d=\"M17.41 7.96l-1.37-1.37c-.4-.4-.92-.59-1.43-.59-.52 0-1.04.2-1.43.59L10.3 9.45l-7.72 7.72c-.78.78-.78 2.05 0 2.83L4 21.41c.39.39.9.59 1.41.59.51 0 1.02-.2 1.41-.59l7.78-7.78 2.81-2.81c.8-.78.8-2.07 0-2.86zM5.41 20L4 18.59l7.72-7.72 1.47 1.35L5.41 20z\"/>\n",
              "  </svg>\n",
              "      </button>\n",
              "      \n",
              "  <style>\n",
              "    .colab-df-container {\n",
              "      display:flex;\n",
              "      flex-wrap:wrap;\n",
              "      gap: 12px;\n",
              "    }\n",
              "\n",
              "    .colab-df-convert {\n",
              "      background-color: #E8F0FE;\n",
              "      border: none;\n",
              "      border-radius: 50%;\n",
              "      cursor: pointer;\n",
              "      display: none;\n",
              "      fill: #1967D2;\n",
              "      height: 32px;\n",
              "      padding: 0 0 0 0;\n",
              "      width: 32px;\n",
              "    }\n",
              "\n",
              "    .colab-df-convert:hover {\n",
              "      background-color: #E2EBFA;\n",
              "      box-shadow: 0px 1px 2px rgba(60, 64, 67, 0.3), 0px 1px 3px 1px rgba(60, 64, 67, 0.15);\n",
              "      fill: #174EA6;\n",
              "    }\n",
              "\n",
              "    [theme=dark] .colab-df-convert {\n",
              "      background-color: #3B4455;\n",
              "      fill: #D2E3FC;\n",
              "    }\n",
              "\n",
              "    [theme=dark] .colab-df-convert:hover {\n",
              "      background-color: #434B5C;\n",
              "      box-shadow: 0px 1px 3px 1px rgba(0, 0, 0, 0.15);\n",
              "      filter: drop-shadow(0px 1px 2px rgba(0, 0, 0, 0.3));\n",
              "      fill: #FFFFFF;\n",
              "    }\n",
              "  </style>\n",
              "\n",
              "      <script>\n",
              "        const buttonEl =\n",
              "          document.querySelector('#df-61b3b9dd-e178-457c-bbda-28e9b56ce7bd button.colab-df-convert');\n",
              "        buttonEl.style.display =\n",
              "          google.colab.kernel.accessAllowed ? 'block' : 'none';\n",
              "\n",
              "        async function convertToInteractive(key) {\n",
              "          const element = document.querySelector('#df-61b3b9dd-e178-457c-bbda-28e9b56ce7bd');\n",
              "          const dataTable =\n",
              "            await google.colab.kernel.invokeFunction('convertToInteractive',\n",
              "                                                     [key], {});\n",
              "          if (!dataTable) return;\n",
              "\n",
              "          const docLinkHtml = 'Like what you see? Visit the ' +\n",
              "            '<a target=\"_blank\" href=https://colab.research.google.com/notebooks/data_table.ipynb>data table notebook</a>'\n",
              "            + ' to learn more about interactive tables.';\n",
              "          element.innerHTML = '';\n",
              "          dataTable['output_type'] = 'display_data';\n",
              "          await google.colab.output.renderOutput(dataTable, element);\n",
              "          const docLink = document.createElement('div');\n",
              "          docLink.innerHTML = docLinkHtml;\n",
              "          element.appendChild(docLink);\n",
              "        }\n",
              "      </script>\n",
              "    </div>\n",
              "  </div>\n",
              "  "
            ],
            "text/plain": [
              "                                               Title                  Author  \\\n",
              "0         The Complete Sherlock Holmes: 2 Boxes sets  Sir Arthur Conan Doyle   \n",
              "1  Learn Docker - Fundamentals of Docker 18.x: Ev...     Gabriel N. Schenker   \n",
              "2                                           Big Girl          Danielle Steel   \n",
              "3  Think Python: How to Think Like a Computer Sci...         Allen B. Downey   \n",
              "4  Oxford Word Skills: Advanced - Idioms & Phrasa...           Redman Gairns   \n",
              "\n",
              "                              Edition             Reviews  \\\n",
              "0  Mass Market Paperback,– 1 Oct 1986  4.4 out of 5 stars   \n",
              "1     Paperback,– Import, 26 Apr 2018  5.0 out of 5 stars   \n",
              "2             Paperback,– 17 Mar 2011  5.0 out of 5 stars   \n",
              "3                    Paperback,– 2016  4.1 out of 5 stars   \n",
              "4             Paperback,– 26 Dec 2011  4.4 out of 5 stars   \n",
              "\n",
              "                Ratings                                           Synopsis  \\\n",
              "0  960 customer reviews  A collection of entire body of work of the She...   \n",
              "1     1 customer review  Enhance your software deployment workflow usin...   \n",
              "2    4 customer reviews  'Watch out, world. Here I come!'\\nFor Victoria...   \n",
              "3   11 customer reviews  If you want to learn how to program, working w...   \n",
              "4    9 customer reviews  Learn and practise the verbs, prepositions and...   \n",
              "\n",
              "                                        Genre  \\\n",
              "0                       Short Stories (Books)   \n",
              "1                 Operating Systems Textbooks   \n",
              "2                             Romance (Books)   \n",
              "3  Programming & Software Development (Books)   \n",
              "4                         Linguistics (Books)   \n",
              "\n",
              "                          BookCategory  \n",
              "0            Crime, Thriller & Mystery  \n",
              "1  Computing, Internet & Digital Media  \n",
              "2                              Romance  \n",
              "3  Computing, Internet & Digital Media  \n",
              "4      Language, Linguistics & Writing  "
            ]
          },
          "metadata": {},
          "execution_count": 1184
        }
      ],
      "source": [
        "test_data = pd.read_excel('Data_Test.xlsx')\n",
        "test_data.head()"
      ]
    },
    {
      "cell_type": "code",
      "execution_count": null,
      "metadata": {
        "colab": {
          "base_uri": "https://localhost:8080/"
        },
        "id": "7v2C1KiPDQq6",
        "outputId": "ede68cc7-3bb7-4863-ee96-d3b38b77608d"
      },
      "outputs": [
        {
          "output_type": "stream",
          "name": "stdout",
          "text": [
            "<class 'pandas.core.frame.DataFrame'>\n",
            "RangeIndex: 6237 entries, 0 to 6236\n",
            "Data columns (total 9 columns):\n",
            " #   Column        Non-Null Count  Dtype  \n",
            "---  ------        --------------  -----  \n",
            " 0   Title         6237 non-null   object \n",
            " 1   Author        6237 non-null   object \n",
            " 2   Edition       6237 non-null   object \n",
            " 3   Reviews       6237 non-null   object \n",
            " 4   Ratings       6237 non-null   object \n",
            " 5   Synopsis      6237 non-null   object \n",
            " 6   Genre         6237 non-null   object \n",
            " 7   BookCategory  6237 non-null   object \n",
            " 8   Price         6237 non-null   float64\n",
            "dtypes: float64(1), object(8)\n",
            "memory usage: 438.7+ KB\n"
          ]
        }
      ],
      "source": [
        "train_data.info()"
      ]
    },
    {
      "cell_type": "code",
      "execution_count": null,
      "metadata": {
        "colab": {
          "base_uri": "https://localhost:8080/"
        },
        "id": "2wvQG0T_Dnl7",
        "outputId": "cabdeab8-e1ee-449e-928d-bf7a4a5d9685"
      },
      "outputs": [
        {
          "output_type": "stream",
          "name": "stdout",
          "text": [
            "(6237, 9)\n",
            "(1560, 8)\n"
          ]
        }
      ],
      "source": [
        "print(train_data.shape)\n",
        "print(test_data.shape)"
      ]
    },
    {
      "cell_type": "code",
      "execution_count": null,
      "metadata": {
        "colab": {
          "base_uri": "https://localhost:8080/"
        },
        "id": "bxaZPbffRGM6",
        "outputId": "4a9d7c71-cf28-472e-e8e4-146f28889826"
      },
      "outputs": [
        {
          "output_type": "execute_result",
          "data": {
            "text/plain": [
              "Title           0\n",
              "Author          0\n",
              "Edition         0\n",
              "Reviews         0\n",
              "Ratings         0\n",
              "Synopsis        0\n",
              "Genre           0\n",
              "BookCategory    0\n",
              "Price           0\n",
              "dtype: int64"
            ]
          },
          "metadata": {},
          "execution_count": 1187
        }
      ],
      "source": [
        "train_data.isnull().sum()"
      ]
    },
    {
      "cell_type": "code",
      "execution_count": null,
      "metadata": {
        "colab": {
          "base_uri": "https://localhost:8080/"
        },
        "id": "XcqCm0-fRSo4",
        "outputId": "edc6c46f-2cc6-4ca6-e200-2762a73f2ade"
      },
      "outputs": [
        {
          "output_type": "execute_result",
          "data": {
            "text/plain": [
              "Title           0\n",
              "Author          0\n",
              "Edition         0\n",
              "Reviews         0\n",
              "Ratings         0\n",
              "Synopsis        0\n",
              "Genre           0\n",
              "BookCategory    0\n",
              "dtype: int64"
            ]
          },
          "metadata": {},
          "execution_count": 1188
        }
      ],
      "source": [
        "test_data.isnull().sum()"
      ]
    },
    {
      "cell_type": "markdown",
      "metadata": {
        "id": "Te1oBmNHT2N5"
      },
      "source": [
        "## Looking at the target value ( Book Price)"
      ]
    },
    {
      "cell_type": "code",
      "execution_count": null,
      "metadata": {
        "colab": {
          "base_uri": "https://localhost:8080/"
        },
        "id": "DS4nhgKFRWSY",
        "outputId": "2a2e4ed4-5c89-4fcf-ef9c-b2da92064c50"
      },
      "outputs": [
        {
          "output_type": "execute_result",
          "data": {
            "text/plain": [
              "count     6237.000000\n",
              "mean       560.707516\n",
              "std        690.110657\n",
              "min         25.000000\n",
              "25%        249.180000\n",
              "50%        373.000000\n",
              "75%        599.000000\n",
              "max      14100.000000\n",
              "Name: Price, dtype: float64"
            ]
          },
          "metadata": {},
          "execution_count": 1189
        }
      ],
      "source": [
        "train_data.Price.describe()"
      ]
    },
    {
      "cell_type": "code",
      "execution_count": null,
      "metadata": {
        "colab": {
          "base_uri": "https://localhost:8080/",
          "height": 483
        },
        "id": "wOoYQzUOT2N5",
        "outputId": "56e73575-8e36-4836-cffd-8c31d1930613"
      },
      "outputs": [
        {
          "output_type": "display_data",
          "data": {
            "image/png": "[encoded data removed]",
            "text/plain": [
              "<Figure size 864x576 with 1 Axes>"
            ]
          },
          "metadata": {
            "needs_background": "light"
          }
        }
      ],
      "source": [
        "# import cufflinks as cf\n",
        "# import chart_studio.plotly as py\n",
        "# import plotly.express as px\n",
        "# import seaborn as sns\n",
        "# %matplotlib inline\n",
        "\n",
        "# from plotly.offline import download_plotlyjs, init_notebook_mode, plot, iplot\n",
        "# init_notebook_mode(connected=True)\n",
        "# cf.go_offline()\n",
        "\n",
        "\n",
        "# fig = px.histogram(train_data.Price, nbins=50,color_discrete_sequence=['orange'])\n",
        "\n",
        "# fig.update_layout(\n",
        "#     autosize=False,\n",
        "#     width=600,\n",
        "#     height=600)\n",
        "# fig.show()\n",
        "\n",
        "plt.hist(x=train_data.Price, bins=50 )\n",
        "\n",
        "plt.show()"
      ]
    },
    {
      "cell_type": "markdown",
      "metadata": {
        "id": "h5Y6Iv3mT2N6"
      },
      "source": [
        "# EDA"
      ]
    },
    {
      "cell_type": "markdown",
      "metadata": {
        "id": "OOWwn75nT2N6"
      },
      "source": [
        "## Edition Type"
      ]
    },
    {
      "cell_type": "code",
      "execution_count": null,
      "metadata": {
        "colab": {
          "base_uri": "https://localhost:8080/"
        },
        "id": "3W4hGw3LT2N7",
        "outputId": "0e21c24a-86b6-4921-bccc-904b896c1ba3"
      },
      "outputs": [
        {
          "output_type": "execute_result",
          "data": {
            "text/plain": [
              "Paperback       5353\n",
              "Hardcover        823\n",
              "music             24\n",
              "Flexibound        15\n",
              "Cards              8\n",
              "Spiral-bound       4\n",
              "Softcover          3\n",
              "Leaf               2\n",
              "book               1\n",
              "Bound              1\n",
              "Bundle             1\n",
              "Comb               1\n",
              "Binding            1\n",
              "Name: Edition_Type, dtype: int64"
            ]
          },
          "metadata": {},
          "execution_count": 1191
        }
      ],
      "source": [
        "train_data['Edition_Type'] = train_data['Edition'].apply(lambda x: x.split(',– ')[0])\n",
        "#train_data['Edition_type'] = train_data['Edition_Type'].apply(lambda x: x.split(',')[-1])\n",
        "train_data['Edition_Type'] = train_data['Edition_Type'].apply(lambda x: re.split(',| ',x)[-1])\n",
        "train_data['Edition_Type'].value_counts()"
      ]
    },
    {
      "cell_type": "markdown",
      "metadata": {
        "id": "KLy_bxpOT2N7"
      },
      "source": [
        "## Rating"
      ]
    },
    {
      "cell_type": "code",
      "execution_count": null,
      "metadata": {
        "id": "J489N8eOT2N7"
      },
      "outputs": [],
      "source": [
        "train_data['Rating'] = train_data['Reviews'].apply(lambda x: x.split(\" \")[0])\n",
        "#train_data"
      ]
    },
    {
      "cell_type": "code",
      "execution_count": null,
      "metadata": {
        "colab": {
          "base_uri": "https://localhost:8080/"
        },
        "id": "xYmvQQ9ST2N8",
        "outputId": "28ad9e1b-0c18-44b8-d2bf-a5fb77c8da17"
      },
      "outputs": [
        {
          "output_type": "execute_result",
          "data": {
            "text/plain": [
              "5.0    1375\n",
              "4.0     570\n",
              "4.5     507\n",
              "4.6     394\n",
              "4.4     389\n",
              "4.3     359\n",
              "4.7     343\n",
              "4.2     324\n",
              "4.1     310\n",
              "3.9     241\n",
              "4.8     222\n",
              "3.8     190\n",
              "3.7     167\n",
              "3.0     138\n",
              "3.5     115\n",
              "3.6     110\n",
              "3.4      75\n",
              "4.9      75\n",
              "3.3      57\n",
              "1.0      49\n",
              "3.1      49\n",
              "3.2      41\n",
              "2.0      39\n",
              "2.9      26\n",
              "2.5      18\n",
              "2.7      16\n",
              "2.8      10\n",
              "2.3       7\n",
              "1.5       5\n",
              "2.6       4\n",
              "2.4       4\n",
              "2.2       3\n",
              "1.4       2\n",
              "1.6       1\n",
              "1.7       1\n",
              "2.1       1\n",
              "Name: Rating, dtype: int64"
            ]
          },
          "metadata": {},
          "execution_count": 1193
        }
      ],
      "source": [
        "train_data['Rating'].value_counts()"
      ]
    },
    {
      "cell_type": "markdown",
      "metadata": {
        "id": "zltNRk7OT2N8"
      },
      "source": [
        "## Reviews Number"
      ]
    },
    {
      "cell_type": "code",
      "execution_count": null,
      "metadata": {
        "id": "SHL3NjnwT2N8"
      },
      "outputs": [],
      "source": [
        "train_data['Num_of_reviews'] = train_data['Ratings'].apply(lambda x : x.split(\" \")[0])"
      ]
    },
    {
      "cell_type": "markdown",
      "metadata": {
        "id": "KoMHhNnsT2N8"
      },
      "source": [
        "## Genre"
      ]
    },
    {
      "cell_type": "code",
      "execution_count": null,
      "metadata": {
        "colab": {
          "base_uri": "https://localhost:8080/"
        },
        "id": "FjJda-DxT2N8",
        "outputId": "cd1df8d5-5ac0-47a3-ace3-833d17bc53e8"
      },
      "outputs": [
        {
          "output_type": "execute_result",
          "data": {
            "text/plain": [
              "array(['Action & Adventure ', 'Cinema & Broadcast ',\n",
              "       'International Relations', 'Contemporary Fiction ',\n",
              "       'Photography Textbooks', 'Healthy Living & Wellness ',\n",
              "       'Crime, Thriller & Mystery ', 'Sports Training & Coaching ',\n",
              "       'Biographies & Autobiographies ', 'Asian History',\n",
              "       'Banks & Banking', 'Comics & Mangas ',\n",
              "       \"Children's Mysteries & Curiosities \", 'Mangas',\n",
              "       'Artificial Intelligence', 'Software & Business Applications ',\n",
              "       'German', 'International Business', 'Cricket ',\n",
              "       'Comics & Graphic Novels ', 'PC & Video Games ', 'Short Stories ',\n",
              "       'Astrology', 'Romance ', 'Design',\n",
              "       'Introductory & Beginning Programming', 'Travel ', 'Sports ',\n",
              "       'Communications', 'Foreign Languages', 'Linguistics ',\n",
              "       'Music Books', 'Outdoor Survival Skills ', 'True Accounts ',\n",
              "       'Literature', 'Society & Culture ',\n",
              "       'Industries & Business Sectors ', 'Programming Languages ',\n",
              "       'Media Studies', 'Indian Writing ',\n",
              "       'Networks & System Administration ', 'Classic Fiction ',\n",
              "       'Dictionaries', 'Computer Hardware & Handheld Devices ',\n",
              "       'Government ', 'Arts History, Theory & Criticism ',\n",
              "       'Science & Mathematics', 'Hunting ',\n",
              "       'Handicrafts, Decorative Arts & Crafts ', 'Inflation',\n",
              "       'Religious & Spiritual Fiction ', 'Law ', 'Vocabulary Books',\n",
              "       'Encyclopaedias & Reference Works ', 'IT Certification Exams',\n",
              "       'Sign Language Reference', 'Engineering & Technology ',\n",
              "       'Business Communication', 'IELTS', \"Children's Adventure \",\n",
              "       'Hinduism ', \"Children's Games, Toys & Activities \",\n",
              "       'Political Theory ', 'Investments & Securities',\n",
              "       \"Children's Historical Fiction \", 'Sustainable Development',\n",
              "       'Painting Textbooks', 'Economic Theory', 'Writing Guides ',\n",
              "       'Budget Travel', 'Biotechnology Engineering Textbooks', 'Sales',\n",
              "       'Computing, Internet & Digital Media ',\n",
              "       'Illustrated Travel Books ', 'Comics', 'Agriculture & Farming ',\n",
              "       \"Children's Crafts, Hobbies & Practical Interests \",\n",
              "       'Historical Fiction ', 'Language, Linguistics & Writing ', 'GRE',\n",
              "       'Reincarnation', 'Public Policy', \"Children's Reference \",\n",
              "       'Film & Television', 'Anthologies ',\n",
              "       'Personal Development & Self-Help ', 'Martial Arts ',\n",
              "       'Language & Linguistics',\n",
              "       'World African & Middle Eastern Literature', 'Soccer ', 'Grammar ',\n",
              "       'Asian Literature', 'Essays ', 'TOEFL', 'American Literature',\n",
              "       'GATE Exams', 'Language Learning & Teaching ',\n",
              "       'Political Ideologies ', 'Theater', 'Mind, Body & Spirit ',\n",
              "       'Earth Sciences Textbooks', 'Climbing & Mountaineering ',\n",
              "       'Programming Algorithms', 'Horse Racing ', 'Games & Quizzes ',\n",
              "       'Family & Relationships ', \"Children's Crime & Thriller \",\n",
              "       'Economics Books', 'Theatre & Spectacles ', 'Architecture ',\n",
              "       'Humour ', \"Children's Humour \", 'Internet & Web ', 'Horror ',\n",
              "       'Fantasy, Science Fiction & Horror ',\n",
              "       'Programming & Software Development ', 'Algorithms',\n",
              "       'Entrepreneurship', 'Computer Security ',\n",
              "       'Food, Drink & Entertaining ', 'Engineering', 'Anthropology ',\n",
              "       'History ', 'Computer Science Books', 'IGCSE',\n",
              "       'Visual C++ Programming', 'Visual Arts', \"Children's Fantasy \",\n",
              "       'Software Architecture', 'Teaching & Education',\n",
              "       'Public Speaking Reference', 'Public Health', 'Psychology ',\n",
              "       'United States History', 'Calculus', 'Political Parties ',\n",
              "       'Zoology', 'Neuroscience', 'Gender Studies', 'General Dentistry',\n",
              "       'Governmental', 'Economic History',\n",
              "       'History of Slavery & Emancipation',\n",
              "       'Economic Policy & Development', 'Astronomy ', 'Ethics', 'French',\n",
              "       'International Relations & Globalization ', 'Japanese',\n",
              "       'Software Design & Engineering', 'History & Surveys',\n",
              "       'Geography Textbooks', 'Crafts, Home & Lifestyle ',\n",
              "       'Economics Textbooks',\n",
              "       \"Children's Family, Personal & Social Issues \",\n",
              "       'Computer Databases ', 'Mathematics ',\n",
              "       'Political Freedom & Security ', 'Engineering Services Exams',\n",
              "       'Sporting Events & Organisations ', 'Spirituality',\n",
              "       \"Children's Painting, Arts & Music \", \"Children's & Young Adult \",\n",
              "       'American Football ', 'Rhetoric & Speech ', 'Motorcycle Racing',\n",
              "       'Study Guides', 'Mental & Spiritual Healing',\n",
              "       'Labor & Industrial Relations', 'Alternative Medicine ', 'FPC',\n",
              "       'Python Programming', 'Literature & Fiction ', 'Holocaust',\n",
              "       'Encyclopedias for Children', 'Politics ',\n",
              "       'Biographies, Diaries & True Accounts ', 'Literary Travel',\n",
              "       'Triathlon ', 'Travel & Holiday Guides ',\n",
              "       \"Children's Picture Books \", 'Travel with Pets', 'Reading Skills',\n",
              "       'Baseball ', 'Meditation', 'Transportation & Automotive ',\n",
              "       'Occupational Therapy', 'Journalism Books', 'PGMEE Exam',\n",
              "       'History of Religion ', 'Theory', 'Arts, Film & Photography ',\n",
              "       'Interface Design Programming', 'Combat Sports & Self-Defence ',\n",
              "       'Digital Media & Graphic Design ', 'Food & Lodging',\n",
              "       'Exam Preparation ', 'Military Sciences',\n",
              "       'Colonialism & Imperialism History', 'Education & Training',\n",
              "       'Operating Systems Textbooks', 'Software Testing', 'Networking ',\n",
              "       'Diaries, Letters & Journals ', 'Biology Books',\n",
              "       'Government Exams', 'Society & Social Sciences ',\n",
              "       'Physician & Patient', 'International Baccalaureate', 'Rugby ',\n",
              "       'Design & Fashion ', 'Plays ', 'Aeronautical Engineering',\n",
              "       'Business & Economics ', 'Literature Encyclopedias',\n",
              "       'Environmental Economics',\n",
              "       'Intolerance, Persecution & Fundamentalism', 'Islam ',\n",
              "       'Myths, Legends & Sagas ', 'Golf ', 'European History', 'Pets ',\n",
              "       'Italian', 'Geometry', 'Physics ', 'Interview Preparation',\n",
              "       'Gay & Lesbian Studies', 'Swimming, Snorkelling & Diving ',\n",
              "       'History of Ideas', 'Religion ',\n",
              "       'Sciences, Technology & Medicine ', 'Internal Medicine',\n",
              "       'Pool, Billiards & Snooker ', 'Humanities',\n",
              "       'Library & Information Science', \"Children's Traditional Stories \",\n",
              "       'Business, Strategy & Management ', 'Ecotourism',\n",
              "       'Anatomy & Physiology', 'Target Shooting ',\n",
              "       'Political Structure & Processes ', 'Environmental Engineering',\n",
              "       'Social Sciences', 'English Literature',\n",
              "       'Microeconomics Textbooks', 'Social Welfare & Social Services ',\n",
              "       'Alphabet Reference', 'Business Ethics',\n",
              "       'History of Civilization & Culture', 'Public Administration ',\n",
              "       'Civil Rights', 'CSS Programming', 'Management',\n",
              "       'Fishing & Angling ', 'Algebra & Trigonometry', 'Immunology',\n",
              "       'Bodybuilding & Weightlifting ', 'Chemistry Books',\n",
              "       'Music Textbooks', 'Gymnastics ', 'Sociology ',\n",
              "       'Communication Reference', 'Neurology',\n",
              "       'XHTML Software Programming', 'Operating Systems Books',\n",
              "       'International Entrance Exams', 'Sikhism ',\n",
              "       'Environmental Studies', 'Americas', 'Developmental Psychology',\n",
              "       'Development & Growth', 'Urban & Regional',\n",
              "       'Structural Engineering', 'Cold War', 'Painting Books',\n",
              "       'Graphics & Visualization', 'Marathon & Running ',\n",
              "       'Walking, Hiking & Trekking ', 'Vascular Surgery', 'Readers',\n",
              "       \"Children's Language Learning \", 'Art History',\n",
              "       \"Young Adults' Money & Jobs \", 'Dance ', 'Car Racing ',\n",
              "       'Design Pattern Programming', 'Basketball ', 'Buddhism ',\n",
              "       'Electrical & Electronic Engineering', 'Ancient History ',\n",
              "       'Astronomy & Astrophysics', \"Children's Horror & Ghost Stories \",\n",
              "       'Translation Reference', 'Biomedical Engineering',\n",
              "       'Sports Medicine', 'SSC Exam', 'Ecology', 'Sailing ',\n",
              "       'Middle Eastern History',\n",
              "       \"Children's Science, Nature & Technology \", 'Camping & Woodcraft ',\n",
              "       'Macroeconomics Textbooks', 'Nuclear Engineering',\n",
              "       'Home & House Maintenance ', 'Textbooks & Study Guides',\n",
              "       'Public Affairs', 'Archery ',\n",
              "       'Words, Language & Grammar Reference', 'Active Outdoor Pursuits ',\n",
              "       \"Children's Science Fiction \", 'European History Textbooks',\n",
              "       'Art Encyclopedias', 'Flash Cards',\n",
              "       'Object-Oriented Software Design', 'Waste Management', 'Speech',\n",
              "       'API & Operating Environments',\n",
              "       'Radiological & Ultrasound Technology',\n",
              "       'Software Programming Compilers', 'Biology & Life Sciences',\n",
              "       'Workbooks', 'Hockey', 'Medicine`', 'History of Ancient Greece',\n",
              "       'CBSE', 'SAT', \"Children's History \", 'Atheism',\n",
              "       'Industrial Engineering', 'Medical Dictionaries', 'GMAT',\n",
              "       'Aesthetics', 'Reference ', 'Literary Theory', 'Rome',\n",
              "       'Essay, Letter & Review Writing', 'Mysticism', \"Children's Sport \",\n",
              "       'Economic Conditions', 'C# Programming', 'Game Programming',\n",
              "       'Specialty Travel', 'Oncology', 'Constitutional Law',\n",
              "       'Air Sports '], dtype=object)"
            ]
          },
          "metadata": {},
          "execution_count": 1195
        }
      ],
      "source": [
        "train_data['Genre'] = train_data['Genre'].apply( lambda x: x.replace(\"(Books)\", \"\") )\n",
        "train_data['Genre'].unique()"
      ]
    },
    {
      "cell_type": "code",
      "execution_count": null,
      "metadata": {
        "colab": {
          "base_uri": "https://localhost:8080/"
        },
        "id": "dgiLy-CzT2N9",
        "outputId": "854e69ef-cd6a-4fbf-9507-bdc90ef99ad5"
      },
      "outputs": [
        {
          "output_type": "execute_result",
          "data": {
            "text/plain": [
              "345"
            ]
          },
          "metadata": {},
          "execution_count": 1196
        }
      ],
      "source": [
        "train_data['Genre'].nunique()"
      ]
    },
    {
      "cell_type": "markdown",
      "metadata": {
        "id": "POjPkMDnT2N9"
      },
      "source": [
        "## Year"
      ]
    },
    {
      "cell_type": "code",
      "execution_count": null,
      "metadata": {
        "id": "dkrAlri6T2N9"
      },
      "outputs": [],
      "source": [
        "#train_data['Edition'].str.split(\" \")"
      ]
    },
    {
      "cell_type": "code",
      "execution_count": null,
      "metadata": {
        "colab": {
          "base_uri": "https://localhost:8080/"
        },
        "id": "IhAIpAM3T2N9",
        "outputId": "4c77782a-ab88-4149-dd33-1ac6da24db26"
      },
      "outputs": [
        {
          "output_type": "execute_result",
          "data": {
            "text/plain": [
              "2018    832\n",
              "2017    757\n",
              "2016    659\n",
              "2015    519\n",
              "2014    402\n",
              "2013    388\n",
              "2019    361\n",
              "2012    304\n",
              "2011    267\n",
              "2010    235\n",
              "2009    182\n",
              "2008    163\n",
              "2005    125\n",
              "2006    110\n",
              "2007    108\n",
              "2003     99\n",
              "2004     85\n",
              "2002     72\n",
              "2000     69\n",
              "2001     66\n",
              "1999     39\n",
              "1997     33\n",
              "1994     33\n",
              "1998     31\n",
              "1992     31\n",
              "1995     30\n",
              "1996     27\n",
              "1993     22\n",
              "1989     20\n",
              "1991     19\n",
              "1986     16\n",
              "1988     15\n",
              "1984     15\n",
              "1990     14\n",
              "1982     14\n",
              "1987     13\n",
              "1983     10\n",
              "1985     10\n",
              "1976      6\n",
              "1980      5\n",
              "1975      4\n",
              "1971      4\n",
              "1974      3\n",
              "1977      3\n",
              "1964      3\n",
              "1979      2\n",
              "1960      2\n",
              "1978      2\n",
              "1905      1\n",
              "1973      1\n",
              "1970      1\n",
              "1925      1\n",
              "1961      1\n",
              "1981      1\n",
              "1969      1\n",
              "1900      1\n",
              "Name: Year, dtype: int64"
            ]
          },
          "metadata": {},
          "execution_count": 1198
        }
      ],
      "source": [
        "train_data['Year'] = train_data['Edition'].apply(lambda x : x.split(\" \")[-1] if x.split()[-1].isdigit() else '2018')\n",
        "train_data['Year'].value_counts()"
      ]
    },
    {
      "cell_type": "code",
      "execution_count": null,
      "metadata": {
        "colab": {
          "base_uri": "https://localhost:8080/",
          "height": 871
        },
        "id": "nmXUlW3dT2N-",
        "outputId": "98faa057-7489-46da-ad11-abd98f0da7a6"
      },
      "outputs": [
        {
          "output_type": "execute_result",
          "data": {
            "text/html": [
              "\n",
              "  <div id=\"df-e43912c0-3ecb-488b-8d4a-78a31b70b478\">\n",
              "    <div class=\"colab-df-container\">\n",
              "      <div>\n",
              "<style scoped>\n",
              "    .dataframe tbody tr th:only-of-type {\n",
              "        vertical-align: middle;\n",
              "    }\n",
              "\n",
              "    .dataframe tbody tr th {\n",
              "        vertical-align: top;\n",
              "    }\n",
              "\n",
              "    .dataframe thead th {\n",
              "        text-align: right;\n",
              "    }\n",
              "</style>\n",
              "<table border=\"1\" class=\"dataframe\">\n",
              "  <thead>\n",
              "    <tr style=\"text-align: right;\">\n",
              "      <th></th>\n",
              "      <th>Title</th>\n",
              "      <th>Author</th>\n",
              "      <th>Edition</th>\n",
              "      <th>Reviews</th>\n",
              "      <th>Ratings</th>\n",
              "      <th>Synopsis</th>\n",
              "      <th>Genre</th>\n",
              "      <th>BookCategory</th>\n",
              "      <th>Price</th>\n",
              "      <th>Edition_Type</th>\n",
              "      <th>Rating</th>\n",
              "      <th>Num_of_reviews</th>\n",
              "      <th>Year</th>\n",
              "    </tr>\n",
              "  </thead>\n",
              "  <tbody>\n",
              "    <tr>\n",
              "      <th>0</th>\n",
              "      <td>The Prisoner's Gold (The Hunters 3)</td>\n",
              "      <td>Chris Kuzneski</td>\n",
              "      <td>Paperback,– 10 Mar 2016</td>\n",
              "      <td>4.0 out of 5 stars</td>\n",
              "      <td>8 customer reviews</td>\n",
              "      <td>THE HUNTERS return in their third brilliant no...</td>\n",
              "      <td>Action &amp; Adventure</td>\n",
              "      <td>Action &amp; Adventure</td>\n",
              "      <td>220.00</td>\n",
              "      <td>Paperback</td>\n",
              "      <td>4.0</td>\n",
              "      <td>8</td>\n",
              "      <td>2016</td>\n",
              "    </tr>\n",
              "    <tr>\n",
              "      <th>1</th>\n",
              "      <td>Guru Dutt: A Tragedy in Three Acts</td>\n",
              "      <td>Arun Khopkar</td>\n",
              "      <td>Paperback,– 7 Nov 2012</td>\n",
              "      <td>3.9 out of 5 stars</td>\n",
              "      <td>14 customer reviews</td>\n",
              "      <td>A layered portrait of a troubled genius for wh...</td>\n",
              "      <td>Cinema &amp; Broadcast</td>\n",
              "      <td>Biographies, Diaries &amp; True Accounts</td>\n",
              "      <td>202.93</td>\n",
              "      <td>Paperback</td>\n",
              "      <td>3.9</td>\n",
              "      <td>14</td>\n",
              "      <td>2012</td>\n",
              "    </tr>\n",
              "    <tr>\n",
              "      <th>2</th>\n",
              "      <td>Leviathan (Penguin Classics)</td>\n",
              "      <td>Thomas Hobbes</td>\n",
              "      <td>Paperback,– 25 Feb 1982</td>\n",
              "      <td>4.8 out of 5 stars</td>\n",
              "      <td>6 customer reviews</td>\n",
              "      <td>\"During the time men live without a common Pow...</td>\n",
              "      <td>International Relations</td>\n",
              "      <td>Humour</td>\n",
              "      <td>299.00</td>\n",
              "      <td>Paperback</td>\n",
              "      <td>4.8</td>\n",
              "      <td>6</td>\n",
              "      <td>1982</td>\n",
              "    </tr>\n",
              "    <tr>\n",
              "      <th>3</th>\n",
              "      <td>A Pocket Full of Rye (Miss Marple)</td>\n",
              "      <td>Agatha Christie</td>\n",
              "      <td>Paperback,– 5 Oct 2017</td>\n",
              "      <td>4.1 out of 5 stars</td>\n",
              "      <td>13 customer reviews</td>\n",
              "      <td>A handful of grain is found in the pocket of a...</td>\n",
              "      <td>Contemporary Fiction</td>\n",
              "      <td>Crime, Thriller &amp; Mystery</td>\n",
              "      <td>180.00</td>\n",
              "      <td>Paperback</td>\n",
              "      <td>4.1</td>\n",
              "      <td>13</td>\n",
              "      <td>2017</td>\n",
              "    </tr>\n",
              "    <tr>\n",
              "      <th>4</th>\n",
              "      <td>LIFE 70 Years of Extraordinary Photography</td>\n",
              "      <td>Editors of Life</td>\n",
              "      <td>Hardcover,– 10 Oct 2006</td>\n",
              "      <td>5.0 out of 5 stars</td>\n",
              "      <td>1 customer review</td>\n",
              "      <td>For seven decades, \"Life\" has been thrilling t...</td>\n",
              "      <td>Photography Textbooks</td>\n",
              "      <td>Arts, Film &amp; Photography</td>\n",
              "      <td>965.62</td>\n",
              "      <td>Hardcover</td>\n",
              "      <td>5.0</td>\n",
              "      <td>1</td>\n",
              "      <td>2006</td>\n",
              "    </tr>\n",
              "    <tr>\n",
              "      <th>...</th>\n",
              "      <td>...</td>\n",
              "      <td>...</td>\n",
              "      <td>...</td>\n",
              "      <td>...</td>\n",
              "      <td>...</td>\n",
              "      <td>...</td>\n",
              "      <td>...</td>\n",
              "      <td>...</td>\n",
              "      <td>...</td>\n",
              "      <td>...</td>\n",
              "      <td>...</td>\n",
              "      <td>...</td>\n",
              "      <td>...</td>\n",
              "    </tr>\n",
              "    <tr>\n",
              "      <th>6232</th>\n",
              "      <td>Humans: A Brief History of How We F*cked It Al...</td>\n",
              "      <td>Tom Phillips</td>\n",
              "      <td>Paperback,– 8 Aug 2018</td>\n",
              "      <td>5.0 out of 5 stars</td>\n",
              "      <td>2 customer reviews</td>\n",
              "      <td>'F*cking brilliant' Sarah Knight\\n'Very funny'...</td>\n",
              "      <td>Anthropology</td>\n",
              "      <td>Humour</td>\n",
              "      <td>322.00</td>\n",
              "      <td>Paperback</td>\n",
              "      <td>5.0</td>\n",
              "      <td>2</td>\n",
              "      <td>2018</td>\n",
              "    </tr>\n",
              "    <tr>\n",
              "      <th>6233</th>\n",
              "      <td>The Chemist</td>\n",
              "      <td>Stephenie Meyer</td>\n",
              "      <td>Paperback,– 21 Nov 2016</td>\n",
              "      <td>3.3 out of 5 stars</td>\n",
              "      <td>9 customer reviews</td>\n",
              "      <td>In this gripping page-turner, an ex-agent on t...</td>\n",
              "      <td>Contemporary Fiction</td>\n",
              "      <td>Crime, Thriller &amp; Mystery</td>\n",
              "      <td>421.00</td>\n",
              "      <td>Paperback</td>\n",
              "      <td>3.3</td>\n",
              "      <td>9</td>\n",
              "      <td>2016</td>\n",
              "    </tr>\n",
              "    <tr>\n",
              "      <th>6234</th>\n",
              "      <td>The Duke And I: Number 1 in series (Bridgerton...</td>\n",
              "      <td>Julia Quinn</td>\n",
              "      <td>Paperback,– 8 Jun 2006</td>\n",
              "      <td>3.8 out of 5 stars</td>\n",
              "      <td>3 customer reviews</td>\n",
              "      <td>'The most refreshing and radiant love story yo...</td>\n",
              "      <td>Romance</td>\n",
              "      <td>Romance</td>\n",
              "      <td>399.00</td>\n",
              "      <td>Paperback</td>\n",
              "      <td>3.8</td>\n",
              "      <td>3</td>\n",
              "      <td>2006</td>\n",
              "    </tr>\n",
              "    <tr>\n",
              "      <th>6235</th>\n",
              "      <td>Frostfire (Kanin Chronicles)</td>\n",
              "      <td>Amanda Hocking</td>\n",
              "      <td>Paperback,– 15 Jan 2015</td>\n",
              "      <td>3.5 out of 5 stars</td>\n",
              "      <td>4 customer reviews</td>\n",
              "      <td>Frostfire by Amanda Hocking is the stunning fi...</td>\n",
              "      <td>Action &amp; Adventure</td>\n",
              "      <td>Action &amp; Adventure</td>\n",
              "      <td>319.00</td>\n",
              "      <td>Paperback</td>\n",
              "      <td>3.5</td>\n",
              "      <td>4</td>\n",
              "      <td>2015</td>\n",
              "    </tr>\n",
              "    <tr>\n",
              "      <th>6236</th>\n",
              "      <td>The First Order (Sam Capra)</td>\n",
              "      <td>Jeff Abbott</td>\n",
              "      <td>Paperback,– 21 Dec 2016</td>\n",
              "      <td>3.9 out of 5 stars</td>\n",
              "      <td>2 customer reviews</td>\n",
              "      <td>Six years ago, Sam Capra watched his brother, ...</td>\n",
              "      <td>Action &amp; Adventure</td>\n",
              "      <td>Action &amp; Adventure</td>\n",
              "      <td>452.00</td>\n",
              "      <td>Paperback</td>\n",
              "      <td>3.9</td>\n",
              "      <td>2</td>\n",
              "      <td>2016</td>\n",
              "    </tr>\n",
              "  </tbody>\n",
              "</table>\n",
              "<p>6237 rows × 13 columns</p>\n",
              "</div>\n",
              "      <button class=\"colab-df-convert\" onclick=\"convertToInteractive('df-e43912c0-3ecb-488b-8d4a-78a31b70b478')\"\n",
              "              title=\"Convert this dataframe to an interactive table.\"\n",
              "              style=\"display:none;\">\n",
              "        \n",
              "  <svg xmlns=\"http://www.w3.org/2000/svg\" height=\"24px\"viewBox=\"0 0 24 24\"\n",
              "       width=\"24px\">\n",
              "    <path d=\"M0 0h24v24H0V0z\" fill=\"none\"/>\n",
              "    <path d=\"M18.56 5.44l.94 2.06.94-2.06 2.06-.94-2.06-.94-.94-2.06-.94 2.06-2.06.94zm-11 1L8.5 8.5l.94-2.06 2.06-.94-2.06-.94L8.5 2.5l-.94 2.06-2.06.94zm10 10l.94 2.06.94-2.06 2.06-.94-2.06-.94-.94-2.06-.94 2.06-2.06.94z\"/><path d=\"M17.41 7.96l-1.37-1.37c-.4-.4-.92-.59-1.43-.59-.52 0-1.04.2-1.43.59L10.3 9.45l-7.72 7.72c-.78.78-.78 2.05 0 2.83L4 21.41c.39.39.9.59 1.41.59.51 0 1.02-.2 1.41-.59l7.78-7.78 2.81-2.81c.8-.78.8-2.07 0-2.86zM5.41 20L4 18.59l7.72-7.72 1.47 1.35L5.41 20z\"/>\n",
              "  </svg>\n",
              "      </button>\n",
              "      \n",
              "  <style>\n",
              "    .colab-df-container {\n",
              "      display:flex;\n",
              "      flex-wrap:wrap;\n",
              "      gap: 12px;\n",
              "    }\n",
              "\n",
              "    .colab-df-convert {\n",
              "      background-color: #E8F0FE;\n",
              "      border: none;\n",
              "      border-radius: 50%;\n",
              "      cursor: pointer;\n",
              "      display: none;\n",
              "      fill: #1967D2;\n",
              "      height: 32px;\n",
              "      padding: 0 0 0 0;\n",
              "      width: 32px;\n",
              "    }\n",
              "\n",
              "    .colab-df-convert:hover {\n",
              "      background-color: #E2EBFA;\n",
              "      box-shadow: 0px 1px 2px rgba(60, 64, 67, 0.3), 0px 1px 3px 1px rgba(60, 64, 67, 0.15);\n",
              "      fill: #174EA6;\n",
              "    }\n",
              "\n",
              "    [theme=dark] .colab-df-convert {\n",
              "      background-color: #3B4455;\n",
              "      fill: #D2E3FC;\n",
              "    }\n",
              "\n",
              "    [theme=dark] .colab-df-convert:hover {\n",
              "      background-color: #434B5C;\n",
              "      box-shadow: 0px 1px 3px 1px rgba(0, 0, 0, 0.15);\n",
              "      filter: drop-shadow(0px 1px 2px rgba(0, 0, 0, 0.3));\n",
              "      fill: #FFFFFF;\n",
              "    }\n",
              "  </style>\n",
              "\n",
              "      <script>\n",
              "        const buttonEl =\n",
              "          document.querySelector('#df-e43912c0-3ecb-488b-8d4a-78a31b70b478 button.colab-df-convert');\n",
              "        buttonEl.style.display =\n",
              "          google.colab.kernel.accessAllowed ? 'block' : 'none';\n",
              "\n",
              "        async function convertToInteractive(key) {\n",
              "          const element = document.querySelector('#df-e43912c0-3ecb-488b-8d4a-78a31b70b478');\n",
              "          const dataTable =\n",
              "            await google.colab.kernel.invokeFunction('convertToInteractive',\n",
              "                                                     [key], {});\n",
              "          if (!dataTable) return;\n",
              "\n",
              "          const docLinkHtml = 'Like what you see? Visit the ' +\n",
              "            '<a target=\"_blank\" href=https://colab.research.google.com/notebooks/data_table.ipynb>data table notebook</a>'\n",
              "            + ' to learn more about interactive tables.';\n",
              "          element.innerHTML = '';\n",
              "          dataTable['output_type'] = 'display_data';\n",
              "          await google.colab.output.renderOutput(dataTable, element);\n",
              "          const docLink = document.createElement('div');\n",
              "          docLink.innerHTML = docLinkHtml;\n",
              "          element.appendChild(docLink);\n",
              "        }\n",
              "      </script>\n",
              "    </div>\n",
              "  </div>\n",
              "  "
            ],
            "text/plain": [
              "                                                  Title           Author  \\\n",
              "0                   The Prisoner's Gold (The Hunters 3)   Chris Kuzneski   \n",
              "1                    Guru Dutt: A Tragedy in Three Acts     Arun Khopkar   \n",
              "2                          Leviathan (Penguin Classics)    Thomas Hobbes   \n",
              "3                    A Pocket Full of Rye (Miss Marple)  Agatha Christie   \n",
              "4            LIFE 70 Years of Extraordinary Photography  Editors of Life   \n",
              "...                                                 ...              ...   \n",
              "6232  Humans: A Brief History of How We F*cked It Al...     Tom Phillips   \n",
              "6233                                        The Chemist  Stephenie Meyer   \n",
              "6234  The Duke And I: Number 1 in series (Bridgerton...      Julia Quinn   \n",
              "6235                       Frostfire (Kanin Chronicles)   Amanda Hocking   \n",
              "6236                        The First Order (Sam Capra)      Jeff Abbott   \n",
              "\n",
              "                      Edition             Reviews              Ratings  \\\n",
              "0     Paperback,– 10 Mar 2016  4.0 out of 5 stars   8 customer reviews   \n",
              "1      Paperback,– 7 Nov 2012  3.9 out of 5 stars  14 customer reviews   \n",
              "2     Paperback,– 25 Feb 1982  4.8 out of 5 stars   6 customer reviews   \n",
              "3      Paperback,– 5 Oct 2017  4.1 out of 5 stars  13 customer reviews   \n",
              "4     Hardcover,– 10 Oct 2006  5.0 out of 5 stars    1 customer review   \n",
              "...                       ...                 ...                  ...   \n",
              "6232   Paperback,– 8 Aug 2018  5.0 out of 5 stars   2 customer reviews   \n",
              "6233  Paperback,– 21 Nov 2016  3.3 out of 5 stars   9 customer reviews   \n",
              "6234   Paperback,– 8 Jun 2006  3.8 out of 5 stars   3 customer reviews   \n",
              "6235  Paperback,– 15 Jan 2015  3.5 out of 5 stars   4 customer reviews   \n",
              "6236  Paperback,– 21 Dec 2016  3.9 out of 5 stars   2 customer reviews   \n",
              "\n",
              "                                               Synopsis  \\\n",
              "0     THE HUNTERS return in their third brilliant no...   \n",
              "1     A layered portrait of a troubled genius for wh...   \n",
              "2     \"During the time men live without a common Pow...   \n",
              "3     A handful of grain is found in the pocket of a...   \n",
              "4     For seven decades, \"Life\" has been thrilling t...   \n",
              "...                                                 ...   \n",
              "6232  'F*cking brilliant' Sarah Knight\\n'Very funny'...   \n",
              "6233  In this gripping page-turner, an ex-agent on t...   \n",
              "6234  'The most refreshing and radiant love story yo...   \n",
              "6235  Frostfire by Amanda Hocking is the stunning fi...   \n",
              "6236  Six years ago, Sam Capra watched his brother, ...   \n",
              "\n",
              "                        Genre                          BookCategory   Price  \\\n",
              "0         Action & Adventure                     Action & Adventure  220.00   \n",
              "1         Cinema & Broadcast   Biographies, Diaries & True Accounts  202.93   \n",
              "2     International Relations                                Humour  299.00   \n",
              "3       Contemporary Fiction              Crime, Thriller & Mystery  180.00   \n",
              "4       Photography Textbooks              Arts, Film & Photography  965.62   \n",
              "...                       ...                                   ...     ...   \n",
              "6232            Anthropology                                 Humour  322.00   \n",
              "6233    Contemporary Fiction              Crime, Thriller & Mystery  421.00   \n",
              "6234                 Romance                                Romance  399.00   \n",
              "6235      Action & Adventure                     Action & Adventure  319.00   \n",
              "6236      Action & Adventure                     Action & Adventure  452.00   \n",
              "\n",
              "     Edition_Type Rating Num_of_reviews  Year  \n",
              "0       Paperback    4.0              8  2016  \n",
              "1       Paperback    3.9             14  2012  \n",
              "2       Paperback    4.8              6  1982  \n",
              "3       Paperback    4.1             13  2017  \n",
              "4       Hardcover    5.0              1  2006  \n",
              "...           ...    ...            ...   ...  \n",
              "6232    Paperback    5.0              2  2018  \n",
              "6233    Paperback    3.3              9  2016  \n",
              "6234    Paperback    3.8              3  2006  \n",
              "6235    Paperback    3.5              4  2015  \n",
              "6236    Paperback    3.9              2  2016  \n",
              "\n",
              "[6237 rows x 13 columns]"
            ]
          },
          "metadata": {},
          "execution_count": 1199
        }
      ],
      "source": [
        "train_data"
      ]
    },
    {
      "cell_type": "markdown",
      "metadata": {
        "id": "W7BmA22XT2N-"
      },
      "source": [
        "## Repeat for test data"
      ]
    },
    {
      "cell_type": "code",
      "execution_count": null,
      "metadata": {
        "colab": {
          "base_uri": "https://localhost:8080/",
          "height": 888
        },
        "id": "G52VvQd1T2N-",
        "outputId": "7987ee61-d4d1-4b3d-f815-83be21f657b8"
      },
      "outputs": [
        {
          "output_type": "execute_result",
          "data": {
            "text/html": [
              "\n",
              "  <div id=\"df-f0bcd917-fe8a-4835-ac95-5c1b49d61a04\">\n",
              "    <div class=\"colab-df-container\">\n",
              "      <div>\n",
              "<style scoped>\n",
              "    .dataframe tbody tr th:only-of-type {\n",
              "        vertical-align: middle;\n",
              "    }\n",
              "\n",
              "    .dataframe tbody tr th {\n",
              "        vertical-align: top;\n",
              "    }\n",
              "\n",
              "    .dataframe thead th {\n",
              "        text-align: right;\n",
              "    }\n",
              "</style>\n",
              "<table border=\"1\" class=\"dataframe\">\n",
              "  <thead>\n",
              "    <tr style=\"text-align: right;\">\n",
              "      <th></th>\n",
              "      <th>Title</th>\n",
              "      <th>Author</th>\n",
              "      <th>Edition</th>\n",
              "      <th>Reviews</th>\n",
              "      <th>Ratings</th>\n",
              "      <th>Synopsis</th>\n",
              "      <th>Genre</th>\n",
              "      <th>BookCategory</th>\n",
              "      <th>Edition_Type</th>\n",
              "      <th>Rating</th>\n",
              "      <th>Num_of_reviews</th>\n",
              "      <th>Year</th>\n",
              "    </tr>\n",
              "  </thead>\n",
              "  <tbody>\n",
              "    <tr>\n",
              "      <th>0</th>\n",
              "      <td>The Complete Sherlock Holmes: 2 Boxes sets</td>\n",
              "      <td>Sir Arthur Conan Doyle</td>\n",
              "      <td>Mass Market Paperback,– 1 Oct 1986</td>\n",
              "      <td>4.4 out of 5 stars</td>\n",
              "      <td>960 customer reviews</td>\n",
              "      <td>A collection of entire body of work of the She...</td>\n",
              "      <td>Short Stories</td>\n",
              "      <td>Crime, Thriller &amp; Mystery</td>\n",
              "      <td>Paperback</td>\n",
              "      <td>4.4</td>\n",
              "      <td>960</td>\n",
              "      <td>1986</td>\n",
              "    </tr>\n",
              "    <tr>\n",
              "      <th>1</th>\n",
              "      <td>Learn Docker - Fundamentals of Docker 18.x: Ev...</td>\n",
              "      <td>Gabriel N. Schenker</td>\n",
              "      <td>Paperback,– Import, 26 Apr 2018</td>\n",
              "      <td>5.0 out of 5 stars</td>\n",
              "      <td>1 customer review</td>\n",
              "      <td>Enhance your software deployment workflow usin...</td>\n",
              "      <td>Operating Systems Textbooks</td>\n",
              "      <td>Computing, Internet &amp; Digital Media</td>\n",
              "      <td>Paperback</td>\n",
              "      <td>5.0</td>\n",
              "      <td>1</td>\n",
              "      <td>2018</td>\n",
              "    </tr>\n",
              "    <tr>\n",
              "      <th>2</th>\n",
              "      <td>Big Girl</td>\n",
              "      <td>Danielle Steel</td>\n",
              "      <td>Paperback,– 17 Mar 2011</td>\n",
              "      <td>5.0 out of 5 stars</td>\n",
              "      <td>4 customer reviews</td>\n",
              "      <td>'Watch out, world. Here I come!'\\nFor Victoria...</td>\n",
              "      <td>Romance</td>\n",
              "      <td>Romance</td>\n",
              "      <td>Paperback</td>\n",
              "      <td>5.0</td>\n",
              "      <td>4</td>\n",
              "      <td>2011</td>\n",
              "    </tr>\n",
              "    <tr>\n",
              "      <th>3</th>\n",
              "      <td>Think Python: How to Think Like a Computer Sci...</td>\n",
              "      <td>Allen B. Downey</td>\n",
              "      <td>Paperback,– 2016</td>\n",
              "      <td>4.1 out of 5 stars</td>\n",
              "      <td>11 customer reviews</td>\n",
              "      <td>If you want to learn how to program, working w...</td>\n",
              "      <td>Programming &amp; Software Development</td>\n",
              "      <td>Computing, Internet &amp; Digital Media</td>\n",
              "      <td>Paperback</td>\n",
              "      <td>4.1</td>\n",
              "      <td>11</td>\n",
              "      <td>2016</td>\n",
              "    </tr>\n",
              "    <tr>\n",
              "      <th>4</th>\n",
              "      <td>Oxford Word Skills: Advanced - Idioms &amp; Phrasa...</td>\n",
              "      <td>Redman Gairns</td>\n",
              "      <td>Paperback,– 26 Dec 2011</td>\n",
              "      <td>4.4 out of 5 stars</td>\n",
              "      <td>9 customer reviews</td>\n",
              "      <td>Learn and practise the verbs, prepositions and...</td>\n",
              "      <td>Linguistics</td>\n",
              "      <td>Language, Linguistics &amp; Writing</td>\n",
              "      <td>Paperback</td>\n",
              "      <td>4.4</td>\n",
              "      <td>9</td>\n",
              "      <td>2011</td>\n",
              "    </tr>\n",
              "    <tr>\n",
              "      <th>...</th>\n",
              "      <td>...</td>\n",
              "      <td>...</td>\n",
              "      <td>...</td>\n",
              "      <td>...</td>\n",
              "      <td>...</td>\n",
              "      <td>...</td>\n",
              "      <td>...</td>\n",
              "      <td>...</td>\n",
              "      <td>...</td>\n",
              "      <td>...</td>\n",
              "      <td>...</td>\n",
              "      <td>...</td>\n",
              "    </tr>\n",
              "    <tr>\n",
              "      <th>1555</th>\n",
              "      <td>100 Things Every Designer Needs to Know About ...</td>\n",
              "      <td>Susan Weinschenk</td>\n",
              "      <td>Paperback,– 14 Apr 2011</td>\n",
              "      <td>5.0 out of 5 stars</td>\n",
              "      <td>4 customer reviews</td>\n",
              "      <td>We design to elicit responses from people. We ...</td>\n",
              "      <td>Design</td>\n",
              "      <td>Computing, Internet &amp; Digital Media</td>\n",
              "      <td>Paperback</td>\n",
              "      <td>5.0</td>\n",
              "      <td>4</td>\n",
              "      <td>2011</td>\n",
              "    </tr>\n",
              "    <tr>\n",
              "      <th>1556</th>\n",
              "      <td>Modern Letter Writing Course: Personal, Busine...</td>\n",
              "      <td>ARUN SAGAR</td>\n",
              "      <td>Paperback,– 8 May 2013</td>\n",
              "      <td>3.6 out of 5 stars</td>\n",
              "      <td>13 customer reviews</td>\n",
              "      <td>A 30-day course to write simple, sharp and att...</td>\n",
              "      <td>Children's Reference</td>\n",
              "      <td>Biographies, Diaries &amp; True Accounts</td>\n",
              "      <td>Paperback</td>\n",
              "      <td>3.6</td>\n",
              "      <td>13</td>\n",
              "      <td>2013</td>\n",
              "    </tr>\n",
              "    <tr>\n",
              "      <th>1557</th>\n",
              "      <td>The Kite Runner Graphic Novel</td>\n",
              "      <td>Khaled Hosseini</td>\n",
              "      <td>Paperback,– 6 Sep 2011</td>\n",
              "      <td>4.0 out of 5 stars</td>\n",
              "      <td>5 customer reviews</td>\n",
              "      <td>The perennial bestseller-now available as a se...</td>\n",
              "      <td>Humour</td>\n",
              "      <td>Humour</td>\n",
              "      <td>Paperback</td>\n",
              "      <td>4.0</td>\n",
              "      <td>5</td>\n",
              "      <td>2011</td>\n",
              "    </tr>\n",
              "    <tr>\n",
              "      <th>1558</th>\n",
              "      <td>Panzer Leader (Penguin World War II Collection)</td>\n",
              "      <td>Heinz Guderian</td>\n",
              "      <td>Paperback,– 22 Sep 2009</td>\n",
              "      <td>3.5 out of 5 stars</td>\n",
              "      <td>3 customer reviews</td>\n",
              "      <td>Heinz Guderian - master of the Blitzkrieg and ...</td>\n",
              "      <td>United States History</td>\n",
              "      <td>Biographies, Diaries &amp; True Accounts</td>\n",
              "      <td>Paperback</td>\n",
              "      <td>3.5</td>\n",
              "      <td>3</td>\n",
              "      <td>2009</td>\n",
              "    </tr>\n",
              "    <tr>\n",
              "      <th>1559</th>\n",
              "      <td>Complete Spanish Step-by-Step</td>\n",
              "      <td>Barbara Bregstein</td>\n",
              "      <td>Paperback,– 16 Sep 2016</td>\n",
              "      <td>4.5 out of 5 stars</td>\n",
              "      <td>2 customer reviews</td>\n",
              "      <td>Learn Spanish with the most convenient and eff...</td>\n",
              "      <td>Dictionaries</td>\n",
              "      <td>Language, Linguistics &amp; Writing</td>\n",
              "      <td>Paperback</td>\n",
              "      <td>4.5</td>\n",
              "      <td>2</td>\n",
              "      <td>2016</td>\n",
              "    </tr>\n",
              "  </tbody>\n",
              "</table>\n",
              "<p>1560 rows × 12 columns</p>\n",
              "</div>\n",
              "      <button class=\"colab-df-convert\" onclick=\"convertToInteractive('df-f0bcd917-fe8a-4835-ac95-5c1b49d61a04')\"\n",
              "              title=\"Convert this dataframe to an interactive table.\"\n",
              "              style=\"display:none;\">\n",
              "        \n",
              "  <svg xmlns=\"http://www.w3.org/2000/svg\" height=\"24px\"viewBox=\"0 0 24 24\"\n",
              "       width=\"24px\">\n",
              "    <path d=\"M0 0h24v24H0V0z\" fill=\"none\"/>\n",
              "    <path d=\"M18.56 5.44l.94 2.06.94-2.06 2.06-.94-2.06-.94-.94-2.06-.94 2.06-2.06.94zm-11 1L8.5 8.5l.94-2.06 2.06-.94-2.06-.94L8.5 2.5l-.94 2.06-2.06.94zm10 10l.94 2.06.94-2.06 2.06-.94-2.06-.94-.94-2.06-.94 2.06-2.06.94z\"/><path d=\"M17.41 7.96l-1.37-1.37c-.4-.4-.92-.59-1.43-.59-.52 0-1.04.2-1.43.59L10.3 9.45l-7.72 7.72c-.78.78-.78 2.05 0 2.83L4 21.41c.39.39.9.59 1.41.59.51 0 1.02-.2 1.41-.59l7.78-7.78 2.81-2.81c.8-.78.8-2.07 0-2.86zM5.41 20L4 18.59l7.72-7.72 1.47 1.35L5.41 20z\"/>\n",
              "  </svg>\n",
              "      </button>\n",
              "      \n",
              "  <style>\n",
              "    .colab-df-container {\n",
              "      display:flex;\n",
              "      flex-wrap:wrap;\n",
              "      gap: 12px;\n",
              "    }\n",
              "\n",
              "    .colab-df-convert {\n",
              "      background-color: #E8F0FE;\n",
              "      border: none;\n",
              "      border-radius: 50%;\n",
              "      cursor: pointer;\n",
              "      display: none;\n",
              "      fill: #1967D2;\n",
              "      height: 32px;\n",
              "      padding: 0 0 0 0;\n",
              "      width: 32px;\n",
              "    }\n",
              "\n",
              "    .colab-df-convert:hover {\n",
              "      background-color: #E2EBFA;\n",
              "      box-shadow: 0px 1px 2px rgba(60, 64, 67, 0.3), 0px 1px 3px 1px rgba(60, 64, 67, 0.15);\n",
              "      fill: #174EA6;\n",
              "    }\n",
              "\n",
              "    [theme=dark] .colab-df-convert {\n",
              "      background-color: #3B4455;\n",
              "      fill: #D2E3FC;\n",
              "    }\n",
              "\n",
              "    [theme=dark] .colab-df-convert:hover {\n",
              "      background-color: #434B5C;\n",
              "      box-shadow: 0px 1px 3px 1px rgba(0, 0, 0, 0.15);\n",
              "      filter: drop-shadow(0px 1px 2px rgba(0, 0, 0, 0.3));\n",
              "      fill: #FFFFFF;\n",
              "    }\n",
              "  </style>\n",
              "\n",
              "      <script>\n",
              "        const buttonEl =\n",
              "          document.querySelector('#df-f0bcd917-fe8a-4835-ac95-5c1b49d61a04 button.colab-df-convert');\n",
              "        buttonEl.style.display =\n",
              "          google.colab.kernel.accessAllowed ? 'block' : 'none';\n",
              "\n",
              "        async function convertToInteractive(key) {\n",
              "          const element = document.querySelector('#df-f0bcd917-fe8a-4835-ac95-5c1b49d61a04');\n",
              "          const dataTable =\n",
              "            await google.colab.kernel.invokeFunction('convertToInteractive',\n",
              "                                                     [key], {});\n",
              "          if (!dataTable) return;\n",
              "\n",
              "          const docLinkHtml = 'Like what you see? Visit the ' +\n",
              "            '<a target=\"_blank\" href=https://colab.research.google.com/notebooks/data_table.ipynb>data table notebook</a>'\n",
              "            + ' to learn more about interactive tables.';\n",
              "          element.innerHTML = '';\n",
              "          dataTable['output_type'] = 'display_data';\n",
              "          await google.colab.output.renderOutput(dataTable, element);\n",
              "          const docLink = document.createElement('div');\n",
              "          docLink.innerHTML = docLinkHtml;\n",
              "          element.appendChild(docLink);\n",
              "        }\n",
              "      </script>\n",
              "    </div>\n",
              "  </div>\n",
              "  "
            ],
            "text/plain": [
              "                                                  Title  \\\n",
              "0            The Complete Sherlock Holmes: 2 Boxes sets   \n",
              "1     Learn Docker - Fundamentals of Docker 18.x: Ev...   \n",
              "2                                              Big Girl   \n",
              "3     Think Python: How to Think Like a Computer Sci...   \n",
              "4     Oxford Word Skills: Advanced - Idioms & Phrasa...   \n",
              "...                                                 ...   \n",
              "1555  100 Things Every Designer Needs to Know About ...   \n",
              "1556  Modern Letter Writing Course: Personal, Busine...   \n",
              "1557                      The Kite Runner Graphic Novel   \n",
              "1558    Panzer Leader (Penguin World War II Collection)   \n",
              "1559                      Complete Spanish Step-by-Step   \n",
              "\n",
              "                      Author                             Edition  \\\n",
              "0     Sir Arthur Conan Doyle  Mass Market Paperback,– 1 Oct 1986   \n",
              "1        Gabriel N. Schenker     Paperback,– Import, 26 Apr 2018   \n",
              "2             Danielle Steel             Paperback,– 17 Mar 2011   \n",
              "3            Allen B. Downey                    Paperback,– 2016   \n",
              "4              Redman Gairns             Paperback,– 26 Dec 2011   \n",
              "...                      ...                                 ...   \n",
              "1555        Susan Weinschenk             Paperback,– 14 Apr 2011   \n",
              "1556              ARUN SAGAR              Paperback,– 8 May 2013   \n",
              "1557         Khaled Hosseini              Paperback,– 6 Sep 2011   \n",
              "1558          Heinz Guderian             Paperback,– 22 Sep 2009   \n",
              "1559       Barbara Bregstein             Paperback,– 16 Sep 2016   \n",
              "\n",
              "                 Reviews               Ratings  \\\n",
              "0     4.4 out of 5 stars  960 customer reviews   \n",
              "1     5.0 out of 5 stars     1 customer review   \n",
              "2     5.0 out of 5 stars    4 customer reviews   \n",
              "3     4.1 out of 5 stars   11 customer reviews   \n",
              "4     4.4 out of 5 stars    9 customer reviews   \n",
              "...                  ...                   ...   \n",
              "1555  5.0 out of 5 stars    4 customer reviews   \n",
              "1556  3.6 out of 5 stars   13 customer reviews   \n",
              "1557  4.0 out of 5 stars    5 customer reviews   \n",
              "1558  3.5 out of 5 stars    3 customer reviews   \n",
              "1559  4.5 out of 5 stars    2 customer reviews   \n",
              "\n",
              "                                               Synopsis  \\\n",
              "0     A collection of entire body of work of the She...   \n",
              "1     Enhance your software deployment workflow usin...   \n",
              "2     'Watch out, world. Here I come!'\\nFor Victoria...   \n",
              "3     If you want to learn how to program, working w...   \n",
              "4     Learn and practise the verbs, prepositions and...   \n",
              "...                                                 ...   \n",
              "1555  We design to elicit responses from people. We ...   \n",
              "1556  A 30-day course to write simple, sharp and att...   \n",
              "1557  The perennial bestseller-now available as a se...   \n",
              "1558  Heinz Guderian - master of the Blitzkrieg and ...   \n",
              "1559  Learn Spanish with the most convenient and eff...   \n",
              "\n",
              "                                    Genre  \\\n",
              "0                          Short Stories    \n",
              "1             Operating Systems Textbooks   \n",
              "2                                Romance    \n",
              "3     Programming & Software Development    \n",
              "4                            Linguistics    \n",
              "...                                   ...   \n",
              "1555                               Design   \n",
              "1556                Children's Reference    \n",
              "1557                              Humour    \n",
              "1558                United States History   \n",
              "1559                         Dictionaries   \n",
              "\n",
              "                              BookCategory Edition_Type Rating Num_of_reviews  \\\n",
              "0                Crime, Thriller & Mystery    Paperback    4.4            960   \n",
              "1      Computing, Internet & Digital Media    Paperback    5.0              1   \n",
              "2                                  Romance    Paperback    5.0              4   \n",
              "3      Computing, Internet & Digital Media    Paperback    4.1             11   \n",
              "4          Language, Linguistics & Writing    Paperback    4.4              9   \n",
              "...                                    ...          ...    ...            ...   \n",
              "1555   Computing, Internet & Digital Media    Paperback    5.0              4   \n",
              "1556  Biographies, Diaries & True Accounts    Paperback    3.6             13   \n",
              "1557                                Humour    Paperback    4.0              5   \n",
              "1558  Biographies, Diaries & True Accounts    Paperback    3.5              3   \n",
              "1559       Language, Linguistics & Writing    Paperback    4.5              2   \n",
              "\n",
              "      Year  \n",
              "0     1986  \n",
              "1     2018  \n",
              "2     2011  \n",
              "3     2016  \n",
              "4     2011  \n",
              "...    ...  \n",
              "1555  2011  \n",
              "1556  2013  \n",
              "1557  2011  \n",
              "1558  2009  \n",
              "1559  2016  \n",
              "\n",
              "[1560 rows x 12 columns]"
            ]
          },
          "metadata": {},
          "execution_count": 1200
        }
      ],
      "source": [
        "test_data['Edition_Type'] = test_data['Edition'].apply(lambda x: x.split(',– ')[0])\n",
        "test_data['Edition_Type'] = test_data['Edition_Type'].apply(lambda x: re.split(',| ',x)[-1])\n",
        "\n",
        "test_data['Rating'] = test_data['Reviews'].apply(lambda x: x.split(\" \")[0])\n",
        "\n",
        "test_data['Num_of_reviews'] = test_data['Ratings'].apply(lambda x : x.split(\" \")[0])\n",
        "\n",
        "test_data['Genre'] = test_data['Genre'].apply( lambda x: x.replace(\"(Books)\", \"\") )\n",
        "\n",
        "test_data['Year'] = test_data['Edition'].apply(lambda x : x.split(\" \")[-1] if x.split()[-1].isdigit() else '2018')\n",
        "\n",
        "test_data"
      ]
    },
    {
      "cell_type": "code",
      "source": [
        "train_data['Edition_Type'].value_counts()"
      ],
      "metadata": {
        "colab": {
          "base_uri": "https://localhost:8080/"
        },
        "id": "62pUbtshX_gz",
        "outputId": "a501ea80-7206-4adc-fc52-7db027448db3"
      },
      "execution_count": null,
      "outputs": [
        {
          "output_type": "execute_result",
          "data": {
            "text/plain": [
              "Paperback       5353\n",
              "Hardcover        823\n",
              "music             24\n",
              "Flexibound        15\n",
              "Cards              8\n",
              "Spiral-bound       4\n",
              "Softcover          3\n",
              "Leaf               2\n",
              "book               1\n",
              "Bound              1\n",
              "Bundle             1\n",
              "Comb               1\n",
              "Binding            1\n",
              "Name: Edition_Type, dtype: int64"
            ]
          },
          "metadata": {},
          "execution_count": 1201
        }
      ]
    },
    {
      "cell_type": "code",
      "execution_count": null,
      "metadata": {
        "id": "JseJJZ89T2N-"
      },
      "outputs": [],
      "source": [
        "# Merging categories with small frequencies\n",
        "\n",
        "threshold_percentage = 1\n",
        "series = pd.value_counts(train_data['Edition_Type'])\n",
        "mask = (series/series.sum() *100).lt(threshold_percentage)\n",
        "train_data = train_data.assign(Edition_Type_updated = np.where(train_data['Edition_Type'].isin(series[mask].index),'Other', train_data['Edition_Type']))"
      ]
    },
    {
      "cell_type": "code",
      "execution_count": null,
      "metadata": {
        "colab": {
          "base_uri": "https://localhost:8080/"
        },
        "id": "aWUC--b-T2N-",
        "outputId": "cc534f35-3dd7-4d02-b0f2-01e220c2624c"
      },
      "outputs": [
        {
          "output_type": "execute_result",
          "data": {
            "text/plain": [
              "Paperback    5353\n",
              "Hardcover     823\n",
              "Other          61\n",
              "Name: Edition_Type_updated, dtype: int64"
            ]
          },
          "metadata": {},
          "execution_count": 1203
        }
      ],
      "source": [
        "train_data['Edition_Type_updated'].value_counts()"
      ]
    },
    {
      "cell_type": "code",
      "execution_count": null,
      "metadata": {
        "id": "Z_1UE_LUT2N_"
      },
      "outputs": [],
      "source": [
        "# Merging categories with small frequencies\n",
        "threshold_percent = 1\n",
        "\n",
        "series = pd.value_counts(test_data['Edition_Type'])\n",
        "mask = (series / series.sum() * 100).lt(threshold_percent)\n",
        "test_data = test_data.assign(Edition_Type_updated = np.where(test_data['Edition_Type'].isin(series[mask].index),'Other', test_data['Edition_Type']))"
      ]
    },
    {
      "cell_type": "code",
      "execution_count": null,
      "metadata": {
        "colab": {
          "base_uri": "https://localhost:8080/"
        },
        "id": "Z1NkjM2BT2N_",
        "outputId": "105d0af2-a65e-49ba-be3f-6f6096b54253"
      },
      "outputs": [
        {
          "output_type": "execute_result",
          "data": {
            "text/plain": [
              "Paperback    1311\n",
              "Hardcover     233\n",
              "Other          16\n",
              "Name: Edition_Type_updated, dtype: int64"
            ]
          },
          "metadata": {},
          "execution_count": 1205
        }
      ],
      "source": [
        "test_data['Edition_Type_updated'].value_counts()"
      ]
    },
    {
      "cell_type": "code",
      "execution_count": null,
      "metadata": {
        "id": "m_vjWTupNMm3"
      },
      "outputs": [],
      "source": [
        "for col in train_data.select_dtypes(include='object'):\n",
        "    train_data[col] = train_data[col].str.lower()"
      ]
    },
    {
      "cell_type": "code",
      "execution_count": null,
      "metadata": {
        "id": "flJLt3iY_Z75"
      },
      "outputs": [],
      "source": [
        "for col in test_data.select_dtypes(include='object'):\n",
        "    test_data[col] = test_data[col].str.lower()"
      ]
    },
    {
      "cell_type": "code",
      "execution_count": null,
      "metadata": {
        "colab": {
          "base_uri": "https://localhost:8080/"
        },
        "id": "CD5zKAPDT2OA",
        "outputId": "68c5384d-ee15-4896-f689-4c713caafccb"
      },
      "outputs": [
        {
          "output_type": "execute_result",
          "data": {
            "text/plain": [
              "array(['8', '14', '6', '13', '1', '72', '16', '111', '132', '17', '4',\n",
              "       '3', '5', '2', '23', '76', '10', '9', '15', '34', '32', '49', '62',\n",
              "       '61', '7', '18', '98', '12', '97', '285', '29', '27', '267', '24',\n",
              "       '146', '95', '234', '35', '66', '20', '39', '171', '399', '42',\n",
              "       '142', '11', '839', '47', '165', '30', '53', '77', '33', '37',\n",
              "       '54', '28', '50', '197', '26', '114', '46', '51', '161', '135',\n",
              "       '41', '156', '1,416', '93', '221', '36', '154', '74', '45', '240',\n",
              "       '55', '19', '48', '404', '245', '22', '292', '25', '75', '381',\n",
              "       '44', '443', '425', '21', '238', '84', '68', '108', '52', '57',\n",
              "       '109', '89', '304', '96', '419', '205', '85', '960', '71', '167',\n",
              "       '58', '40', '102', '101', '65', '70', '106', '922', '31', '38',\n",
              "       '63', '177', '138', '164', '257', '207', '64', '56', '196', '82',\n",
              "       '1,558', '567', '60', '80', '303', '73', '193', '155', '798',\n",
              "       '128', '87', '90', '286', '565', '137', '99', '403', '277', '902',\n",
              "       '59', '861', '67', '815', '227', '119', '474', '69', '247', '414',\n",
              "       '86', '432', '1,142', '168', '382', '79', '141', '220', '732',\n",
              "       '2,048', '1,097', '226', '649', '160', '140', '2,081', '405',\n",
              "       '121', '88', '342', '190', '83', '250', '217', '115', '224', '43',\n",
              "       '136', '230', '283', '184', '186', '110', '187', '81', '107',\n",
              "       '355', '2,084', '116', '862', '370', '92', '6,090', '215', '893',\n",
              "       '261', '129', '113', '206', '159', '540', '413', '307', '351',\n",
              "       '390', '143', '185', '282', '150', '120', '246', '126', '784',\n",
              "       '174', '397', '172', '158', '863', '291', '225', '1,227', '366',\n",
              "       '218', '100', '337', '973', '310', '301', '212', '764', '279',\n",
              "       '255', '251', '653', '894', '3,135', '958', '134', '127', '420',\n",
              "       '139', '800', '94', '178', '145', '967', '1,392', '264', '122',\n",
              "       '219', '505', '125', '407', '210', '133', '151', '188', '166',\n",
              "       '656', '175', '153', '1,684', '149', '163', '199', '157', '203',\n",
              "       '331', '970', '305', '327', '1,403', '180', '268', '104', '123',\n",
              "       '290', '396', '287', '244', '670', '223', '117', '867', '91',\n",
              "       '105', '332', '152', '379', '278', '144', '606', '1,248', '112',\n",
              "       '295', '450', '298', '899', '570', '871', '356', '249', '179',\n",
              "       '545', '494', '358', '853', '280', '118', '1,563', '1,259', '200',\n",
              "       '2,255', '727', '568', '429', '296', '124', '252', '78', '695',\n",
              "       '3,075', '434', '353', '328', '170', '1,256', '162', '270', '297',\n",
              "       '615', '421', '253', '325', '308', '804', '551', '288', '483'],\n",
              "      dtype=object)"
            ]
          },
          "metadata": {},
          "execution_count": 1208
        }
      ],
      "source": [
        "train_data['Num_of_reviews'].unique()"
      ]
    },
    {
      "cell_type": "code",
      "execution_count": null,
      "metadata": {
        "id": "dxXu3zr2ODgc"
      },
      "outputs": [],
      "source": [
        "train_data['Num_of_reviews'] = train_data['Num_of_reviews'].apply(lambda x: x.replace(',', ''))\n",
        "train_data.Num_of_reviews = train_data.Num_of_reviews.astype('int32')"
      ]
    },
    {
      "cell_type": "code",
      "execution_count": null,
      "metadata": {
        "id": "MeHOsu1C_f2x"
      },
      "outputs": [],
      "source": [
        "test_data['Num_of_reviews'] = test_data['Num_of_reviews'].apply(lambda x: x.replace(',', ''))\n",
        "test_data.Num_of_reviews = test_data.Num_of_reviews.astype('int32')"
      ]
    },
    {
      "cell_type": "code",
      "execution_count": null,
      "metadata": {
        "colab": {
          "base_uri": "https://localhost:8080/",
          "height": 483
        },
        "id": "WDdQilwCTY3R",
        "outputId": "eafadaea-a1f7-4874-cc52-5377efdd5453"
      },
      "outputs": [
        {
          "output_type": "display_data",
          "data": {
            "image/png": "[encoded data removed]",
            "text/plain": [
              "<Figure size 864x576 with 1 Axes>"
            ]
          },
          "metadata": {
            "needs_background": "light"
          }
        }
      ],
      "source": [
        "train_data.Num_of_reviews.value_counts().plot()\n",
        "plt.show()"
      ]
    },
    {
      "cell_type": "code",
      "execution_count": null,
      "metadata": {
        "colab": {
          "base_uri": "https://localhost:8080/",
          "height": 484
        },
        "id": "MdUjV2_h_lio",
        "outputId": "0f195c6e-cc3a-4b63-e88e-0aa023d440b9"
      },
      "outputs": [
        {
          "output_type": "display_data",
          "data": {
            "image/png": "[encoded data removed]",
            "text/plain": [
              "<Figure size 864x576 with 1 Axes>"
            ]
          },
          "metadata": {
            "needs_background": "light"
          }
        }
      ],
      "source": [
        "test_data.Num_of_reviews.value_counts().plot()\n",
        "plt.show()"
      ]
    },
    {
      "cell_type": "code",
      "execution_count": null,
      "metadata": {
        "colab": {
          "base_uri": "https://localhost:8080/",
          "height": 489
        },
        "id": "_U9osjvSSeh0",
        "outputId": "32fe5833-a716-4a43-b390-ce05c6148ea3"
      },
      "outputs": [
        {
          "output_type": "display_data",
          "data": {
            "image/png": "[encoded data removed]",
            "text/plain": [
              "<Figure size 864x576 with 1 Axes>"
            ]
          },
          "metadata": {
            "needs_background": "light"
          }
        }
      ],
      "source": [
        "train_data.Rating = round(train_data.Rating.astype('float64'))\n",
        "train_data.Rating.value_counts().plot(kind = 'bar')\n",
        "plt.show()"
      ]
    },
    {
      "cell_type": "code",
      "execution_count": null,
      "metadata": {
        "colab": {
          "base_uri": "https://localhost:8080/",
          "height": 489
        },
        "id": "eTOxOwcM_pnR",
        "outputId": "77f78cdc-7dc6-4650-b135-b3e4a831dbc8"
      },
      "outputs": [
        {
          "output_type": "display_data",
          "data": {
            "image/png": "[encoded data removed]",
            "text/plain": [
              "<Figure size 864x576 with 1 Axes>"
            ]
          },
          "metadata": {
            "needs_background": "light"
          }
        }
      ],
      "source": [
        "test_data.Rating = round(test_data.Rating.astype('float64'))\n",
        "test_data.Rating.value_counts().plot(kind = 'bar')\n",
        "plt.show()"
      ]
    },
    {
      "cell_type": "code",
      "execution_count": null,
      "metadata": {
        "colab": {
          "base_uri": "https://localhost:8080/",
          "height": 1000
        },
        "id": "qIR0f00-T2OB",
        "outputId": "4c882c47-2dc8-428d-d159-963c46373d3b"
      },
      "outputs": [
        {
          "output_type": "execute_result",
          "data": {
            "text/html": [
              "\n",
              "  <div id=\"df-346ad83f-0877-4e88-b258-d5eb8bb3a931\">\n",
              "    <div class=\"colab-df-container\">\n",
              "      <div>\n",
              "<style scoped>\n",
              "    .dataframe tbody tr th:only-of-type {\n",
              "        vertical-align: middle;\n",
              "    }\n",
              "\n",
              "    .dataframe tbody tr th {\n",
              "        vertical-align: top;\n",
              "    }\n",
              "\n",
              "    .dataframe thead th {\n",
              "        text-align: right;\n",
              "    }\n",
              "</style>\n",
              "<table border=\"1\" class=\"dataframe\">\n",
              "  <thead>\n",
              "    <tr style=\"text-align: right;\">\n",
              "      <th></th>\n",
              "      <th>Title</th>\n",
              "      <th>Author</th>\n",
              "      <th>Edition</th>\n",
              "      <th>Reviews</th>\n",
              "      <th>Ratings</th>\n",
              "      <th>Synopsis</th>\n",
              "      <th>Genre</th>\n",
              "      <th>BookCategory</th>\n",
              "      <th>Price</th>\n",
              "      <th>Edition_Type</th>\n",
              "      <th>Rating</th>\n",
              "      <th>Num_of_reviews</th>\n",
              "      <th>Year</th>\n",
              "      <th>Edition_Type_updated</th>\n",
              "    </tr>\n",
              "  </thead>\n",
              "  <tbody>\n",
              "    <tr>\n",
              "      <th>0</th>\n",
              "      <td>the prisoner's gold (the hunters 3)</td>\n",
              "      <td>chris kuzneski</td>\n",
              "      <td>paperback,– 10 mar 2016</td>\n",
              "      <td>4.0 out of 5 stars</td>\n",
              "      <td>8 customer reviews</td>\n",
              "      <td>the hunters return in their third brilliant no...</td>\n",
              "      <td>action &amp; adventure</td>\n",
              "      <td>action &amp; adventure</td>\n",
              "      <td>220.00</td>\n",
              "      <td>paperback</td>\n",
              "      <td>4.0</td>\n",
              "      <td>8</td>\n",
              "      <td>2016</td>\n",
              "      <td>paperback</td>\n",
              "    </tr>\n",
              "    <tr>\n",
              "      <th>1</th>\n",
              "      <td>guru dutt: a tragedy in three acts</td>\n",
              "      <td>arun khopkar</td>\n",
              "      <td>paperback,– 7 nov 2012</td>\n",
              "      <td>3.9 out of 5 stars</td>\n",
              "      <td>14 customer reviews</td>\n",
              "      <td>a layered portrait of a troubled genius for wh...</td>\n",
              "      <td>cinema &amp; broadcast</td>\n",
              "      <td>biographies, diaries &amp; true accounts</td>\n",
              "      <td>202.93</td>\n",
              "      <td>paperback</td>\n",
              "      <td>4.0</td>\n",
              "      <td>14</td>\n",
              "      <td>2012</td>\n",
              "      <td>paperback</td>\n",
              "    </tr>\n",
              "    <tr>\n",
              "      <th>2</th>\n",
              "      <td>leviathan (penguin classics)</td>\n",
              "      <td>thomas hobbes</td>\n",
              "      <td>paperback,– 25 feb 1982</td>\n",
              "      <td>4.8 out of 5 stars</td>\n",
              "      <td>6 customer reviews</td>\n",
              "      <td>\"during the time men live without a common pow...</td>\n",
              "      <td>international relations</td>\n",
              "      <td>humour</td>\n",
              "      <td>299.00</td>\n",
              "      <td>paperback</td>\n",
              "      <td>5.0</td>\n",
              "      <td>6</td>\n",
              "      <td>1982</td>\n",
              "      <td>paperback</td>\n",
              "    </tr>\n",
              "    <tr>\n",
              "      <th>3</th>\n",
              "      <td>a pocket full of rye (miss marple)</td>\n",
              "      <td>agatha christie</td>\n",
              "      <td>paperback,– 5 oct 2017</td>\n",
              "      <td>4.1 out of 5 stars</td>\n",
              "      <td>13 customer reviews</td>\n",
              "      <td>a handful of grain is found in the pocket of a...</td>\n",
              "      <td>contemporary fiction</td>\n",
              "      <td>crime, thriller &amp; mystery</td>\n",
              "      <td>180.00</td>\n",
              "      <td>paperback</td>\n",
              "      <td>4.0</td>\n",
              "      <td>13</td>\n",
              "      <td>2017</td>\n",
              "      <td>paperback</td>\n",
              "    </tr>\n",
              "    <tr>\n",
              "      <th>4</th>\n",
              "      <td>life 70 years of extraordinary photography</td>\n",
              "      <td>editors of life</td>\n",
              "      <td>hardcover,– 10 oct 2006</td>\n",
              "      <td>5.0 out of 5 stars</td>\n",
              "      <td>1 customer review</td>\n",
              "      <td>for seven decades, \"life\" has been thrilling t...</td>\n",
              "      <td>photography textbooks</td>\n",
              "      <td>arts, film &amp; photography</td>\n",
              "      <td>965.62</td>\n",
              "      <td>hardcover</td>\n",
              "      <td>5.0</td>\n",
              "      <td>1</td>\n",
              "      <td>2006</td>\n",
              "      <td>hardcover</td>\n",
              "    </tr>\n",
              "    <tr>\n",
              "      <th>5</th>\n",
              "      <td>chirunning: a revolutionary approach to effort...</td>\n",
              "      <td>danny dreyer</td>\n",
              "      <td>paperback,– 5 may 2009</td>\n",
              "      <td>4.5 out of 5 stars</td>\n",
              "      <td>8 customer reviews</td>\n",
              "      <td>the revised edition of the bestselling chirunn...</td>\n",
              "      <td>healthy living &amp; wellness</td>\n",
              "      <td>sports</td>\n",
              "      <td>900.00</td>\n",
              "      <td>paperback</td>\n",
              "      <td>4.0</td>\n",
              "      <td>8</td>\n",
              "      <td>2009</td>\n",
              "      <td>paperback</td>\n",
              "    </tr>\n",
              "    <tr>\n",
              "      <th>6</th>\n",
              "      <td>death on the nile (poirot)</td>\n",
              "      <td>agatha christie</td>\n",
              "      <td>paperback,– 5 oct 2017</td>\n",
              "      <td>4.4 out of 5 stars</td>\n",
              "      <td>72 customer reviews</td>\n",
              "      <td>agatha christie’s most exotic murder mystery\\n...</td>\n",
              "      <td>crime, thriller &amp; mystery</td>\n",
              "      <td>crime, thriller &amp; mystery</td>\n",
              "      <td>224.00</td>\n",
              "      <td>paperback</td>\n",
              "      <td>4.0</td>\n",
              "      <td>72</td>\n",
              "      <td>2017</td>\n",
              "      <td>paperback</td>\n",
              "    </tr>\n",
              "    <tr>\n",
              "      <th>7</th>\n",
              "      <td>yoga your home practice companion: a complete ...</td>\n",
              "      <td>sivananda yoga vedanta centre</td>\n",
              "      <td>hardcover,– import, 1 mar 2018</td>\n",
              "      <td>4.7 out of 5 stars</td>\n",
              "      <td>16 customer reviews</td>\n",
              "      <td>achieve a healthy body, mental alertness, and ...</td>\n",
              "      <td>sports training &amp; coaching</td>\n",
              "      <td>sports</td>\n",
              "      <td>836.00</td>\n",
              "      <td>hardcover</td>\n",
              "      <td>5.0</td>\n",
              "      <td>16</td>\n",
              "      <td>2018</td>\n",
              "      <td>hardcover</td>\n",
              "    </tr>\n",
              "    <tr>\n",
              "      <th>8</th>\n",
              "      <td>karmayogi: a biography of e. sreedharan</td>\n",
              "      <td>m s ashokan</td>\n",
              "      <td>paperback,– 15 dec 2015</td>\n",
              "      <td>4.2 out of 5 stars</td>\n",
              "      <td>111 customer reviews</td>\n",
              "      <td>karmayogi is the dramatic and inspiring story ...</td>\n",
              "      <td>biographies &amp; autobiographies</td>\n",
              "      <td>biographies, diaries &amp; true accounts</td>\n",
              "      <td>130.00</td>\n",
              "      <td>paperback</td>\n",
              "      <td>4.0</td>\n",
              "      <td>111</td>\n",
              "      <td>2015</td>\n",
              "      <td>paperback</td>\n",
              "    </tr>\n",
              "    <tr>\n",
              "      <th>9</th>\n",
              "      <td>the iron king (the accursed kings, book 1)</td>\n",
              "      <td>maurice druon</td>\n",
              "      <td>paperback,– 26 mar 2013</td>\n",
              "      <td>4.0 out of 5 stars</td>\n",
              "      <td>1 customer review</td>\n",
              "      <td>‘this is the original game of thrones’ george ...</td>\n",
              "      <td>action &amp; adventure</td>\n",
              "      <td>action &amp; adventure</td>\n",
              "      <td>695.00</td>\n",
              "      <td>paperback</td>\n",
              "      <td>4.0</td>\n",
              "      <td>1</td>\n",
              "      <td>2013</td>\n",
              "      <td>paperback</td>\n",
              "    </tr>\n",
              "  </tbody>\n",
              "</table>\n",
              "</div>\n",
              "      <button class=\"colab-df-convert\" onclick=\"convertToInteractive('df-346ad83f-0877-4e88-b258-d5eb8bb3a931')\"\n",
              "              title=\"Convert this dataframe to an interactive table.\"\n",
              "              style=\"display:none;\">\n",
              "        \n",
              "  <svg xmlns=\"http://www.w3.org/2000/svg\" height=\"24px\"viewBox=\"0 0 24 24\"\n",
              "       width=\"24px\">\n",
              "    <path d=\"M0 0h24v24H0V0z\" fill=\"none\"/>\n",
              "    <path d=\"M18.56 5.44l.94 2.06.94-2.06 2.06-.94-2.06-.94-.94-2.06-.94 2.06-2.06.94zm-11 1L8.5 8.5l.94-2.06 2.06-.94-2.06-.94L8.5 2.5l-.94 2.06-2.06.94zm10 10l.94 2.06.94-2.06 2.06-.94-2.06-.94-.94-2.06-.94 2.06-2.06.94z\"/><path d=\"M17.41 7.96l-1.37-1.37c-.4-.4-.92-.59-1.43-.59-.52 0-1.04.2-1.43.59L10.3 9.45l-7.72 7.72c-.78.78-.78 2.05 0 2.83L4 21.41c.39.39.9.59 1.41.59.51 0 1.02-.2 1.41-.59l7.78-7.78 2.81-2.81c.8-.78.8-2.07 0-2.86zM5.41 20L4 18.59l7.72-7.72 1.47 1.35L5.41 20z\"/>\n",
              "  </svg>\n",
              "      </button>\n",
              "      \n",
              "  <style>\n",
              "    .colab-df-container {\n",
              "      display:flex;\n",
              "      flex-wrap:wrap;\n",
              "      gap: 12px;\n",
              "    }\n",
              "\n",
              "    .colab-df-convert {\n",
              "      background-color: #E8F0FE;\n",
              "      border: none;\n",
              "      border-radius: 50%;\n",
              "      cursor: pointer;\n",
              "      display: none;\n",
              "      fill: #1967D2;\n",
              "      height: 32px;\n",
              "      padding: 0 0 0 0;\n",
              "      width: 32px;\n",
              "    }\n",
              "\n",
              "    .colab-df-convert:hover {\n",
              "      background-color: #E2EBFA;\n",
              "      box-shadow: 0px 1px 2px rgba(60, 64, 67, 0.3), 0px 1px 3px 1px rgba(60, 64, 67, 0.15);\n",
              "      fill: #174EA6;\n",
              "    }\n",
              "\n",
              "    [theme=dark] .colab-df-convert {\n",
              "      background-color: #3B4455;\n",
              "      fill: #D2E3FC;\n",
              "    }\n",
              "\n",
              "    [theme=dark] .colab-df-convert:hover {\n",
              "      background-color: #434B5C;\n",
              "      box-shadow: 0px 1px 3px 1px rgba(0, 0, 0, 0.15);\n",
              "      filter: drop-shadow(0px 1px 2px rgba(0, 0, 0, 0.3));\n",
              "      fill: #FFFFFF;\n",
              "    }\n",
              "  </style>\n",
              "\n",
              "      <script>\n",
              "        const buttonEl =\n",
              "          document.querySelector('#df-346ad83f-0877-4e88-b258-d5eb8bb3a931 button.colab-df-convert');\n",
              "        buttonEl.style.display =\n",
              "          google.colab.kernel.accessAllowed ? 'block' : 'none';\n",
              "\n",
              "        async function convertToInteractive(key) {\n",
              "          const element = document.querySelector('#df-346ad83f-0877-4e88-b258-d5eb8bb3a931');\n",
              "          const dataTable =\n",
              "            await google.colab.kernel.invokeFunction('convertToInteractive',\n",
              "                                                     [key], {});\n",
              "          if (!dataTable) return;\n",
              "\n",
              "          const docLinkHtml = 'Like what you see? Visit the ' +\n",
              "            '<a target=\"_blank\" href=https://colab.research.google.com/notebooks/data_table.ipynb>data table notebook</a>'\n",
              "            + ' to learn more about interactive tables.';\n",
              "          element.innerHTML = '';\n",
              "          dataTable['output_type'] = 'display_data';\n",
              "          await google.colab.output.renderOutput(dataTable, element);\n",
              "          const docLink = document.createElement('div');\n",
              "          docLink.innerHTML = docLinkHtml;\n",
              "          element.appendChild(docLink);\n",
              "        }\n",
              "      </script>\n",
              "    </div>\n",
              "  </div>\n",
              "  "
            ],
            "text/plain": [
              "                                               Title  \\\n",
              "0                the prisoner's gold (the hunters 3)   \n",
              "1                 guru dutt: a tragedy in three acts   \n",
              "2                       leviathan (penguin classics)   \n",
              "3                 a pocket full of rye (miss marple)   \n",
              "4         life 70 years of extraordinary photography   \n",
              "5  chirunning: a revolutionary approach to effort...   \n",
              "6                         death on the nile (poirot)   \n",
              "7  yoga your home practice companion: a complete ...   \n",
              "8            karmayogi: a biography of e. sreedharan   \n",
              "9         the iron king (the accursed kings, book 1)   \n",
              "\n",
              "                          Author                         Edition  \\\n",
              "0                 chris kuzneski         paperback,– 10 mar 2016   \n",
              "1                   arun khopkar          paperback,– 7 nov 2012   \n",
              "2                  thomas hobbes         paperback,– 25 feb 1982   \n",
              "3                agatha christie          paperback,– 5 oct 2017   \n",
              "4                editors of life         hardcover,– 10 oct 2006   \n",
              "5                   danny dreyer          paperback,– 5 may 2009   \n",
              "6                agatha christie          paperback,– 5 oct 2017   \n",
              "7  sivananda yoga vedanta centre  hardcover,– import, 1 mar 2018   \n",
              "8                    m s ashokan         paperback,– 15 dec 2015   \n",
              "9                  maurice druon         paperback,– 26 mar 2013   \n",
              "\n",
              "              Reviews               Ratings  \\\n",
              "0  4.0 out of 5 stars    8 customer reviews   \n",
              "1  3.9 out of 5 stars   14 customer reviews   \n",
              "2  4.8 out of 5 stars    6 customer reviews   \n",
              "3  4.1 out of 5 stars   13 customer reviews   \n",
              "4  5.0 out of 5 stars     1 customer review   \n",
              "5  4.5 out of 5 stars    8 customer reviews   \n",
              "6  4.4 out of 5 stars   72 customer reviews   \n",
              "7  4.7 out of 5 stars   16 customer reviews   \n",
              "8  4.2 out of 5 stars  111 customer reviews   \n",
              "9  4.0 out of 5 stars     1 customer review   \n",
              "\n",
              "                                            Synopsis  \\\n",
              "0  the hunters return in their third brilliant no...   \n",
              "1  a layered portrait of a troubled genius for wh...   \n",
              "2  \"during the time men live without a common pow...   \n",
              "3  a handful of grain is found in the pocket of a...   \n",
              "4  for seven decades, \"life\" has been thrilling t...   \n",
              "5  the revised edition of the bestselling chirunn...   \n",
              "6  agatha christie’s most exotic murder mystery\\n...   \n",
              "7  achieve a healthy body, mental alertness, and ...   \n",
              "8  karmayogi is the dramatic and inspiring story ...   \n",
              "9  ‘this is the original game of thrones’ george ...   \n",
              "\n",
              "                            Genre                          BookCategory  \\\n",
              "0             action & adventure                     action & adventure   \n",
              "1             cinema & broadcast   biographies, diaries & true accounts   \n",
              "2         international relations                                humour   \n",
              "3           contemporary fiction              crime, thriller & mystery   \n",
              "4           photography textbooks              arts, film & photography   \n",
              "5      healthy living & wellness                                 sports   \n",
              "6      crime, thriller & mystery              crime, thriller & mystery   \n",
              "7     sports training & coaching                                 sports   \n",
              "8  biographies & autobiographies   biographies, diaries & true accounts   \n",
              "9             action & adventure                     action & adventure   \n",
              "\n",
              "    Price Edition_Type  Rating  Num_of_reviews  Year Edition_Type_updated  \n",
              "0  220.00    paperback     4.0               8  2016            paperback  \n",
              "1  202.93    paperback     4.0              14  2012            paperback  \n",
              "2  299.00    paperback     5.0               6  1982            paperback  \n",
              "3  180.00    paperback     4.0              13  2017            paperback  \n",
              "4  965.62    hardcover     5.0               1  2006            hardcover  \n",
              "5  900.00    paperback     4.0               8  2009            paperback  \n",
              "6  224.00    paperback     4.0              72  2017            paperback  \n",
              "7  836.00    hardcover     5.0              16  2018            hardcover  \n",
              "8  130.00    paperback     4.0             111  2015            paperback  \n",
              "9  695.00    paperback     4.0               1  2013            paperback  "
            ]
          },
          "metadata": {},
          "execution_count": 1215
        }
      ],
      "source": [
        "train_data.head(10)"
      ]
    },
    {
      "cell_type": "markdown",
      "source": [
        "## Synopsis"
      ],
      "metadata": {
        "id": "zAv2JW9Bb98X"
      }
    },
    {
      "cell_type": "code",
      "execution_count": null,
      "metadata": {
        "colab": {
          "base_uri": "https://localhost:8080/",
          "height": 103
        },
        "id": "2pFDEVuYa4BF",
        "outputId": "845c794a-2966-41a4-a55b-72ff8545ae8e"
      },
      "outputs": [
        {
          "output_type": "execute_result",
          "data": {
            "application/vnd.google.colaboratory.intrinsic+json": {
              "type": "string"
            },
            "text/plain": [
              "'for seven decades, \"life\" has been thrilling the world with its unrivalled presentation of the very best photography to be found. here, the editors have assembled the creme de la creme from the magazine\\'s vast collection of images. because \"life\" has always dealt with matters of every sort, the entire spectrum of society is represented in these pages. one after another, there are unforgettable photos from hollywood\\'s greatest stars, from the wonders of small-town america, from the terrible wars, as well as from the zestful years of childhood. \"life\" has always represented the apex in photojournalism and its roster of great photographers is unequalled.'"
            ]
          },
          "metadata": {},
          "execution_count": 1216
        }
      ],
      "source": [
        "train_data.Synopsis[4]"
      ]
    },
    {
      "cell_type": "code",
      "execution_count": null,
      "metadata": {
        "colab": {
          "base_uri": "https://localhost:8080/",
          "height": 35
        },
        "id": "Y_SdWDBi_vKA",
        "outputId": "b693fc67-952e-4c43-fc99-722292e26d99"
      },
      "outputs": [
        {
          "output_type": "execute_result",
          "data": {
            "application/vnd.google.colaboratory.intrinsic+json": {
              "type": "string"
            },
            "text/plain": [
              "'learn and practise the verbs, prepositions and idioms you need to speak and write naturally in english.'"
            ]
          },
          "metadata": {},
          "execution_count": 1217
        }
      ],
      "source": [
        "test_data.Synopsis[4]"
      ]
    },
    {
      "cell_type": "code",
      "source": [
        "train_data.Synopsis"
      ],
      "metadata": {
        "colab": {
          "base_uri": "https://localhost:8080/"
        },
        "id": "IRM8FMdmcYhu",
        "outputId": "f4868d6e-0993-4135-d8f0-7347df9775d5"
      },
      "execution_count": null,
      "outputs": [
        {
          "output_type": "execute_result",
          "data": {
            "text/plain": [
              "0       the hunters return in their third brilliant no...\n",
              "1       a layered portrait of a troubled genius for wh...\n",
              "2       \"during the time men live without a common pow...\n",
              "3       a handful of grain is found in the pocket of a...\n",
              "4       for seven decades, \"life\" has been thrilling t...\n",
              "                              ...                        \n",
              "6232    'f*cking brilliant' sarah knight\\n'very funny'...\n",
              "6233    in this gripping page-turner, an ex-agent on t...\n",
              "6234    'the most refreshing and radiant love story yo...\n",
              "6235    frostfire by amanda hocking is the stunning fi...\n",
              "6236    six years ago, sam capra watched his brother, ...\n",
              "Name: Synopsis, Length: 6237, dtype: object"
            ]
          },
          "metadata": {},
          "execution_count": 1218
        }
      ]
    },
    {
      "cell_type": "code",
      "source": [
        "train_data.Synopsis = train_data.Synopsis.apply(lambda x: \" \".join(x.lower() for x in x.split()))\n",
        "train_data.Synopsis = train_data.Synopsis.apply(lambda x: x.replace('\"','') )\n",
        "train_data.Synopsis = train_data.Synopsis.apply(lambda x: x.replace(\"'\",'') )\n",
        "train_data.Synopsis"
      ],
      "metadata": {
        "colab": {
          "base_uri": "https://localhost:8080/"
        },
        "id": "zePlvFivcz48",
        "outputId": "4f5d39ce-ab49-4434-f872-c5559d6b1d62"
      },
      "execution_count": null,
      "outputs": [
        {
          "output_type": "execute_result",
          "data": {
            "text/plain": [
              "0       the hunters return in their third brilliant no...\n",
              "1       a layered portrait of a troubled genius for wh...\n",
              "2       during the time men live without a common powe...\n",
              "3       a handful of grain is found in the pocket of a...\n",
              "4       for seven decades, life has been thrilling the...\n",
              "                              ...                        \n",
              "6232    f*cking brilliant sarah knight very funny mark...\n",
              "6233    in this gripping page-turner, an ex-agent on t...\n",
              "6234    the most refreshing and radiant love story you...\n",
              "6235    frostfire by amanda hocking is the stunning fi...\n",
              "6236    six years ago, sam capra watched his brother, ...\n",
              "Name: Synopsis, Length: 6237, dtype: object"
            ]
          },
          "metadata": {},
          "execution_count": 1219
        }
      ]
    },
    {
      "cell_type": "markdown",
      "source": [
        "Stop Words: \n",
        "A stop word is a commonly used word (such as “the”, “a”, “an”, “in”) that a search engine has been programmed to ignore, both when indexing entries for searching and when retrieving them as the result of a search query. \n",
        "We would not want these words to take up space in our database, or taking up valuable processing time. For this, we can remove them easily, by storing a list of words that you consider to stop words. NLTK(Natural Language Toolkit) in python has a list of stopwords stored in 16 different languages. You can find them in the nltk_data directory"
      ],
      "metadata": {
        "id": "4uUbr43CfaQM"
      }
    },
    {
      "cell_type": "code",
      "source": [
        "stop = stopwords.words('english')\n",
        "train_data.Synopsis = train_data.Synopsis.apply(lambda x: \" \".join(x for x in x.split() if x not in stop))\n",
        "train_data.Synopsis"
      ],
      "metadata": {
        "colab": {
          "base_uri": "https://localhost:8080/"
        },
        "id": "KodV6YjGfpeG",
        "outputId": "360327e4-e046-4244-d2ad-bdfcebe55301"
      },
      "execution_count": null,
      "outputs": [
        {
          "output_type": "execute_result",
          "data": {
            "text/plain": [
              "0       hunters return third brilliant novel sunday ti...\n",
              "1       layered portrait troubled genius art merely th...\n",
              "2       time men live without common power keep awe, c...\n",
              "3       handful grain found pocket murdered businessma...\n",
              "4       seven decades, life thrilling world unrivalled...\n",
              "                              ...                        \n",
              "6232    f*cking brilliant sarah knight funny mark wats...\n",
              "6233    gripping page-turner, ex-agent run former empl...\n",
              "6234    refreshing radiant love story youll read year....\n",
              "6235    frostfire amanda hocking stunning first instal...\n",
              "6236    six years ago, sam capra watched brother, dann...\n",
              "Name: Synopsis, Length: 6237, dtype: object"
            ]
          },
          "metadata": {},
          "execution_count": 1220
        }
      ]
    },
    {
      "cell_type": "markdown",
      "source": [
        "Stemming : Stemming is the process of producing morphological variants of a root/base word. Stemming programs are commonly referred to as stemming algorithms or stemmers. A stemming algorithm reduces the words “chocolates”, “chocolatey”, “choco” to the root word, “chocolate” and “retrieval”, “retrieved”, “retrieves” reduce to the stem “retrieve”. Stemming is an important part of the pipelining process in Natural language processing. The input to the stemmer is tokenized words."
      ],
      "metadata": {
        "id": "7XUvwunng_28"
      }
    },
    {
      "cell_type": "markdown",
      "source": [
        "Porter’s Stemmer algorithm:\n",
        "\n",
        "It is one of the most popular stemming methods proposed in 1980. It is based on the idea that the suffixes in the English language are made up of a combination of smaller and simpler suffixes. This stemmer is known for its speed and simplicity. The main applications of Porter Stemmer include data mining and Information retrieval. However, its applications are only limited to English words. Also, the group of stems is mapped on to the same stem and the output stem is not necessarily a meaningful word. The algorithms are fairly lengthy in nature and are known to be the oldest stemmer.\n",
        "Example: EED -> EE means “if the word has at least one vowel and consonant plus EED ending, change the ending to EE” as ‘agreed’ becomes ‘agree’. "
      ],
      "metadata": {
        "id": "noRcxi3ahDKr"
      }
    },
    {
      "cell_type": "code",
      "source": [
        "st = PorterStemmer()\n",
        "train_data.Synopsis = train_data.Synopsis.apply(lambda x: \" \".join([st.stem(word) for word in x.split()]))\n",
        "train_data.Synopsis"
      ],
      "metadata": {
        "colab": {
          "base_uri": "https://localhost:8080/"
        },
        "id": "SySEe_kUhc-h",
        "outputId": "7e5fee60-925d-4049-f884-39cb3f2db6f9"
      },
      "execution_count": null,
      "outputs": [
        {
          "output_type": "execute_result",
          "data": {
            "text/plain": [
              "0       hunter return third brilliant novel sunday tim...\n",
              "1       layer portrait troubl geniu art mere thing bea...\n",
              "2       time men live without common power keep awe, c...\n",
              "3       hand grain found pocket murder businessman… re...\n",
              "4       seven decades, life thrill world unrival prese...\n",
              "                              ...                        \n",
              "6232    f*cking brilliant sarah knight funni mark wats...\n",
              "6233    grip page-turner, ex-ag run former employ must...\n",
              "6234    refresh radiant love stori youll read year. - ...\n",
              "6235    frostfir amanda hock stun first instal tale lo...\n",
              "6236    six year ago, sam capra watch brother, danny, ...\n",
              "Name: Synopsis, Length: 6237, dtype: object"
            ]
          },
          "metadata": {},
          "execution_count": 1221
        }
      ]
    },
    {
      "cell_type": "markdown",
      "source": [
        "TextBlob module is a Python library and offers a simple API to access its methods and perform basic NLP tasks. It is built on the top of NLTK module."
      ],
      "metadata": {
        "id": "otpiU4GdjDXG"
      }
    },
    {
      "cell_type": "markdown",
      "source": [
        "TextBlob returns polarity and subjectivity of a sentence. Polarity lies between [-1,1], -1 defines a negative sentiment and 1 defines a positive sentiment. Negation words reverse the polarity. TextBlob has semantic labels that help with fine-grained analysis. For example — emoticons, exclamation mark, emojis, etc. Subjectivity lies between [0,1]. Subjectivity quantifies the amount of personal opinion and factual information contained in the text. The higher subjectivity means that the text contains personal opinion rather than factual information. TextBlob has one more parameter — intensity. TextBlob calculates subjectivity by looking at the ‘intensity’. Intensity determines if a word modifies the next word. For English, adverbs are used as modifiers (‘very good’)."
      ],
      "metadata": {
        "id": "h-ZWliOTjFkk"
      }
    },
    {
      "cell_type": "markdown",
      "source": [
        "The sentiment property returns a namedtuple of the form Sentiment(polarity, subjectivity). The polarity score is a float within the range [-1.0, 1.0]. The subjectivity is a float within the range [0.0, 1.0] where 0.0 is very objective and 1.0 is very subjective."
      ],
      "metadata": {
        "id": "_osvFFuUsErz"
      }
    },
    {
      "cell_type": "code",
      "source": [
        "train_data['Sentiment'] = train_data.Synopsis.apply(lambda tweet: TextBlob(tweet).sentiment)\n",
        "train_data['Sentiment']"
      ],
      "metadata": {
        "colab": {
          "base_uri": "https://localhost:8080/"
        },
        "id": "x4hSkmg3kQ2y",
        "outputId": "8c21d33e-d3bc-4713-ffe0-430bc0588fac"
      },
      "execution_count": null,
      "outputs": [
        {
          "output_type": "execute_result",
          "data": {
            "text/plain": [
              "0         (0.20879953379953375, 0.45134032634032634)\n",
              "1          (0.08993506493506491, 0.3634199134199134)\n",
              "2          (0.04790552584670231, 0.3845811051693405)\n",
              "3                                        (0.0, 0.25)\n",
              "4                         (0.5599999999999999, 0.61)\n",
              "                            ...                     \n",
              "6232    (-0.007142857142857151, 0.38944099378881986)\n",
              "6233      (-0.08440656565656567, 0.4414953102453102)\n",
              "6234        (0.4258741258741259, 0.4811188811188811)\n",
              "6235       (0.16851851851851854, 0.4999999999999999)\n",
              "6236      (0.013333333333333322, 0.4716666666666668)\n",
              "Name: Sentiment, Length: 6237, dtype: object"
            ]
          },
          "metadata": {},
          "execution_count": 1222
        }
      ]
    },
    {
      "cell_type": "code",
      "source": [
        "sentiment_series = train_data['Sentiment'].tolist()\n",
        "columns = ['polarity', 'subjectivity']\n",
        "\n",
        "df = pd.DataFrame(sentiment_series, columns=columns, index=train_data.index)\n",
        "\n",
        "train_data['polarity'] = df['polarity']\n",
        "train_data['subjectivity'] = df['subjectivity']\n",
        "#train_data"
      ],
      "metadata": {
        "id": "E_7SV4l3svEV"
      },
      "execution_count": null,
      "outputs": []
    },
    {
      "cell_type": "markdown",
      "source": [
        "Repeating the process for test data"
      ],
      "metadata": {
        "id": "GkQeEDzfs4hA"
      }
    },
    {
      "cell_type": "code",
      "execution_count": null,
      "metadata": {
        "id": "bf4ObTRD_zo3"
      },
      "outputs": [],
      "source": [
        "test_data.Synopsis = test_data.Synopsis.apply(lambda x: \" \".join(x.lower() for x in x.split()))\n",
        "test_data.Synopsis = test_data.Synopsis.apply(lambda x: x.replace('\"','') )\n",
        "test_data.Synopsis = test_data.Synopsis.apply(lambda x: x.replace(\"'\",'') )\n",
        "\n",
        "stop = stopwords.words('english')\n",
        "test_data.Synopsis = test_data.Synopsis.apply(lambda x: \" \".join(x for x in x.split() if x not in stop))\n",
        "\n",
        "st = PorterStemmer()\n",
        "test_data.Synopsis = test_data.Synopsis.apply(lambda x: \" \".join([st.stem(word) for word in x.split()]))\n",
        "\n",
        "test_data['Sentiment'] = test_data.Synopsis.apply(lambda tweet: TextBlob(tweet).sentiment)\n",
        "\n",
        "sentiment_series = test_data['Sentiment'].tolist()\n",
        "columns = ['polarity', 'subjectivity']\n",
        "\n",
        "df = pd.DataFrame(sentiment_series, columns=columns, index=test_data.index)\n",
        "\n",
        "test_data['polarity'] = df['polarity']\n",
        "test_data['subjectivity'] = df['subjectivity']"
      ]
    },
    {
      "cell_type": "code",
      "source": [
        "train_data"
      ],
      "metadata": {
        "colab": {
          "base_uri": "https://localhost:8080/",
          "height": 993
        },
        "id": "a477KSn8t5c5",
        "outputId": "4144aae3-5f6b-4651-8c38-5080e2b25554"
      },
      "execution_count": null,
      "outputs": [
        {
          "output_type": "execute_result",
          "data": {
            "text/html": [
              "\n",
              "  <div id=\"df-22709f72-0a3d-4d82-809b-1977f4fce3bd\">\n",
              "    <div class=\"colab-df-container\">\n",
              "      <div>\n",
              "<style scoped>\n",
              "    .dataframe tbody tr th:only-of-type {\n",
              "        vertical-align: middle;\n",
              "    }\n",
              "\n",
              "    .dataframe tbody tr th {\n",
              "        vertical-align: top;\n",
              "    }\n",
              "\n",
              "    .dataframe thead th {\n",
              "        text-align: right;\n",
              "    }\n",
              "</style>\n",
              "<table border=\"1\" class=\"dataframe\">\n",
              "  <thead>\n",
              "    <tr style=\"text-align: right;\">\n",
              "      <th></th>\n",
              "      <th>Title</th>\n",
              "      <th>Author</th>\n",
              "      <th>Edition</th>\n",
              "      <th>Reviews</th>\n",
              "      <th>Ratings</th>\n",
              "      <th>Synopsis</th>\n",
              "      <th>Genre</th>\n",
              "      <th>BookCategory</th>\n",
              "      <th>Price</th>\n",
              "      <th>Edition_Type</th>\n",
              "      <th>Rating</th>\n",
              "      <th>Num_of_reviews</th>\n",
              "      <th>Year</th>\n",
              "      <th>Edition_Type_updated</th>\n",
              "      <th>Sentiment</th>\n",
              "      <th>polarity</th>\n",
              "      <th>subjectivity</th>\n",
              "    </tr>\n",
              "  </thead>\n",
              "  <tbody>\n",
              "    <tr>\n",
              "      <th>0</th>\n",
              "      <td>the prisoner's gold (the hunters 3)</td>\n",
              "      <td>chris kuzneski</td>\n",
              "      <td>paperback,– 10 mar 2016</td>\n",
              "      <td>4.0 out of 5 stars</td>\n",
              "      <td>8 customer reviews</td>\n",
              "      <td>hunter return third brilliant novel sunday tim...</td>\n",
              "      <td>action &amp; adventure</td>\n",
              "      <td>action &amp; adventure</td>\n",
              "      <td>220.00</td>\n",
              "      <td>paperback</td>\n",
              "      <td>4.0</td>\n",
              "      <td>8</td>\n",
              "      <td>2016</td>\n",
              "      <td>paperback</td>\n",
              "      <td>(0.20879953379953375, 0.45134032634032634)</td>\n",
              "      <td>0.208800</td>\n",
              "      <td>0.451340</td>\n",
              "    </tr>\n",
              "    <tr>\n",
              "      <th>1</th>\n",
              "      <td>guru dutt: a tragedy in three acts</td>\n",
              "      <td>arun khopkar</td>\n",
              "      <td>paperback,– 7 nov 2012</td>\n",
              "      <td>3.9 out of 5 stars</td>\n",
              "      <td>14 customer reviews</td>\n",
              "      <td>layer portrait troubl geniu art mere thing bea...</td>\n",
              "      <td>cinema &amp; broadcast</td>\n",
              "      <td>biographies, diaries &amp; true accounts</td>\n",
              "      <td>202.93</td>\n",
              "      <td>paperback</td>\n",
              "      <td>4.0</td>\n",
              "      <td>14</td>\n",
              "      <td>2012</td>\n",
              "      <td>paperback</td>\n",
              "      <td>(0.08993506493506491, 0.3634199134199134)</td>\n",
              "      <td>0.089935</td>\n",
              "      <td>0.363420</td>\n",
              "    </tr>\n",
              "    <tr>\n",
              "      <th>2</th>\n",
              "      <td>leviathan (penguin classics)</td>\n",
              "      <td>thomas hobbes</td>\n",
              "      <td>paperback,– 25 feb 1982</td>\n",
              "      <td>4.8 out of 5 stars</td>\n",
              "      <td>6 customer reviews</td>\n",
              "      <td>time men live without common power keep awe, c...</td>\n",
              "      <td>international relations</td>\n",
              "      <td>humour</td>\n",
              "      <td>299.00</td>\n",
              "      <td>paperback</td>\n",
              "      <td>5.0</td>\n",
              "      <td>6</td>\n",
              "      <td>1982</td>\n",
              "      <td>paperback</td>\n",
              "      <td>(0.04790552584670231, 0.3845811051693405)</td>\n",
              "      <td>0.047906</td>\n",
              "      <td>0.384581</td>\n",
              "    </tr>\n",
              "    <tr>\n",
              "      <th>3</th>\n",
              "      <td>a pocket full of rye (miss marple)</td>\n",
              "      <td>agatha christie</td>\n",
              "      <td>paperback,– 5 oct 2017</td>\n",
              "      <td>4.1 out of 5 stars</td>\n",
              "      <td>13 customer reviews</td>\n",
              "      <td>hand grain found pocket murder businessman… re...</td>\n",
              "      <td>contemporary fiction</td>\n",
              "      <td>crime, thriller &amp; mystery</td>\n",
              "      <td>180.00</td>\n",
              "      <td>paperback</td>\n",
              "      <td>4.0</td>\n",
              "      <td>13</td>\n",
              "      <td>2017</td>\n",
              "      <td>paperback</td>\n",
              "      <td>(0.0, 0.25)</td>\n",
              "      <td>0.000000</td>\n",
              "      <td>0.250000</td>\n",
              "    </tr>\n",
              "    <tr>\n",
              "      <th>4</th>\n",
              "      <td>life 70 years of extraordinary photography</td>\n",
              "      <td>editors of life</td>\n",
              "      <td>hardcover,– 10 oct 2006</td>\n",
              "      <td>5.0 out of 5 stars</td>\n",
              "      <td>1 customer review</td>\n",
              "      <td>seven decades, life thrill world unrival prese...</td>\n",
              "      <td>photography textbooks</td>\n",
              "      <td>arts, film &amp; photography</td>\n",
              "      <td>965.62</td>\n",
              "      <td>hardcover</td>\n",
              "      <td>5.0</td>\n",
              "      <td>1</td>\n",
              "      <td>2006</td>\n",
              "      <td>hardcover</td>\n",
              "      <td>(0.5599999999999999, 0.61)</td>\n",
              "      <td>0.560000</td>\n",
              "      <td>0.610000</td>\n",
              "    </tr>\n",
              "    <tr>\n",
              "      <th>...</th>\n",
              "      <td>...</td>\n",
              "      <td>...</td>\n",
              "      <td>...</td>\n",
              "      <td>...</td>\n",
              "      <td>...</td>\n",
              "      <td>...</td>\n",
              "      <td>...</td>\n",
              "      <td>...</td>\n",
              "      <td>...</td>\n",
              "      <td>...</td>\n",
              "      <td>...</td>\n",
              "      <td>...</td>\n",
              "      <td>...</td>\n",
              "      <td>...</td>\n",
              "      <td>...</td>\n",
              "      <td>...</td>\n",
              "      <td>...</td>\n",
              "    </tr>\n",
              "    <tr>\n",
              "      <th>6232</th>\n",
              "      <td>humans: a brief history of how we f*cked it al...</td>\n",
              "      <td>tom phillips</td>\n",
              "      <td>paperback,– 8 aug 2018</td>\n",
              "      <td>5.0 out of 5 stars</td>\n",
              "      <td>2 customer reviews</td>\n",
              "      <td>f*cking brilliant sarah knight funni mark wats...</td>\n",
              "      <td>anthropology</td>\n",
              "      <td>humour</td>\n",
              "      <td>322.00</td>\n",
              "      <td>paperback</td>\n",
              "      <td>5.0</td>\n",
              "      <td>2</td>\n",
              "      <td>2018</td>\n",
              "      <td>paperback</td>\n",
              "      <td>(-0.007142857142857151, 0.38944099378881986)</td>\n",
              "      <td>-0.007143</td>\n",
              "      <td>0.389441</td>\n",
              "    </tr>\n",
              "    <tr>\n",
              "      <th>6233</th>\n",
              "      <td>the chemist</td>\n",
              "      <td>stephenie meyer</td>\n",
              "      <td>paperback,– 21 nov 2016</td>\n",
              "      <td>3.3 out of 5 stars</td>\n",
              "      <td>9 customer reviews</td>\n",
              "      <td>grip page-turner, ex-ag run former employ must...</td>\n",
              "      <td>contemporary fiction</td>\n",
              "      <td>crime, thriller &amp; mystery</td>\n",
              "      <td>421.00</td>\n",
              "      <td>paperback</td>\n",
              "      <td>3.0</td>\n",
              "      <td>9</td>\n",
              "      <td>2016</td>\n",
              "      <td>paperback</td>\n",
              "      <td>(-0.08440656565656567, 0.4414953102453102)</td>\n",
              "      <td>-0.084407</td>\n",
              "      <td>0.441495</td>\n",
              "    </tr>\n",
              "    <tr>\n",
              "      <th>6234</th>\n",
              "      <td>the duke and i: number 1 in series (bridgerton...</td>\n",
              "      <td>julia quinn</td>\n",
              "      <td>paperback,– 8 jun 2006</td>\n",
              "      <td>3.8 out of 5 stars</td>\n",
              "      <td>3 customer reviews</td>\n",
              "      <td>refresh radiant love stori youll read year. - ...</td>\n",
              "      <td>romance</td>\n",
              "      <td>romance</td>\n",
              "      <td>399.00</td>\n",
              "      <td>paperback</td>\n",
              "      <td>4.0</td>\n",
              "      <td>3</td>\n",
              "      <td>2006</td>\n",
              "      <td>paperback</td>\n",
              "      <td>(0.4258741258741259, 0.4811188811188811)</td>\n",
              "      <td>0.425874</td>\n",
              "      <td>0.481119</td>\n",
              "    </tr>\n",
              "    <tr>\n",
              "      <th>6235</th>\n",
              "      <td>frostfire (kanin chronicles)</td>\n",
              "      <td>amanda hocking</td>\n",
              "      <td>paperback,– 15 jan 2015</td>\n",
              "      <td>3.5 out of 5 stars</td>\n",
              "      <td>4 customer reviews</td>\n",
              "      <td>frostfir amanda hock stun first instal tale lo...</td>\n",
              "      <td>action &amp; adventure</td>\n",
              "      <td>action &amp; adventure</td>\n",
              "      <td>319.00</td>\n",
              "      <td>paperback</td>\n",
              "      <td>4.0</td>\n",
              "      <td>4</td>\n",
              "      <td>2015</td>\n",
              "      <td>paperback</td>\n",
              "      <td>(0.16851851851851854, 0.4999999999999999)</td>\n",
              "      <td>0.168519</td>\n",
              "      <td>0.500000</td>\n",
              "    </tr>\n",
              "    <tr>\n",
              "      <th>6236</th>\n",
              "      <td>the first order (sam capra)</td>\n",
              "      <td>jeff abbott</td>\n",
              "      <td>paperback,– 21 dec 2016</td>\n",
              "      <td>3.9 out of 5 stars</td>\n",
              "      <td>2 customer reviews</td>\n",
              "      <td>six year ago, sam capra watch brother, danny, ...</td>\n",
              "      <td>action &amp; adventure</td>\n",
              "      <td>action &amp; adventure</td>\n",
              "      <td>452.00</td>\n",
              "      <td>paperback</td>\n",
              "      <td>4.0</td>\n",
              "      <td>2</td>\n",
              "      <td>2016</td>\n",
              "      <td>paperback</td>\n",
              "      <td>(0.013333333333333322, 0.4716666666666668)</td>\n",
              "      <td>0.013333</td>\n",
              "      <td>0.471667</td>\n",
              "    </tr>\n",
              "  </tbody>\n",
              "</table>\n",
              "<p>6237 rows × 17 columns</p>\n",
              "</div>\n",
              "      <button class=\"colab-df-convert\" onclick=\"convertToInteractive('df-22709f72-0a3d-4d82-809b-1977f4fce3bd')\"\n",
              "              title=\"Convert this dataframe to an interactive table.\"\n",
              "              style=\"display:none;\">\n",
              "        \n",
              "  <svg xmlns=\"http://www.w3.org/2000/svg\" height=\"24px\"viewBox=\"0 0 24 24\"\n",
              "       width=\"24px\">\n",
              "    <path d=\"M0 0h24v24H0V0z\" fill=\"none\"/>\n",
              "    <path d=\"M18.56 5.44l.94 2.06.94-2.06 2.06-.94-2.06-.94-.94-2.06-.94 2.06-2.06.94zm-11 1L8.5 8.5l.94-2.06 2.06-.94-2.06-.94L8.5 2.5l-.94 2.06-2.06.94zm10 10l.94 2.06.94-2.06 2.06-.94-2.06-.94-.94-2.06-.94 2.06-2.06.94z\"/><path d=\"M17.41 7.96l-1.37-1.37c-.4-.4-.92-.59-1.43-.59-.52 0-1.04.2-1.43.59L10.3 9.45l-7.72 7.72c-.78.78-.78 2.05 0 2.83L4 21.41c.39.39.9.59 1.41.59.51 0 1.02-.2 1.41-.59l7.78-7.78 2.81-2.81c.8-.78.8-2.07 0-2.86zM5.41 20L4 18.59l7.72-7.72 1.47 1.35L5.41 20z\"/>\n",
              "  </svg>\n",
              "      </button>\n",
              "      \n",
              "  <style>\n",
              "    .colab-df-container {\n",
              "      display:flex;\n",
              "      flex-wrap:wrap;\n",
              "      gap: 12px;\n",
              "    }\n",
              "\n",
              "    .colab-df-convert {\n",
              "      background-color: #E8F0FE;\n",
              "      border: none;\n",
              "      border-radius: 50%;\n",
              "      cursor: pointer;\n",
              "      display: none;\n",
              "      fill: #1967D2;\n",
              "      height: 32px;\n",
              "      padding: 0 0 0 0;\n",
              "      width: 32px;\n",
              "    }\n",
              "\n",
              "    .colab-df-convert:hover {\n",
              "      background-color: #E2EBFA;\n",
              "      box-shadow: 0px 1px 2px rgba(60, 64, 67, 0.3), 0px 1px 3px 1px rgba(60, 64, 67, 0.15);\n",
              "      fill: #174EA6;\n",
              "    }\n",
              "\n",
              "    [theme=dark] .colab-df-convert {\n",
              "      background-color: #3B4455;\n",
              "      fill: #D2E3FC;\n",
              "    }\n",
              "\n",
              "    [theme=dark] .colab-df-convert:hover {\n",
              "      background-color: #434B5C;\n",
              "      box-shadow: 0px 1px 3px 1px rgba(0, 0, 0, 0.15);\n",
              "      filter: drop-shadow(0px 1px 2px rgba(0, 0, 0, 0.3));\n",
              "      fill: #FFFFFF;\n",
              "    }\n",
              "  </style>\n",
              "\n",
              "      <script>\n",
              "        const buttonEl =\n",
              "          document.querySelector('#df-22709f72-0a3d-4d82-809b-1977f4fce3bd button.colab-df-convert');\n",
              "        buttonEl.style.display =\n",
              "          google.colab.kernel.accessAllowed ? 'block' : 'none';\n",
              "\n",
              "        async function convertToInteractive(key) {\n",
              "          const element = document.querySelector('#df-22709f72-0a3d-4d82-809b-1977f4fce3bd');\n",
              "          const dataTable =\n",
              "            await google.colab.kernel.invokeFunction('convertToInteractive',\n",
              "                                                     [key], {});\n",
              "          if (!dataTable) return;\n",
              "\n",
              "          const docLinkHtml = 'Like what you see? Visit the ' +\n",
              "            '<a target=\"_blank\" href=https://colab.research.google.com/notebooks/data_table.ipynb>data table notebook</a>'\n",
              "            + ' to learn more about interactive tables.';\n",
              "          element.innerHTML = '';\n",
              "          dataTable['output_type'] = 'display_data';\n",
              "          await google.colab.output.renderOutput(dataTable, element);\n",
              "          const docLink = document.createElement('div');\n",
              "          docLink.innerHTML = docLinkHtml;\n",
              "          element.appendChild(docLink);\n",
              "        }\n",
              "      </script>\n",
              "    </div>\n",
              "  </div>\n",
              "  "
            ],
            "text/plain": [
              "                                                  Title           Author  \\\n",
              "0                   the prisoner's gold (the hunters 3)   chris kuzneski   \n",
              "1                    guru dutt: a tragedy in three acts     arun khopkar   \n",
              "2                          leviathan (penguin classics)    thomas hobbes   \n",
              "3                    a pocket full of rye (miss marple)  agatha christie   \n",
              "4            life 70 years of extraordinary photography  editors of life   \n",
              "...                                                 ...              ...   \n",
              "6232  humans: a brief history of how we f*cked it al...     tom phillips   \n",
              "6233                                        the chemist  stephenie meyer   \n",
              "6234  the duke and i: number 1 in series (bridgerton...      julia quinn   \n",
              "6235                       frostfire (kanin chronicles)   amanda hocking   \n",
              "6236                        the first order (sam capra)      jeff abbott   \n",
              "\n",
              "                      Edition             Reviews              Ratings  \\\n",
              "0     paperback,– 10 mar 2016  4.0 out of 5 stars   8 customer reviews   \n",
              "1      paperback,– 7 nov 2012  3.9 out of 5 stars  14 customer reviews   \n",
              "2     paperback,– 25 feb 1982  4.8 out of 5 stars   6 customer reviews   \n",
              "3      paperback,– 5 oct 2017  4.1 out of 5 stars  13 customer reviews   \n",
              "4     hardcover,– 10 oct 2006  5.0 out of 5 stars    1 customer review   \n",
              "...                       ...                 ...                  ...   \n",
              "6232   paperback,– 8 aug 2018  5.0 out of 5 stars   2 customer reviews   \n",
              "6233  paperback,– 21 nov 2016  3.3 out of 5 stars   9 customer reviews   \n",
              "6234   paperback,– 8 jun 2006  3.8 out of 5 stars   3 customer reviews   \n",
              "6235  paperback,– 15 jan 2015  3.5 out of 5 stars   4 customer reviews   \n",
              "6236  paperback,– 21 dec 2016  3.9 out of 5 stars   2 customer reviews   \n",
              "\n",
              "                                               Synopsis  \\\n",
              "0     hunter return third brilliant novel sunday tim...   \n",
              "1     layer portrait troubl geniu art mere thing bea...   \n",
              "2     time men live without common power keep awe, c...   \n",
              "3     hand grain found pocket murder businessman… re...   \n",
              "4     seven decades, life thrill world unrival prese...   \n",
              "...                                                 ...   \n",
              "6232  f*cking brilliant sarah knight funni mark wats...   \n",
              "6233  grip page-turner, ex-ag run former employ must...   \n",
              "6234  refresh radiant love stori youll read year. - ...   \n",
              "6235  frostfir amanda hock stun first instal tale lo...   \n",
              "6236  six year ago, sam capra watch brother, danny, ...   \n",
              "\n",
              "                        Genre                          BookCategory   Price  \\\n",
              "0         action & adventure                     action & adventure  220.00   \n",
              "1         cinema & broadcast   biographies, diaries & true accounts  202.93   \n",
              "2     international relations                                humour  299.00   \n",
              "3       contemporary fiction              crime, thriller & mystery  180.00   \n",
              "4       photography textbooks              arts, film & photography  965.62   \n",
              "...                       ...                                   ...     ...   \n",
              "6232            anthropology                                 humour  322.00   \n",
              "6233    contemporary fiction              crime, thriller & mystery  421.00   \n",
              "6234                 romance                                romance  399.00   \n",
              "6235      action & adventure                     action & adventure  319.00   \n",
              "6236      action & adventure                     action & adventure  452.00   \n",
              "\n",
              "     Edition_Type  Rating  Num_of_reviews  Year Edition_Type_updated  \\\n",
              "0       paperback     4.0               8  2016            paperback   \n",
              "1       paperback     4.0              14  2012            paperback   \n",
              "2       paperback     5.0               6  1982            paperback   \n",
              "3       paperback     4.0              13  2017            paperback   \n",
              "4       hardcover     5.0               1  2006            hardcover   \n",
              "...           ...     ...             ...   ...                  ...   \n",
              "6232    paperback     5.0               2  2018            paperback   \n",
              "6233    paperback     3.0               9  2016            paperback   \n",
              "6234    paperback     4.0               3  2006            paperback   \n",
              "6235    paperback     4.0               4  2015            paperback   \n",
              "6236    paperback     4.0               2  2016            paperback   \n",
              "\n",
              "                                         Sentiment  polarity  subjectivity  \n",
              "0       (0.20879953379953375, 0.45134032634032634)  0.208800      0.451340  \n",
              "1        (0.08993506493506491, 0.3634199134199134)  0.089935      0.363420  \n",
              "2        (0.04790552584670231, 0.3845811051693405)  0.047906      0.384581  \n",
              "3                                      (0.0, 0.25)  0.000000      0.250000  \n",
              "4                       (0.5599999999999999, 0.61)  0.560000      0.610000  \n",
              "...                                            ...       ...           ...  \n",
              "6232  (-0.007142857142857151, 0.38944099378881986) -0.007143      0.389441  \n",
              "6233    (-0.08440656565656567, 0.4414953102453102) -0.084407      0.441495  \n",
              "6234      (0.4258741258741259, 0.4811188811188811)  0.425874      0.481119  \n",
              "6235     (0.16851851851851854, 0.4999999999999999)  0.168519      0.500000  \n",
              "6236    (0.013333333333333322, 0.4716666666666668)  0.013333      0.471667  \n",
              "\n",
              "[6237 rows x 17 columns]"
            ]
          },
          "metadata": {},
          "execution_count": 1225
        }
      ]
    },
    {
      "cell_type": "code",
      "source": [
        "test_data"
      ],
      "metadata": {
        "colab": {
          "base_uri": "https://localhost:8080/",
          "height": 1000
        },
        "id": "2uehSFnJt-GA",
        "outputId": "78f86e69-e402-4b87-b889-2faf3c582b9f"
      },
      "execution_count": null,
      "outputs": [
        {
          "output_type": "execute_result",
          "data": {
            "text/html": [
              "\n",
              "  <div id=\"df-9bc2559b-b64e-4a39-9dc9-3693d4e2e271\">\n",
              "    <div class=\"colab-df-container\">\n",
              "      <div>\n",
              "<style scoped>\n",
              "    .dataframe tbody tr th:only-of-type {\n",
              "        vertical-align: middle;\n",
              "    }\n",
              "\n",
              "    .dataframe tbody tr th {\n",
              "        vertical-align: top;\n",
              "    }\n",
              "\n",
              "    .dataframe thead th {\n",
              "        text-align: right;\n",
              "    }\n",
              "</style>\n",
              "<table border=\"1\" class=\"dataframe\">\n",
              "  <thead>\n",
              "    <tr style=\"text-align: right;\">\n",
              "      <th></th>\n",
              "      <th>Title</th>\n",
              "      <th>Author</th>\n",
              "      <th>Edition</th>\n",
              "      <th>Reviews</th>\n",
              "      <th>Ratings</th>\n",
              "      <th>Synopsis</th>\n",
              "      <th>Genre</th>\n",
              "      <th>BookCategory</th>\n",
              "      <th>Edition_Type</th>\n",
              "      <th>Rating</th>\n",
              "      <th>Num_of_reviews</th>\n",
              "      <th>Year</th>\n",
              "      <th>Edition_Type_updated</th>\n",
              "      <th>Sentiment</th>\n",
              "      <th>polarity</th>\n",
              "      <th>subjectivity</th>\n",
              "    </tr>\n",
              "  </thead>\n",
              "  <tbody>\n",
              "    <tr>\n",
              "      <th>0</th>\n",
              "      <td>the complete sherlock holmes: 2 boxes sets</td>\n",
              "      <td>sir arthur conan doyle</td>\n",
              "      <td>mass market paperback,– 1 oct 1986</td>\n",
              "      <td>4.4 out of 5 stars</td>\n",
              "      <td>960 customer reviews</td>\n",
              "      <td>collect entir bodi work sherlock holm seri art...</td>\n",
              "      <td>short stories</td>\n",
              "      <td>crime, thriller &amp; mystery</td>\n",
              "      <td>paperback</td>\n",
              "      <td>4.0</td>\n",
              "      <td>960</td>\n",
              "      <td>1986</td>\n",
              "      <td>paperback</td>\n",
              "      <td>(0.05297619047619046, 0.35416666666666663)</td>\n",
              "      <td>0.052976</td>\n",
              "      <td>0.354167</td>\n",
              "    </tr>\n",
              "    <tr>\n",
              "      <th>1</th>\n",
              "      <td>learn docker - fundamentals of docker 18.x: ev...</td>\n",
              "      <td>gabriel n. schenker</td>\n",
              "      <td>paperback,– import, 26 apr 2018</td>\n",
              "      <td>5.0 out of 5 stars</td>\n",
              "      <td>1 customer review</td>\n",
              "      <td>enhanc softwar deploy workflow use contain key...</td>\n",
              "      <td>operating systems textbooks</td>\n",
              "      <td>computing, internet &amp; digital media</td>\n",
              "      <td>paperback</td>\n",
              "      <td>5.0</td>\n",
              "      <td>1</td>\n",
              "      <td>2018</td>\n",
              "      <td>paperback</td>\n",
              "      <td>(0.00909090909090909, 0.41928904428904423)</td>\n",
              "      <td>0.009091</td>\n",
              "      <td>0.419289</td>\n",
              "    </tr>\n",
              "    <tr>\n",
              "      <th>2</th>\n",
              "      <td>big girl</td>\n",
              "      <td>danielle steel</td>\n",
              "      <td>paperback,– 17 mar 2011</td>\n",
              "      <td>5.0 out of 5 stars</td>\n",
              "      <td>4 customer reviews</td>\n",
              "      <td>watch out, world. come! victoria dawson, grow ...</td>\n",
              "      <td>romance</td>\n",
              "      <td>romance</td>\n",
              "      <td>paperback</td>\n",
              "      <td>5.0</td>\n",
              "      <td>4</td>\n",
              "      <td>2011</td>\n",
              "      <td>paperback</td>\n",
              "      <td>(0.18165168165168163, 0.5614885114885114)</td>\n",
              "      <td>0.181652</td>\n",
              "      <td>0.561489</td>\n",
              "    </tr>\n",
              "    <tr>\n",
              "      <th>3</th>\n",
              "      <td>think python: how to think like a computer sci...</td>\n",
              "      <td>allen b. downey</td>\n",
              "      <td>paperback,– 2016</td>\n",
              "      <td>4.1 out of 5 stars</td>\n",
              "      <td>11 customer reviews</td>\n",
              "      <td>want learn program, work python excel way star...</td>\n",
              "      <td>programming &amp; software development</td>\n",
              "      <td>computing, internet &amp; digital media</td>\n",
              "      <td>paperback</td>\n",
              "      <td>4.0</td>\n",
              "      <td>11</td>\n",
              "      <td>2016</td>\n",
              "      <td>paperback</td>\n",
              "      <td>(0.17666666666666667, 0.40805555555555556)</td>\n",
              "      <td>0.176667</td>\n",
              "      <td>0.408056</td>\n",
              "    </tr>\n",
              "    <tr>\n",
              "      <th>4</th>\n",
              "      <td>oxford word skills: advanced - idioms &amp; phrasa...</td>\n",
              "      <td>redman gairns</td>\n",
              "      <td>paperback,– 26 dec 2011</td>\n",
              "      <td>4.4 out of 5 stars</td>\n",
              "      <td>9 customer reviews</td>\n",
              "      <td>learn practis verbs, preposit idiom need speak...</td>\n",
              "      <td>linguistics</td>\n",
              "      <td>language, linguistics &amp; writing</td>\n",
              "      <td>paperback</td>\n",
              "      <td>4.0</td>\n",
              "      <td>9</td>\n",
              "      <td>2011</td>\n",
              "      <td>paperback</td>\n",
              "      <td>(0.0, 0.0)</td>\n",
              "      <td>0.000000</td>\n",
              "      <td>0.000000</td>\n",
              "    </tr>\n",
              "    <tr>\n",
              "      <th>...</th>\n",
              "      <td>...</td>\n",
              "      <td>...</td>\n",
              "      <td>...</td>\n",
              "      <td>...</td>\n",
              "      <td>...</td>\n",
              "      <td>...</td>\n",
              "      <td>...</td>\n",
              "      <td>...</td>\n",
              "      <td>...</td>\n",
              "      <td>...</td>\n",
              "      <td>...</td>\n",
              "      <td>...</td>\n",
              "      <td>...</td>\n",
              "      <td>...</td>\n",
              "      <td>...</td>\n",
              "      <td>...</td>\n",
              "    </tr>\n",
              "    <tr>\n",
              "      <th>1555</th>\n",
              "      <td>100 things every designer needs to know about ...</td>\n",
              "      <td>susan weinschenk</td>\n",
              "      <td>paperback,– 14 apr 2011</td>\n",
              "      <td>5.0 out of 5 stars</td>\n",
              "      <td>4 customer reviews</td>\n",
              "      <td>design elicit respons people. want buy somethi...</td>\n",
              "      <td>design</td>\n",
              "      <td>computing, internet &amp; digital media</td>\n",
              "      <td>paperback</td>\n",
              "      <td>5.0</td>\n",
              "      <td>4</td>\n",
              "      <td>2011</td>\n",
              "      <td>paperback</td>\n",
              "      <td>(0.1976689976689977, 0.4285547785547786)</td>\n",
              "      <td>0.197669</td>\n",
              "      <td>0.428555</td>\n",
              "    </tr>\n",
              "    <tr>\n",
              "      <th>1556</th>\n",
              "      <td>modern letter writing course: personal, busine...</td>\n",
              "      <td>arun sagar</td>\n",
              "      <td>paperback,– 8 may 2013</td>\n",
              "      <td>3.6 out of 5 stars</td>\n",
              "      <td>13 customer reviews</td>\n",
              "      <td>30-day cours write simple, sharp attract lette...</td>\n",
              "      <td>children's reference</td>\n",
              "      <td>biographies, diaries &amp; true accounts</td>\n",
              "      <td>paperback</td>\n",
              "      <td>4.0</td>\n",
              "      <td>13</td>\n",
              "      <td>2013</td>\n",
              "      <td>paperback</td>\n",
              "      <td>(-0.018333333333333333, 0.2947619047619048)</td>\n",
              "      <td>-0.018333</td>\n",
              "      <td>0.294762</td>\n",
              "    </tr>\n",
              "    <tr>\n",
              "      <th>1557</th>\n",
              "      <td>the kite runner graphic novel</td>\n",
              "      <td>khaled hosseini</td>\n",
              "      <td>paperback,– 6 sep 2011</td>\n",
              "      <td>4.0 out of 5 stars</td>\n",
              "      <td>5 customer reviews</td>\n",
              "      <td>perenni bestseller-now avail sensat new graphi...</td>\n",
              "      <td>humour</td>\n",
              "      <td>humour</td>\n",
              "      <td>paperback</td>\n",
              "      <td>4.0</td>\n",
              "      <td>5</td>\n",
              "      <td>2011</td>\n",
              "      <td>paperback</td>\n",
              "      <td>(0.11456228956228959, 0.4769360269360269)</td>\n",
              "      <td>0.114562</td>\n",
              "      <td>0.476936</td>\n",
              "    </tr>\n",
              "    <tr>\n",
              "      <th>1558</th>\n",
              "      <td>panzer leader (penguin world war ii collection)</td>\n",
              "      <td>heinz guderian</td>\n",
              "      <td>paperback,– 22 sep 2009</td>\n",
              "      <td>3.5 out of 5 stars</td>\n",
              "      <td>3 customer reviews</td>\n",
              "      <td>heinz guderian - master blitzkrieg father mode...</td>\n",
              "      <td>united states history</td>\n",
              "      <td>biographies, diaries &amp; true accounts</td>\n",
              "      <td>paperback</td>\n",
              "      <td>4.0</td>\n",
              "      <td>3</td>\n",
              "      <td>2009</td>\n",
              "      <td>paperback</td>\n",
              "      <td>(0.06666666666666667, 0.26666666666666666)</td>\n",
              "      <td>0.066667</td>\n",
              "      <td>0.266667</td>\n",
              "    </tr>\n",
              "    <tr>\n",
              "      <th>1559</th>\n",
              "      <td>complete spanish step-by-step</td>\n",
              "      <td>barbara bregstein</td>\n",
              "      <td>paperback,– 16 sep 2016</td>\n",
              "      <td>4.5 out of 5 stars</td>\n",
              "      <td>2 customer reviews</td>\n",
              "      <td>learn spanish conveni effect guid mcgraw-hill’...</td>\n",
              "      <td>dictionaries</td>\n",
              "      <td>language, linguistics &amp; writing</td>\n",
              "      <td>paperback</td>\n",
              "      <td>4.0</td>\n",
              "      <td>2</td>\n",
              "      <td>2016</td>\n",
              "      <td>paperback</td>\n",
              "      <td>(0.03360881542699724, 0.19207988980716253)</td>\n",
              "      <td>0.033609</td>\n",
              "      <td>0.192080</td>\n",
              "    </tr>\n",
              "  </tbody>\n",
              "</table>\n",
              "<p>1560 rows × 16 columns</p>\n",
              "</div>\n",
              "      <button class=\"colab-df-convert\" onclick=\"convertToInteractive('df-9bc2559b-b64e-4a39-9dc9-3693d4e2e271')\"\n",
              "              title=\"Convert this dataframe to an interactive table.\"\n",
              "              style=\"display:none;\">\n",
              "        \n",
              "  <svg xmlns=\"http://www.w3.org/2000/svg\" height=\"24px\"viewBox=\"0 0 24 24\"\n",
              "       width=\"24px\">\n",
              "    <path d=\"M0 0h24v24H0V0z\" fill=\"none\"/>\n",
              "    <path d=\"M18.56 5.44l.94 2.06.94-2.06 2.06-.94-2.06-.94-.94-2.06-.94 2.06-2.06.94zm-11 1L8.5 8.5l.94-2.06 2.06-.94-2.06-.94L8.5 2.5l-.94 2.06-2.06.94zm10 10l.94 2.06.94-2.06 2.06-.94-2.06-.94-.94-2.06-.94 2.06-2.06.94z\"/><path d=\"M17.41 7.96l-1.37-1.37c-.4-.4-.92-.59-1.43-.59-.52 0-1.04.2-1.43.59L10.3 9.45l-7.72 7.72c-.78.78-.78 2.05 0 2.83L4 21.41c.39.39.9.59 1.41.59.51 0 1.02-.2 1.41-.59l7.78-7.78 2.81-2.81c.8-.78.8-2.07 0-2.86zM5.41 20L4 18.59l7.72-7.72 1.47 1.35L5.41 20z\"/>\n",
              "  </svg>\n",
              "      </button>\n",
              "      \n",
              "  <style>\n",
              "    .colab-df-container {\n",
              "      display:flex;\n",
              "      flex-wrap:wrap;\n",
              "      gap: 12px;\n",
              "    }\n",
              "\n",
              "    .colab-df-convert {\n",
              "      background-color: #E8F0FE;\n",
              "      border: none;\n",
              "      border-radius: 50%;\n",
              "      cursor: pointer;\n",
              "      display: none;\n",
              "      fill: #1967D2;\n",
              "      height: 32px;\n",
              "      padding: 0 0 0 0;\n",
              "      width: 32px;\n",
              "    }\n",
              "\n",
              "    .colab-df-convert:hover {\n",
              "      background-color: #E2EBFA;\n",
              "      box-shadow: 0px 1px 2px rgba(60, 64, 67, 0.3), 0px 1px 3px 1px rgba(60, 64, 67, 0.15);\n",
              "      fill: #174EA6;\n",
              "    }\n",
              "\n",
              "    [theme=dark] .colab-df-convert {\n",
              "      background-color: #3B4455;\n",
              "      fill: #D2E3FC;\n",
              "    }\n",
              "\n",
              "    [theme=dark] .colab-df-convert:hover {\n",
              "      background-color: #434B5C;\n",
              "      box-shadow: 0px 1px 3px 1px rgba(0, 0, 0, 0.15);\n",
              "      filter: drop-shadow(0px 1px 2px rgba(0, 0, 0, 0.3));\n",
              "      fill: #FFFFFF;\n",
              "    }\n",
              "  </style>\n",
              "\n",
              "      <script>\n",
              "        const buttonEl =\n",
              "          document.querySelector('#df-9bc2559b-b64e-4a39-9dc9-3693d4e2e271 button.colab-df-convert');\n",
              "        buttonEl.style.display =\n",
              "          google.colab.kernel.accessAllowed ? 'block' : 'none';\n",
              "\n",
              "        async function convertToInteractive(key) {\n",
              "          const element = document.querySelector('#df-9bc2559b-b64e-4a39-9dc9-3693d4e2e271');\n",
              "          const dataTable =\n",
              "            await google.colab.kernel.invokeFunction('convertToInteractive',\n",
              "                                                     [key], {});\n",
              "          if (!dataTable) return;\n",
              "\n",
              "          const docLinkHtml = 'Like what you see? Visit the ' +\n",
              "            '<a target=\"_blank\" href=https://colab.research.google.com/notebooks/data_table.ipynb>data table notebook</a>'\n",
              "            + ' to learn more about interactive tables.';\n",
              "          element.innerHTML = '';\n",
              "          dataTable['output_type'] = 'display_data';\n",
              "          await google.colab.output.renderOutput(dataTable, element);\n",
              "          const docLink = document.createElement('div');\n",
              "          docLink.innerHTML = docLinkHtml;\n",
              "          element.appendChild(docLink);\n",
              "        }\n",
              "      </script>\n",
              "    </div>\n",
              "  </div>\n",
              "  "
            ],
            "text/plain": [
              "                                                  Title  \\\n",
              "0            the complete sherlock holmes: 2 boxes sets   \n",
              "1     learn docker - fundamentals of docker 18.x: ev...   \n",
              "2                                              big girl   \n",
              "3     think python: how to think like a computer sci...   \n",
              "4     oxford word skills: advanced - idioms & phrasa...   \n",
              "...                                                 ...   \n",
              "1555  100 things every designer needs to know about ...   \n",
              "1556  modern letter writing course: personal, busine...   \n",
              "1557                      the kite runner graphic novel   \n",
              "1558    panzer leader (penguin world war ii collection)   \n",
              "1559                      complete spanish step-by-step   \n",
              "\n",
              "                      Author                             Edition  \\\n",
              "0     sir arthur conan doyle  mass market paperback,– 1 oct 1986   \n",
              "1        gabriel n. schenker     paperback,– import, 26 apr 2018   \n",
              "2             danielle steel             paperback,– 17 mar 2011   \n",
              "3            allen b. downey                    paperback,– 2016   \n",
              "4              redman gairns             paperback,– 26 dec 2011   \n",
              "...                      ...                                 ...   \n",
              "1555        susan weinschenk             paperback,– 14 apr 2011   \n",
              "1556              arun sagar              paperback,– 8 may 2013   \n",
              "1557         khaled hosseini              paperback,– 6 sep 2011   \n",
              "1558          heinz guderian             paperback,– 22 sep 2009   \n",
              "1559       barbara bregstein             paperback,– 16 sep 2016   \n",
              "\n",
              "                 Reviews               Ratings  \\\n",
              "0     4.4 out of 5 stars  960 customer reviews   \n",
              "1     5.0 out of 5 stars     1 customer review   \n",
              "2     5.0 out of 5 stars    4 customer reviews   \n",
              "3     4.1 out of 5 stars   11 customer reviews   \n",
              "4     4.4 out of 5 stars    9 customer reviews   \n",
              "...                  ...                   ...   \n",
              "1555  5.0 out of 5 stars    4 customer reviews   \n",
              "1556  3.6 out of 5 stars   13 customer reviews   \n",
              "1557  4.0 out of 5 stars    5 customer reviews   \n",
              "1558  3.5 out of 5 stars    3 customer reviews   \n",
              "1559  4.5 out of 5 stars    2 customer reviews   \n",
              "\n",
              "                                               Synopsis  \\\n",
              "0     collect entir bodi work sherlock holm seri art...   \n",
              "1     enhanc softwar deploy workflow use contain key...   \n",
              "2     watch out, world. come! victoria dawson, grow ...   \n",
              "3     want learn program, work python excel way star...   \n",
              "4     learn practis verbs, preposit idiom need speak...   \n",
              "...                                                 ...   \n",
              "1555  design elicit respons people. want buy somethi...   \n",
              "1556  30-day cours write simple, sharp attract lette...   \n",
              "1557  perenni bestseller-now avail sensat new graphi...   \n",
              "1558  heinz guderian - master blitzkrieg father mode...   \n",
              "1559  learn spanish conveni effect guid mcgraw-hill’...   \n",
              "\n",
              "                                    Genre  \\\n",
              "0                          short stories    \n",
              "1             operating systems textbooks   \n",
              "2                                romance    \n",
              "3     programming & software development    \n",
              "4                            linguistics    \n",
              "...                                   ...   \n",
              "1555                               design   \n",
              "1556                children's reference    \n",
              "1557                              humour    \n",
              "1558                united states history   \n",
              "1559                         dictionaries   \n",
              "\n",
              "                              BookCategory Edition_Type  Rating  \\\n",
              "0                crime, thriller & mystery    paperback     4.0   \n",
              "1      computing, internet & digital media    paperback     5.0   \n",
              "2                                  romance    paperback     5.0   \n",
              "3      computing, internet & digital media    paperback     4.0   \n",
              "4          language, linguistics & writing    paperback     4.0   \n",
              "...                                    ...          ...     ...   \n",
              "1555   computing, internet & digital media    paperback     5.0   \n",
              "1556  biographies, diaries & true accounts    paperback     4.0   \n",
              "1557                                humour    paperback     4.0   \n",
              "1558  biographies, diaries & true accounts    paperback     4.0   \n",
              "1559       language, linguistics & writing    paperback     4.0   \n",
              "\n",
              "      Num_of_reviews  Year Edition_Type_updated  \\\n",
              "0                960  1986            paperback   \n",
              "1                  1  2018            paperback   \n",
              "2                  4  2011            paperback   \n",
              "3                 11  2016            paperback   \n",
              "4                  9  2011            paperback   \n",
              "...              ...   ...                  ...   \n",
              "1555               4  2011            paperback   \n",
              "1556              13  2013            paperback   \n",
              "1557               5  2011            paperback   \n",
              "1558               3  2009            paperback   \n",
              "1559               2  2016            paperback   \n",
              "\n",
              "                                        Sentiment  polarity  subjectivity  \n",
              "0      (0.05297619047619046, 0.35416666666666663)  0.052976      0.354167  \n",
              "1      (0.00909090909090909, 0.41928904428904423)  0.009091      0.419289  \n",
              "2       (0.18165168165168163, 0.5614885114885114)  0.181652      0.561489  \n",
              "3      (0.17666666666666667, 0.40805555555555556)  0.176667      0.408056  \n",
              "4                                      (0.0, 0.0)  0.000000      0.000000  \n",
              "...                                           ...       ...           ...  \n",
              "1555     (0.1976689976689977, 0.4285547785547786)  0.197669      0.428555  \n",
              "1556  (-0.018333333333333333, 0.2947619047619048) -0.018333      0.294762  \n",
              "1557    (0.11456228956228959, 0.4769360269360269)  0.114562      0.476936  \n",
              "1558   (0.06666666666666667, 0.26666666666666666)  0.066667      0.266667  \n",
              "1559   (0.03360881542699724, 0.19207988980716253)  0.033609      0.192080  \n",
              "\n",
              "[1560 rows x 16 columns]"
            ]
          },
          "metadata": {},
          "execution_count": 1226
        }
      ]
    },
    {
      "cell_type": "code",
      "execution_count": null,
      "metadata": {
        "colab": {
          "base_uri": "https://localhost:8080/",
          "height": 69
        },
        "id": "Yykc-szoDrA6",
        "outputId": "2d2cccaa-fa0a-4fb8-d624-5cf247f5c863"
      },
      "outputs": [
        {
          "output_type": "execute_result",
          "data": {
            "application/vnd.google.colaboratory.intrinsic+json": {
              "type": "string"
            },
            "text/plain": [
              "'seven decades, life thrill world unrival present best photographi found. here, editor assembl creme de la creme magazin vast collect images. life alway dealt matter everi sort, entir spectrum societi repres pages. one another, unforgett photo hollywood greatest stars, wonder small-town america, terribl wars, well zest year childhood. life alway repres apex photojourn roster great photograph unequalled.'"
            ]
          },
          "metadata": {},
          "execution_count": 1227
        }
      ],
      "source": [
        "train_data.Synopsis[4]"
      ]
    },
    {
      "cell_type": "code",
      "execution_count": null,
      "metadata": {
        "colab": {
          "base_uri": "https://localhost:8080/",
          "height": 35
        },
        "id": "CZySDk0KAEfB",
        "outputId": "735b2222-302c-40bf-c241-9b7bde3a6a86"
      },
      "outputs": [
        {
          "output_type": "execute_result",
          "data": {
            "application/vnd.google.colaboratory.intrinsic+json": {
              "type": "string"
            },
            "text/plain": [
              "'learn practis verbs, preposit idiom need speak write natur english.'"
            ]
          },
          "metadata": {},
          "execution_count": 1228
        }
      ],
      "source": [
        "test_data.Synopsis[4]"
      ]
    },
    {
      "cell_type": "code",
      "execution_count": null,
      "metadata": {
        "id": "wiC72G0MUPW1"
      },
      "outputs": [],
      "source": [
        "train_data.drop(['Edition_Type','Synopsis','Title', 'Sentiment','Edition','Reviews','Ratings'], axis = 1, inplace = True)"
      ]
    },
    {
      "cell_type": "code",
      "execution_count": null,
      "metadata": {
        "id": "lYXc1vf0AG-e"
      },
      "outputs": [],
      "source": [
        "test_data.drop(['Edition_Type','Synopsis','Title', 'Sentiment','Edition','Reviews','Ratings'], axis = 1, inplace = True)"
      ]
    },
    {
      "cell_type": "code",
      "execution_count": null,
      "metadata": {
        "colab": {
          "base_uri": "https://localhost:8080/"
        },
        "id": "8SpueUmbbRJ1",
        "outputId": "3e69acb4-33c5-43f2-bec4-727a1ef8e21a"
      },
      "outputs": [
        {
          "output_type": "stream",
          "name": "stdout",
          "text": [
            "['Author', 'Genre', 'BookCategory', 'Year', 'Edition_Type_updated']\n",
            "['Price', 'Rating', 'polarity', 'subjectivity']\n"
          ]
        }
      ],
      "source": [
        "cat_cols = train_data.select_dtypes(include=['object','category']).columns.tolist()\n",
        "print(cat_cols)\n",
        "\n",
        "num_cols = train_data.select_dtypes(include=['int64','float64']).columns.tolist()\n",
        "print(num_cols)"
      ]
    },
    {
      "cell_type": "code",
      "execution_count": null,
      "metadata": {
        "colab": {
          "base_uri": "https://localhost:8080/"
        },
        "id": "PAGsFiH9AKmN",
        "outputId": "561730d2-cb9c-4d52-fa5b-6cee2f3493d9"
      },
      "outputs": [
        {
          "output_type": "stream",
          "name": "stdout",
          "text": [
            "['Author', 'Genre', 'BookCategory', 'Year', 'Edition_Type_updated']\n",
            "['Rating', 'polarity', 'subjectivity']\n"
          ]
        }
      ],
      "source": [
        "cat_cols_test = test_data.select_dtypes(include=['object','category']).columns.tolist()\n",
        "print(cat_cols_test)\n",
        "\n",
        "num_cols_test = test_data.select_dtypes(include=['int64','float64']).columns.tolist()\n",
        "print(num_cols_test)"
      ]
    },
    {
      "cell_type": "code",
      "execution_count": null,
      "metadata": {
        "colab": {
          "base_uri": "https://localhost:8080/",
          "height": 204
        },
        "id": "ztDfecGvFL3T",
        "outputId": "28cac485-afb5-4135-e5cf-79d4d0cbc24c"
      },
      "outputs": [
        {
          "output_type": "execute_result",
          "data": {
            "text/html": [
              "\n",
              "  <div id=\"df-b93899d9-d82f-428e-9197-21f2cda126d9\">\n",
              "    <div class=\"colab-df-container\">\n",
              "      <div>\n",
              "<style scoped>\n",
              "    .dataframe tbody tr th:only-of-type {\n",
              "        vertical-align: middle;\n",
              "    }\n",
              "\n",
              "    .dataframe tbody tr th {\n",
              "        vertical-align: top;\n",
              "    }\n",
              "\n",
              "    .dataframe thead th {\n",
              "        text-align: right;\n",
              "    }\n",
              "</style>\n",
              "<table border=\"1\" class=\"dataframe\">\n",
              "  <thead>\n",
              "    <tr style=\"text-align: right;\">\n",
              "      <th></th>\n",
              "      <th>Author</th>\n",
              "      <th>Genre</th>\n",
              "      <th>BookCategory</th>\n",
              "      <th>Price</th>\n",
              "      <th>Rating</th>\n",
              "      <th>Num_of_reviews</th>\n",
              "      <th>Year</th>\n",
              "      <th>Edition_Type_updated</th>\n",
              "      <th>polarity</th>\n",
              "      <th>subjectivity</th>\n",
              "    </tr>\n",
              "  </thead>\n",
              "  <tbody>\n",
              "    <tr>\n",
              "      <th>0</th>\n",
              "      <td>chris kuzneski</td>\n",
              "      <td>action &amp; adventure</td>\n",
              "      <td>action &amp; adventure</td>\n",
              "      <td>220.00</td>\n",
              "      <td>4.0</td>\n",
              "      <td>8</td>\n",
              "      <td>2016</td>\n",
              "      <td>paperback</td>\n",
              "      <td>0.208800</td>\n",
              "      <td>0.451340</td>\n",
              "    </tr>\n",
              "    <tr>\n",
              "      <th>1</th>\n",
              "      <td>arun khopkar</td>\n",
              "      <td>cinema &amp; broadcast</td>\n",
              "      <td>biographies, diaries &amp; true accounts</td>\n",
              "      <td>202.93</td>\n",
              "      <td>4.0</td>\n",
              "      <td>14</td>\n",
              "      <td>2012</td>\n",
              "      <td>paperback</td>\n",
              "      <td>0.089935</td>\n",
              "      <td>0.363420</td>\n",
              "    </tr>\n",
              "    <tr>\n",
              "      <th>2</th>\n",
              "      <td>thomas hobbes</td>\n",
              "      <td>international relations</td>\n",
              "      <td>humour</td>\n",
              "      <td>299.00</td>\n",
              "      <td>5.0</td>\n",
              "      <td>6</td>\n",
              "      <td>1982</td>\n",
              "      <td>paperback</td>\n",
              "      <td>0.047906</td>\n",
              "      <td>0.384581</td>\n",
              "    </tr>\n",
              "    <tr>\n",
              "      <th>3</th>\n",
              "      <td>agatha christie</td>\n",
              "      <td>contemporary fiction</td>\n",
              "      <td>crime, thriller &amp; mystery</td>\n",
              "      <td>180.00</td>\n",
              "      <td>4.0</td>\n",
              "      <td>13</td>\n",
              "      <td>2017</td>\n",
              "      <td>paperback</td>\n",
              "      <td>0.000000</td>\n",
              "      <td>0.250000</td>\n",
              "    </tr>\n",
              "    <tr>\n",
              "      <th>4</th>\n",
              "      <td>editors of life</td>\n",
              "      <td>photography textbooks</td>\n",
              "      <td>arts, film &amp; photography</td>\n",
              "      <td>965.62</td>\n",
              "      <td>5.0</td>\n",
              "      <td>1</td>\n",
              "      <td>2006</td>\n",
              "      <td>hardcover</td>\n",
              "      <td>0.560000</td>\n",
              "      <td>0.610000</td>\n",
              "    </tr>\n",
              "  </tbody>\n",
              "</table>\n",
              "</div>\n",
              "      <button class=\"colab-df-convert\" onclick=\"convertToInteractive('df-b93899d9-d82f-428e-9197-21f2cda126d9')\"\n",
              "              title=\"Convert this dataframe to an interactive table.\"\n",
              "              style=\"display:none;\">\n",
              "        \n",
              "  <svg xmlns=\"http://www.w3.org/2000/svg\" height=\"24px\"viewBox=\"0 0 24 24\"\n",
              "       width=\"24px\">\n",
              "    <path d=\"M0 0h24v24H0V0z\" fill=\"none\"/>\n",
              "    <path d=\"M18.56 5.44l.94 2.06.94-2.06 2.06-.94-2.06-.94-.94-2.06-.94 2.06-2.06.94zm-11 1L8.5 8.5l.94-2.06 2.06-.94-2.06-.94L8.5 2.5l-.94 2.06-2.06.94zm10 10l.94 2.06.94-2.06 2.06-.94-2.06-.94-.94-2.06-.94 2.06-2.06.94z\"/><path d=\"M17.41 7.96l-1.37-1.37c-.4-.4-.92-.59-1.43-.59-.52 0-1.04.2-1.43.59L10.3 9.45l-7.72 7.72c-.78.78-.78 2.05 0 2.83L4 21.41c.39.39.9.59 1.41.59.51 0 1.02-.2 1.41-.59l7.78-7.78 2.81-2.81c.8-.78.8-2.07 0-2.86zM5.41 20L4 18.59l7.72-7.72 1.47 1.35L5.41 20z\"/>\n",
              "  </svg>\n",
              "      </button>\n",
              "      \n",
              "  <style>\n",
              "    .colab-df-container {\n",
              "      display:flex;\n",
              "      flex-wrap:wrap;\n",
              "      gap: 12px;\n",
              "    }\n",
              "\n",
              "    .colab-df-convert {\n",
              "      background-color: #E8F0FE;\n",
              "      border: none;\n",
              "      border-radius: 50%;\n",
              "      cursor: pointer;\n",
              "      display: none;\n",
              "      fill: #1967D2;\n",
              "      height: 32px;\n",
              "      padding: 0 0 0 0;\n",
              "      width: 32px;\n",
              "    }\n",
              "\n",
              "    .colab-df-convert:hover {\n",
              "      background-color: #E2EBFA;\n",
              "      box-shadow: 0px 1px 2px rgba(60, 64, 67, 0.3), 0px 1px 3px 1px rgba(60, 64, 67, 0.15);\n",
              "      fill: #174EA6;\n",
              "    }\n",
              "\n",
              "    [theme=dark] .colab-df-convert {\n",
              "      background-color: #3B4455;\n",
              "      fill: #D2E3FC;\n",
              "    }\n",
              "\n",
              "    [theme=dark] .colab-df-convert:hover {\n",
              "      background-color: #434B5C;\n",
              "      box-shadow: 0px 1px 3px 1px rgba(0, 0, 0, 0.15);\n",
              "      filter: drop-shadow(0px 1px 2px rgba(0, 0, 0, 0.3));\n",
              "      fill: #FFFFFF;\n",
              "    }\n",
              "  </style>\n",
              "\n",
              "      <script>\n",
              "        const buttonEl =\n",
              "          document.querySelector('#df-b93899d9-d82f-428e-9197-21f2cda126d9 button.colab-df-convert');\n",
              "        buttonEl.style.display =\n",
              "          google.colab.kernel.accessAllowed ? 'block' : 'none';\n",
              "\n",
              "        async function convertToInteractive(key) {\n",
              "          const element = document.querySelector('#df-b93899d9-d82f-428e-9197-21f2cda126d9');\n",
              "          const dataTable =\n",
              "            await google.colab.kernel.invokeFunction('convertToInteractive',\n",
              "                                                     [key], {});\n",
              "          if (!dataTable) return;\n",
              "\n",
              "          const docLinkHtml = 'Like what you see? Visit the ' +\n",
              "            '<a target=\"_blank\" href=https://colab.research.google.com/notebooks/data_table.ipynb>data table notebook</a>'\n",
              "            + ' to learn more about interactive tables.';\n",
              "          element.innerHTML = '';\n",
              "          dataTable['output_type'] = 'display_data';\n",
              "          await google.colab.output.renderOutput(dataTable, element);\n",
              "          const docLink = document.createElement('div');\n",
              "          docLink.innerHTML = docLinkHtml;\n",
              "          element.appendChild(docLink);\n",
              "        }\n",
              "      </script>\n",
              "    </div>\n",
              "  </div>\n",
              "  "
            ],
            "text/plain": [
              "            Author                    Genre  \\\n",
              "0   chris kuzneski      action & adventure    \n",
              "1     arun khopkar      cinema & broadcast    \n",
              "2    thomas hobbes  international relations   \n",
              "3  agatha christie    contemporary fiction    \n",
              "4  editors of life    photography textbooks   \n",
              "\n",
              "                           BookCategory   Price  Rating  Num_of_reviews  Year  \\\n",
              "0                    action & adventure  220.00     4.0               8  2016   \n",
              "1  biographies, diaries & true accounts  202.93     4.0              14  2012   \n",
              "2                                humour  299.00     5.0               6  1982   \n",
              "3             crime, thriller & mystery  180.00     4.0              13  2017   \n",
              "4              arts, film & photography  965.62     5.0               1  2006   \n",
              "\n",
              "  Edition_Type_updated  polarity  subjectivity  \n",
              "0            paperback  0.208800      0.451340  \n",
              "1            paperback  0.089935      0.363420  \n",
              "2            paperback  0.047906      0.384581  \n",
              "3            paperback  0.000000      0.250000  \n",
              "4            hardcover  0.560000      0.610000  "
            ]
          },
          "metadata": {},
          "execution_count": 1233
        }
      ],
      "source": [
        "train_data.head()"
      ]
    },
    {
      "cell_type": "code",
      "execution_count": null,
      "metadata": {
        "colab": {
          "base_uri": "https://localhost:8080/",
          "height": 204
        },
        "id": "idJjr16FAXM6",
        "outputId": "c8542ba5-2a55-442e-d0b6-dee51df4beef"
      },
      "outputs": [
        {
          "output_type": "execute_result",
          "data": {
            "text/html": [
              "\n",
              "  <div id=\"df-d3a7518e-3dc9-4fa2-9e39-300c695287c1\">\n",
              "    <div class=\"colab-df-container\">\n",
              "      <div>\n",
              "<style scoped>\n",
              "    .dataframe tbody tr th:only-of-type {\n",
              "        vertical-align: middle;\n",
              "    }\n",
              "\n",
              "    .dataframe tbody tr th {\n",
              "        vertical-align: top;\n",
              "    }\n",
              "\n",
              "    .dataframe thead th {\n",
              "        text-align: right;\n",
              "    }\n",
              "</style>\n",
              "<table border=\"1\" class=\"dataframe\">\n",
              "  <thead>\n",
              "    <tr style=\"text-align: right;\">\n",
              "      <th></th>\n",
              "      <th>Author</th>\n",
              "      <th>Genre</th>\n",
              "      <th>BookCategory</th>\n",
              "      <th>Rating</th>\n",
              "      <th>Num_of_reviews</th>\n",
              "      <th>Year</th>\n",
              "      <th>Edition_Type_updated</th>\n",
              "      <th>polarity</th>\n",
              "      <th>subjectivity</th>\n",
              "    </tr>\n",
              "  </thead>\n",
              "  <tbody>\n",
              "    <tr>\n",
              "      <th>0</th>\n",
              "      <td>sir arthur conan doyle</td>\n",
              "      <td>short stories</td>\n",
              "      <td>crime, thriller &amp; mystery</td>\n",
              "      <td>4.0</td>\n",
              "      <td>960</td>\n",
              "      <td>1986</td>\n",
              "      <td>paperback</td>\n",
              "      <td>0.052976</td>\n",
              "      <td>0.354167</td>\n",
              "    </tr>\n",
              "    <tr>\n",
              "      <th>1</th>\n",
              "      <td>gabriel n. schenker</td>\n",
              "      <td>operating systems textbooks</td>\n",
              "      <td>computing, internet &amp; digital media</td>\n",
              "      <td>5.0</td>\n",
              "      <td>1</td>\n",
              "      <td>2018</td>\n",
              "      <td>paperback</td>\n",
              "      <td>0.009091</td>\n",
              "      <td>0.419289</td>\n",
              "    </tr>\n",
              "    <tr>\n",
              "      <th>2</th>\n",
              "      <td>danielle steel</td>\n",
              "      <td>romance</td>\n",
              "      <td>romance</td>\n",
              "      <td>5.0</td>\n",
              "      <td>4</td>\n",
              "      <td>2011</td>\n",
              "      <td>paperback</td>\n",
              "      <td>0.181652</td>\n",
              "      <td>0.561489</td>\n",
              "    </tr>\n",
              "    <tr>\n",
              "      <th>3</th>\n",
              "      <td>allen b. downey</td>\n",
              "      <td>programming &amp; software development</td>\n",
              "      <td>computing, internet &amp; digital media</td>\n",
              "      <td>4.0</td>\n",
              "      <td>11</td>\n",
              "      <td>2016</td>\n",
              "      <td>paperback</td>\n",
              "      <td>0.176667</td>\n",
              "      <td>0.408056</td>\n",
              "    </tr>\n",
              "    <tr>\n",
              "      <th>4</th>\n",
              "      <td>redman gairns</td>\n",
              "      <td>linguistics</td>\n",
              "      <td>language, linguistics &amp; writing</td>\n",
              "      <td>4.0</td>\n",
              "      <td>9</td>\n",
              "      <td>2011</td>\n",
              "      <td>paperback</td>\n",
              "      <td>0.000000</td>\n",
              "      <td>0.000000</td>\n",
              "    </tr>\n",
              "  </tbody>\n",
              "</table>\n",
              "</div>\n",
              "      <button class=\"colab-df-convert\" onclick=\"convertToInteractive('df-d3a7518e-3dc9-4fa2-9e39-300c695287c1')\"\n",
              "              title=\"Convert this dataframe to an interactive table.\"\n",
              "              style=\"display:none;\">\n",
              "        \n",
              "  <svg xmlns=\"http://www.w3.org/2000/svg\" height=\"24px\"viewBox=\"0 0 24 24\"\n",
              "       width=\"24px\">\n",
              "    <path d=\"M0 0h24v24H0V0z\" fill=\"none\"/>\n",
              "    <path d=\"M18.56 5.44l.94 2.06.94-2.06 2.06-.94-2.06-.94-.94-2.06-.94 2.06-2.06.94zm-11 1L8.5 8.5l.94-2.06 2.06-.94-2.06-.94L8.5 2.5l-.94 2.06-2.06.94zm10 10l.94 2.06.94-2.06 2.06-.94-2.06-.94-.94-2.06-.94 2.06-2.06.94z\"/><path d=\"M17.41 7.96l-1.37-1.37c-.4-.4-.92-.59-1.43-.59-.52 0-1.04.2-1.43.59L10.3 9.45l-7.72 7.72c-.78.78-.78 2.05 0 2.83L4 21.41c.39.39.9.59 1.41.59.51 0 1.02-.2 1.41-.59l7.78-7.78 2.81-2.81c.8-.78.8-2.07 0-2.86zM5.41 20L4 18.59l7.72-7.72 1.47 1.35L5.41 20z\"/>\n",
              "  </svg>\n",
              "      </button>\n",
              "      \n",
              "  <style>\n",
              "    .colab-df-container {\n",
              "      display:flex;\n",
              "      flex-wrap:wrap;\n",
              "      gap: 12px;\n",
              "    }\n",
              "\n",
              "    .colab-df-convert {\n",
              "      background-color: #E8F0FE;\n",
              "      border: none;\n",
              "      border-radius: 50%;\n",
              "      cursor: pointer;\n",
              "      display: none;\n",
              "      fill: #1967D2;\n",
              "      height: 32px;\n",
              "      padding: 0 0 0 0;\n",
              "      width: 32px;\n",
              "    }\n",
              "\n",
              "    .colab-df-convert:hover {\n",
              "      background-color: #E2EBFA;\n",
              "      box-shadow: 0px 1px 2px rgba(60, 64, 67, 0.3), 0px 1px 3px 1px rgba(60, 64, 67, 0.15);\n",
              "      fill: #174EA6;\n",
              "    }\n",
              "\n",
              "    [theme=dark] .colab-df-convert {\n",
              "      background-color: #3B4455;\n",
              "      fill: #D2E3FC;\n",
              "    }\n",
              "\n",
              "    [theme=dark] .colab-df-convert:hover {\n",
              "      background-color: #434B5C;\n",
              "      box-shadow: 0px 1px 3px 1px rgba(0, 0, 0, 0.15);\n",
              "      filter: drop-shadow(0px 1px 2px rgba(0, 0, 0, 0.3));\n",
              "      fill: #FFFFFF;\n",
              "    }\n",
              "  </style>\n",
              "\n",
              "      <script>\n",
              "        const buttonEl =\n",
              "          document.querySelector('#df-d3a7518e-3dc9-4fa2-9e39-300c695287c1 button.colab-df-convert');\n",
              "        buttonEl.style.display =\n",
              "          google.colab.kernel.accessAllowed ? 'block' : 'none';\n",
              "\n",
              "        async function convertToInteractive(key) {\n",
              "          const element = document.querySelector('#df-d3a7518e-3dc9-4fa2-9e39-300c695287c1');\n",
              "          const dataTable =\n",
              "            await google.colab.kernel.invokeFunction('convertToInteractive',\n",
              "                                                     [key], {});\n",
              "          if (!dataTable) return;\n",
              "\n",
              "          const docLinkHtml = 'Like what you see? Visit the ' +\n",
              "            '<a target=\"_blank\" href=https://colab.research.google.com/notebooks/data_table.ipynb>data table notebook</a>'\n",
              "            + ' to learn more about interactive tables.';\n",
              "          element.innerHTML = '';\n",
              "          dataTable['output_type'] = 'display_data';\n",
              "          await google.colab.output.renderOutput(dataTable, element);\n",
              "          const docLink = document.createElement('div');\n",
              "          docLink.innerHTML = docLinkHtml;\n",
              "          element.appendChild(docLink);\n",
              "        }\n",
              "      </script>\n",
              "    </div>\n",
              "  </div>\n",
              "  "
            ],
            "text/plain": [
              "                   Author                                Genre  \\\n",
              "0  sir arthur conan doyle                       short stories    \n",
              "1     gabriel n. schenker          operating systems textbooks   \n",
              "2          danielle steel                             romance    \n",
              "3         allen b. downey  programming & software development    \n",
              "4           redman gairns                         linguistics    \n",
              "\n",
              "                          BookCategory  Rating  Num_of_reviews  Year  \\\n",
              "0            crime, thriller & mystery     4.0             960  1986   \n",
              "1  computing, internet & digital media     5.0               1  2018   \n",
              "2                              romance     5.0               4  2011   \n",
              "3  computing, internet & digital media     4.0              11  2016   \n",
              "4      language, linguistics & writing     4.0               9  2011   \n",
              "\n",
              "  Edition_Type_updated  polarity  subjectivity  \n",
              "0            paperback  0.052976      0.354167  \n",
              "1            paperback  0.009091      0.419289  \n",
              "2            paperback  0.181652      0.561489  \n",
              "3            paperback  0.176667      0.408056  \n",
              "4            paperback  0.000000      0.000000  "
            ]
          },
          "metadata": {},
          "execution_count": 1234
        }
      ],
      "source": [
        "test_data.head()"
      ]
    },
    {
      "cell_type": "code",
      "source": [
        "train_data.info()"
      ],
      "metadata": {
        "colab": {
          "base_uri": "https://localhost:8080/"
        },
        "id": "xGQnnJEO85qj",
        "outputId": "847f2861-6e05-4f01-c8b6-9fd8fb0a5681"
      },
      "execution_count": null,
      "outputs": [
        {
          "output_type": "stream",
          "name": "stdout",
          "text": [
            "<class 'pandas.core.frame.DataFrame'>\n",
            "RangeIndex: 6237 entries, 0 to 6236\n",
            "Data columns (total 10 columns):\n",
            " #   Column                Non-Null Count  Dtype  \n",
            "---  ------                --------------  -----  \n",
            " 0   Author                6237 non-null   object \n",
            " 1   Genre                 6237 non-null   object \n",
            " 2   BookCategory          6237 non-null   object \n",
            " 3   Price                 6237 non-null   float64\n",
            " 4   Rating                6237 non-null   float64\n",
            " 5   Num_of_reviews        6237 non-null   int32  \n",
            " 6   Year                  6237 non-null   object \n",
            " 7   Edition_Type_updated  6237 non-null   object \n",
            " 8   polarity              6237 non-null   float64\n",
            " 9   subjectivity          6237 non-null   float64\n",
            "dtypes: float64(4), int32(1), object(5)\n",
            "memory usage: 463.0+ KB\n"
          ]
        }
      ]
    },
    {
      "cell_type": "markdown",
      "source": [
        "# Feature Analysis"
      ],
      "metadata": {
        "id": "WNJsjxL5_JIX"
      }
    },
    {
      "cell_type": "code",
      "source": [
        "plt.hist(train_data.Price)"
      ],
      "metadata": {
        "colab": {
          "base_uri": "https://localhost:8080/",
          "height": 568
        },
        "id": "PLfSkwS89E-F",
        "outputId": "56c7da6f-3395-4b66-f7a6-714d24b1d037"
      },
      "execution_count": null,
      "outputs": [
        {
          "output_type": "execute_result",
          "data": {
            "text/plain": [
              "(array([5.855e+03, 3.010e+02, 4.400e+01, 2.300e+01, 5.000e+00, 3.000e+00,\n",
              "        2.000e+00, 1.000e+00, 1.000e+00, 2.000e+00]),\n",
              " array([   25. ,  1432.5,  2840. ,  4247.5,  5655. ,  7062.5,  8470. ,\n",
              "         9877.5, 11285. , 12692.5, 14100. ]),\n",
              " <a list of 10 Patch objects>)"
            ]
          },
          "metadata": {},
          "execution_count": 1236
        },
        {
          "output_type": "display_data",
          "data": {
            "image/png": "[encoded data removed]",
            "text/plain": [
              "<Figure size 864x576 with 1 Axes>"
            ]
          },
          "metadata": {
            "needs_background": "light"
          }
        }
      ]
    },
    {
      "cell_type": "code",
      "source": [
        "print(train_data['Price'].skew() )\n",
        "print(train_data['Price'].kurt() )"
      ],
      "metadata": {
        "colab": {
          "base_uri": "https://localhost:8080/"
        },
        "id": "JThQ4rh7AI0m",
        "outputId": "eba5b0f4-7233-4687-cd53-269a51eef577"
      },
      "execution_count": null,
      "outputs": [
        {
          "output_type": "stream",
          "name": "stdout",
          "text": [
            "6.749865573718627\n",
            "80.8434519609723\n"
          ]
        }
      ]
    },
    {
      "cell_type": "markdown",
      "source": [
        "I will later use box-cox transformation for our target value. \n",
        "Similarly, inv box-cox for predicted values"
      ],
      "metadata": {
        "id": "xwJ-lSemEkIV"
      }
    },
    {
      "cell_type": "markdown",
      "source": [
        "Polarity"
      ],
      "metadata": {
        "id": "rQL0Zi0WFx4T"
      }
    },
    {
      "cell_type": "code",
      "source": [
        "plt.scatter( 'polarity','Price', data=train_data  )\n",
        "plt.xlabel('Polarity (Sentiment)')\n",
        "plt.ylabel('Book Price')\n",
        "plt.show()"
      ],
      "metadata": {
        "colab": {
          "base_uri": "https://localhost:8080/",
          "height": 497
        },
        "id": "BMiOpkeWE_cU",
        "outputId": "6324e1fc-f7f2-47de-9e82-bebb579e7c76"
      },
      "execution_count": null,
      "outputs": [
        {
          "output_type": "display_data",
          "data": {
            "image/png": "[encoded data removed]",
            "text/plain": [
              "<Figure size 864x576 with 1 Axes>"
            ]
          },
          "metadata": {
            "needs_background": "light"
          }
        }
      ]
    },
    {
      "cell_type": "markdown",
      "source": [
        "Subjectivity"
      ],
      "metadata": {
        "id": "rnMEbNbSF1Wc"
      }
    },
    {
      "cell_type": "code",
      "source": [
        "plt.scatter( 'subjectivity','Price', data=train_data  )\n",
        "plt.xlabel('Subjectivity (Sentiment)')\n",
        "plt.ylabel('Book Price')\n",
        "plt.show()"
      ],
      "metadata": {
        "colab": {
          "base_uri": "https://localhost:8080/",
          "height": 497
        },
        "id": "lYnhK_AcE_e7",
        "outputId": "b948a3ae-a1b3-4dc9-fe43-26bb8848e4fa"
      },
      "execution_count": null,
      "outputs": [
        {
          "output_type": "display_data",
          "data": {
            "image/png": "[encoded data removed]",
            "text/plain": [
              "<Figure size 864x576 with 1 Axes>"
            ]
          },
          "metadata": {
            "needs_background": "light"
          }
        }
      ]
    },
    {
      "cell_type": "markdown",
      "source": [
        "Edition Type"
      ],
      "metadata": {
        "id": "swXs36gKHqCJ"
      }
    },
    {
      "cell_type": "code",
      "source": [
        "train_data['Edition_Type_updated'].value_counts()"
      ],
      "metadata": {
        "colab": {
          "base_uri": "https://localhost:8080/"
        },
        "id": "3pe6w0J8E_hm",
        "outputId": "9f274529-7b9c-4218-db5d-a6fb13128ae2"
      },
      "execution_count": null,
      "outputs": [
        {
          "output_type": "execute_result",
          "data": {
            "text/plain": [
              "paperback    5353\n",
              "hardcover     823\n",
              "other          61\n",
              "Name: Edition_Type_updated, dtype: int64"
            ]
          },
          "metadata": {},
          "execution_count": 1240
        }
      ]
    },
    {
      "cell_type": "code",
      "source": [
        "train_data[['Edition_Type_updated','Price']].groupby(['Edition_Type_updated'], as_index=False).mean().sort_values(by='Edition_Type_updated', ascending=False)"
      ],
      "metadata": {
        "colab": {
          "base_uri": "https://localhost:8080/",
          "height": 142
        },
        "id": "YVbiL_a4E_kK",
        "outputId": "ca3a3c24-ad14-46f9-ee08-7579fdf4163b"
      },
      "execution_count": null,
      "outputs": [
        {
          "output_type": "execute_result",
          "data": {
            "text/html": [
              "\n",
              "  <div id=\"df-1addb706-3076-4dfe-aea6-f15af0fb3619\">\n",
              "    <div class=\"colab-df-container\">\n",
              "      <div>\n",
              "<style scoped>\n",
              "    .dataframe tbody tr th:only-of-type {\n",
              "        vertical-align: middle;\n",
              "    }\n",
              "\n",
              "    .dataframe tbody tr th {\n",
              "        vertical-align: top;\n",
              "    }\n",
              "\n",
              "    .dataframe thead th {\n",
              "        text-align: right;\n",
              "    }\n",
              "</style>\n",
              "<table border=\"1\" class=\"dataframe\">\n",
              "  <thead>\n",
              "    <tr style=\"text-align: right;\">\n",
              "      <th></th>\n",
              "      <th>Edition_Type_updated</th>\n",
              "      <th>Price</th>\n",
              "    </tr>\n",
              "  </thead>\n",
              "  <tbody>\n",
              "    <tr>\n",
              "      <th>2</th>\n",
              "      <td>paperback</td>\n",
              "      <td>490.839335</td>\n",
              "    </tr>\n",
              "    <tr>\n",
              "      <th>1</th>\n",
              "      <td>other</td>\n",
              "      <td>990.470820</td>\n",
              "    </tr>\n",
              "    <tr>\n",
              "      <th>0</th>\n",
              "      <td>hardcover</td>\n",
              "      <td>983.294168</td>\n",
              "    </tr>\n",
              "  </tbody>\n",
              "</table>\n",
              "</div>\n",
              "      <button class=\"colab-df-convert\" onclick=\"convertToInteractive('df-1addb706-3076-4dfe-aea6-f15af0fb3619')\"\n",
              "              title=\"Convert this dataframe to an interactive table.\"\n",
              "              style=\"display:none;\">\n",
              "        \n",
              "  <svg xmlns=\"http://www.w3.org/2000/svg\" height=\"24px\"viewBox=\"0 0 24 24\"\n",
              "       width=\"24px\">\n",
              "    <path d=\"M0 0h24v24H0V0z\" fill=\"none\"/>\n",
              "    <path d=\"M18.56 5.44l.94 2.06.94-2.06 2.06-.94-2.06-.94-.94-2.06-.94 2.06-2.06.94zm-11 1L8.5 8.5l.94-2.06 2.06-.94-2.06-.94L8.5 2.5l-.94 2.06-2.06.94zm10 10l.94 2.06.94-2.06 2.06-.94-2.06-.94-.94-2.06-.94 2.06-2.06.94z\"/><path d=\"M17.41 7.96l-1.37-1.37c-.4-.4-.92-.59-1.43-.59-.52 0-1.04.2-1.43.59L10.3 9.45l-7.72 7.72c-.78.78-.78 2.05 0 2.83L4 21.41c.39.39.9.59 1.41.59.51 0 1.02-.2 1.41-.59l7.78-7.78 2.81-2.81c.8-.78.8-2.07 0-2.86zM5.41 20L4 18.59l7.72-7.72 1.47 1.35L5.41 20z\"/>\n",
              "  </svg>\n",
              "      </button>\n",
              "      \n",
              "  <style>\n",
              "    .colab-df-container {\n",
              "      display:flex;\n",
              "      flex-wrap:wrap;\n",
              "      gap: 12px;\n",
              "    }\n",
              "\n",
              "    .colab-df-convert {\n",
              "      background-color: #E8F0FE;\n",
              "      border: none;\n",
              "      border-radius: 50%;\n",
              "      cursor: pointer;\n",
              "      display: none;\n",
              "      fill: #1967D2;\n",
              "      height: 32px;\n",
              "      padding: 0 0 0 0;\n",
              "      width: 32px;\n",
              "    }\n",
              "\n",
              "    .colab-df-convert:hover {\n",
              "      background-color: #E2EBFA;\n",
              "      box-shadow: 0px 1px 2px rgba(60, 64, 67, 0.3), 0px 1px 3px 1px rgba(60, 64, 67, 0.15);\n",
              "      fill: #174EA6;\n",
              "    }\n",
              "\n",
              "    [theme=dark] .colab-df-convert {\n",
              "      background-color: #3B4455;\n",
              "      fill: #D2E3FC;\n",
              "    }\n",
              "\n",
              "    [theme=dark] .colab-df-convert:hover {\n",
              "      background-color: #434B5C;\n",
              "      box-shadow: 0px 1px 3px 1px rgba(0, 0, 0, 0.15);\n",
              "      filter: drop-shadow(0px 1px 2px rgba(0, 0, 0, 0.3));\n",
              "      fill: #FFFFFF;\n",
              "    }\n",
              "  </style>\n",
              "\n",
              "      <script>\n",
              "        const buttonEl =\n",
              "          document.querySelector('#df-1addb706-3076-4dfe-aea6-f15af0fb3619 button.colab-df-convert');\n",
              "        buttonEl.style.display =\n",
              "          google.colab.kernel.accessAllowed ? 'block' : 'none';\n",
              "\n",
              "        async function convertToInteractive(key) {\n",
              "          const element = document.querySelector('#df-1addb706-3076-4dfe-aea6-f15af0fb3619');\n",
              "          const dataTable =\n",
              "            await google.colab.kernel.invokeFunction('convertToInteractive',\n",
              "                                                     [key], {});\n",
              "          if (!dataTable) return;\n",
              "\n",
              "          const docLinkHtml = 'Like what you see? Visit the ' +\n",
              "            '<a target=\"_blank\" href=https://colab.research.google.com/notebooks/data_table.ipynb>data table notebook</a>'\n",
              "            + ' to learn more about interactive tables.';\n",
              "          element.innerHTML = '';\n",
              "          dataTable['output_type'] = 'display_data';\n",
              "          await google.colab.output.renderOutput(dataTable, element);\n",
              "          const docLink = document.createElement('div');\n",
              "          docLink.innerHTML = docLinkHtml;\n",
              "          element.appendChild(docLink);\n",
              "        }\n",
              "      </script>\n",
              "    </div>\n",
              "  </div>\n",
              "  "
            ],
            "text/plain": [
              "  Edition_Type_updated       Price\n",
              "2            paperback  490.839335\n",
              "1                other  990.470820\n",
              "0            hardcover  983.294168"
            ]
          },
          "metadata": {},
          "execution_count": 1241
        }
      ]
    },
    {
      "cell_type": "code",
      "source": [
        "sns.boxplot( 'Edition_Type_updated', 'Price', data=train_data )"
      ],
      "metadata": {
        "colab": {
          "base_uri": "https://localhost:8080/",
          "height": 569
        },
        "id": "2nE-ZIK6Hx29",
        "outputId": "c8e7729d-5009-4ed7-90ed-72e4d603370b"
      },
      "execution_count": null,
      "outputs": [
        {
          "output_type": "stream",
          "name": "stderr",
          "text": [
            "/usr/local/lib/python3.7/dist-packages/seaborn/_decorators.py:43: FutureWarning: Pass the following variables as keyword args: x, y. From version 0.12, the only valid positional argument will be `data`, and passing other arguments without an explicit keyword will result in an error or misinterpretation.\n",
            "  FutureWarning\n"
          ]
        },
        {
          "output_type": "execute_result",
          "data": {
            "text/plain": [
              "<matplotlib.axes._subplots.AxesSubplot at 0x7f1e45f294d0>"
            ]
          },
          "metadata": {},
          "execution_count": 1242
        },
        {
          "output_type": "display_data",
          "data": {
            "image/png": "[encoded data removed]",
            "text/plain": [
              "<Figure size 864x576 with 1 Axes>"
            ]
          },
          "metadata": {
            "needs_background": "light"
          }
        }
      ]
    },
    {
      "cell_type": "markdown",
      "source": [
        "Year"
      ],
      "metadata": {
        "id": "qmy7H1RaHu-Z"
      }
    },
    {
      "cell_type": "code",
      "source": [
        "#train_data['Year'].value_counts()"
      ],
      "metadata": {
        "id": "aoFNgcABE_oQ"
      },
      "execution_count": null,
      "outputs": []
    },
    {
      "cell_type": "code",
      "source": [
        "train_data[['Year','Price']].groupby(['Year'], as_index=False).mean().sort_values(by='Year', ascending=False)"
      ],
      "metadata": {
        "colab": {
          "base_uri": "https://localhost:8080/",
          "height": 1000
        },
        "id": "ffxCOaqmE_qy",
        "outputId": "6d60ab90-1290-4f1e-84ae-fdd3603e3b26"
      },
      "execution_count": null,
      "outputs": [
        {
          "output_type": "execute_result",
          "data": {
            "text/html": [
              "\n",
              "  <div id=\"df-cbf1cd88-f9ef-4a5c-9082-6496508aeb0d\">\n",
              "    <div class=\"colab-df-container\">\n",
              "      <div>\n",
              "<style scoped>\n",
              "    .dataframe tbody tr th:only-of-type {\n",
              "        vertical-align: middle;\n",
              "    }\n",
              "\n",
              "    .dataframe tbody tr th {\n",
              "        vertical-align: top;\n",
              "    }\n",
              "\n",
              "    .dataframe thead th {\n",
              "        text-align: right;\n",
              "    }\n",
              "</style>\n",
              "<table border=\"1\" class=\"dataframe\">\n",
              "  <thead>\n",
              "    <tr style=\"text-align: right;\">\n",
              "      <th></th>\n",
              "      <th>Year</th>\n",
              "      <th>Price</th>\n",
              "    </tr>\n",
              "  </thead>\n",
              "  <tbody>\n",
              "    <tr>\n",
              "      <th>55</th>\n",
              "      <td>2019</td>\n",
              "      <td>421.152548</td>\n",
              "    </tr>\n",
              "    <tr>\n",
              "      <th>54</th>\n",
              "      <td>2018</td>\n",
              "      <td>511.220541</td>\n",
              "    </tr>\n",
              "    <tr>\n",
              "      <th>53</th>\n",
              "      <td>2017</td>\n",
              "      <td>535.304293</td>\n",
              "    </tr>\n",
              "    <tr>\n",
              "      <th>52</th>\n",
              "      <td>2016</td>\n",
              "      <td>630.406328</td>\n",
              "    </tr>\n",
              "    <tr>\n",
              "      <th>51</th>\n",
              "      <td>2015</td>\n",
              "      <td>616.070771</td>\n",
              "    </tr>\n",
              "    <tr>\n",
              "      <th>50</th>\n",
              "      <td>2014</td>\n",
              "      <td>608.528109</td>\n",
              "    </tr>\n",
              "    <tr>\n",
              "      <th>49</th>\n",
              "      <td>2013</td>\n",
              "      <td>588.908943</td>\n",
              "    </tr>\n",
              "    <tr>\n",
              "      <th>48</th>\n",
              "      <td>2012</td>\n",
              "      <td>571.785987</td>\n",
              "    </tr>\n",
              "    <tr>\n",
              "      <th>47</th>\n",
              "      <td>2011</td>\n",
              "      <td>587.361161</td>\n",
              "    </tr>\n",
              "    <tr>\n",
              "      <th>46</th>\n",
              "      <td>2010</td>\n",
              "      <td>633.037404</td>\n",
              "    </tr>\n",
              "    <tr>\n",
              "      <th>45</th>\n",
              "      <td>2009</td>\n",
              "      <td>579.418901</td>\n",
              "    </tr>\n",
              "    <tr>\n",
              "      <th>44</th>\n",
              "      <td>2008</td>\n",
              "      <td>571.031350</td>\n",
              "    </tr>\n",
              "    <tr>\n",
              "      <th>43</th>\n",
              "      <td>2007</td>\n",
              "      <td>548.758056</td>\n",
              "    </tr>\n",
              "    <tr>\n",
              "      <th>42</th>\n",
              "      <td>2006</td>\n",
              "      <td>505.734727</td>\n",
              "    </tr>\n",
              "    <tr>\n",
              "      <th>41</th>\n",
              "      <td>2005</td>\n",
              "      <td>437.150240</td>\n",
              "    </tr>\n",
              "    <tr>\n",
              "      <th>40</th>\n",
              "      <td>2004</td>\n",
              "      <td>460.053412</td>\n",
              "    </tr>\n",
              "    <tr>\n",
              "      <th>39</th>\n",
              "      <td>2003</td>\n",
              "      <td>476.079192</td>\n",
              "    </tr>\n",
              "    <tr>\n",
              "      <th>38</th>\n",
              "      <td>2002</td>\n",
              "      <td>597.407639</td>\n",
              "    </tr>\n",
              "    <tr>\n",
              "      <th>37</th>\n",
              "      <td>2001</td>\n",
              "      <td>643.828939</td>\n",
              "    </tr>\n",
              "    <tr>\n",
              "      <th>36</th>\n",
              "      <td>2000</td>\n",
              "      <td>508.967101</td>\n",
              "    </tr>\n",
              "    <tr>\n",
              "      <th>35</th>\n",
              "      <td>1999</td>\n",
              "      <td>848.957436</td>\n",
              "    </tr>\n",
              "    <tr>\n",
              "      <th>34</th>\n",
              "      <td>1998</td>\n",
              "      <td>593.489032</td>\n",
              "    </tr>\n",
              "    <tr>\n",
              "      <th>33</th>\n",
              "      <td>1997</td>\n",
              "      <td>636.387879</td>\n",
              "    </tr>\n",
              "    <tr>\n",
              "      <th>32</th>\n",
              "      <td>1996</td>\n",
              "      <td>447.563704</td>\n",
              "    </tr>\n",
              "    <tr>\n",
              "      <th>31</th>\n",
              "      <td>1995</td>\n",
              "      <td>508.011333</td>\n",
              "    </tr>\n",
              "    <tr>\n",
              "      <th>30</th>\n",
              "      <td>1994</td>\n",
              "      <td>415.054545</td>\n",
              "    </tr>\n",
              "    <tr>\n",
              "      <th>29</th>\n",
              "      <td>1993</td>\n",
              "      <td>493.782273</td>\n",
              "    </tr>\n",
              "    <tr>\n",
              "      <th>28</th>\n",
              "      <td>1992</td>\n",
              "      <td>411.570323</td>\n",
              "    </tr>\n",
              "    <tr>\n",
              "      <th>27</th>\n",
              "      <td>1991</td>\n",
              "      <td>841.735789</td>\n",
              "    </tr>\n",
              "    <tr>\n",
              "      <th>26</th>\n",
              "      <td>1990</td>\n",
              "      <td>479.531429</td>\n",
              "    </tr>\n",
              "    <tr>\n",
              "      <th>25</th>\n",
              "      <td>1989</td>\n",
              "      <td>601.627500</td>\n",
              "    </tr>\n",
              "    <tr>\n",
              "      <th>24</th>\n",
              "      <td>1988</td>\n",
              "      <td>463.933333</td>\n",
              "    </tr>\n",
              "    <tr>\n",
              "      <th>23</th>\n",
              "      <td>1987</td>\n",
              "      <td>423.083077</td>\n",
              "    </tr>\n",
              "    <tr>\n",
              "      <th>22</th>\n",
              "      <td>1986</td>\n",
              "      <td>375.403125</td>\n",
              "    </tr>\n",
              "    <tr>\n",
              "      <th>21</th>\n",
              "      <td>1985</td>\n",
              "      <td>575.944000</td>\n",
              "    </tr>\n",
              "    <tr>\n",
              "      <th>20</th>\n",
              "      <td>1984</td>\n",
              "      <td>428.800000</td>\n",
              "    </tr>\n",
              "    <tr>\n",
              "      <th>19</th>\n",
              "      <td>1983</td>\n",
              "      <td>849.700000</td>\n",
              "    </tr>\n",
              "    <tr>\n",
              "      <th>18</th>\n",
              "      <td>1982</td>\n",
              "      <td>388.357143</td>\n",
              "    </tr>\n",
              "    <tr>\n",
              "      <th>17</th>\n",
              "      <td>1981</td>\n",
              "      <td>369.000000</td>\n",
              "    </tr>\n",
              "    <tr>\n",
              "      <th>16</th>\n",
              "      <td>1980</td>\n",
              "      <td>616.000000</td>\n",
              "    </tr>\n",
              "    <tr>\n",
              "      <th>15</th>\n",
              "      <td>1979</td>\n",
              "      <td>234.000000</td>\n",
              "    </tr>\n",
              "    <tr>\n",
              "      <th>14</th>\n",
              "      <td>1978</td>\n",
              "      <td>879.500000</td>\n",
              "    </tr>\n",
              "    <tr>\n",
              "      <th>13</th>\n",
              "      <td>1977</td>\n",
              "      <td>2346.620000</td>\n",
              "    </tr>\n",
              "    <tr>\n",
              "      <th>12</th>\n",
              "      <td>1976</td>\n",
              "      <td>1028.650000</td>\n",
              "    </tr>\n",
              "    <tr>\n",
              "      <th>11</th>\n",
              "      <td>1975</td>\n",
              "      <td>298.000000</td>\n",
              "    </tr>\n",
              "    <tr>\n",
              "      <th>10</th>\n",
              "      <td>1974</td>\n",
              "      <td>367.333333</td>\n",
              "    </tr>\n",
              "    <tr>\n",
              "      <th>9</th>\n",
              "      <td>1973</td>\n",
              "      <td>248.000000</td>\n",
              "    </tr>\n",
              "    <tr>\n",
              "      <th>8</th>\n",
              "      <td>1971</td>\n",
              "      <td>477.750000</td>\n",
              "    </tr>\n",
              "    <tr>\n",
              "      <th>7</th>\n",
              "      <td>1970</td>\n",
              "      <td>575.000000</td>\n",
              "    </tr>\n",
              "    <tr>\n",
              "      <th>6</th>\n",
              "      <td>1969</td>\n",
              "      <td>350.000000</td>\n",
              "    </tr>\n",
              "    <tr>\n",
              "      <th>5</th>\n",
              "      <td>1964</td>\n",
              "      <td>665.333333</td>\n",
              "    </tr>\n",
              "    <tr>\n",
              "      <th>4</th>\n",
              "      <td>1961</td>\n",
              "      <td>304.000000</td>\n",
              "    </tr>\n",
              "    <tr>\n",
              "      <th>3</th>\n",
              "      <td>1960</td>\n",
              "      <td>949.500000</td>\n",
              "    </tr>\n",
              "    <tr>\n",
              "      <th>2</th>\n",
              "      <td>1925</td>\n",
              "      <td>1029.000000</td>\n",
              "    </tr>\n",
              "    <tr>\n",
              "      <th>1</th>\n",
              "      <td>1905</td>\n",
              "      <td>658.000000</td>\n",
              "    </tr>\n",
              "    <tr>\n",
              "      <th>0</th>\n",
              "      <td>1900</td>\n",
              "      <td>5253.000000</td>\n",
              "    </tr>\n",
              "  </tbody>\n",
              "</table>\n",
              "</div>\n",
              "      <button class=\"colab-df-convert\" onclick=\"convertToInteractive('df-cbf1cd88-f9ef-4a5c-9082-6496508aeb0d')\"\n",
              "              title=\"Convert this dataframe to an interactive table.\"\n",
              "              style=\"display:none;\">\n",
              "        \n",
              "  <svg xmlns=\"http://www.w3.org/2000/svg\" height=\"24px\"viewBox=\"0 0 24 24\"\n",
              "       width=\"24px\">\n",
              "    <path d=\"M0 0h24v24H0V0z\" fill=\"none\"/>\n",
              "    <path d=\"M18.56 5.44l.94 2.06.94-2.06 2.06-.94-2.06-.94-.94-2.06-.94 2.06-2.06.94zm-11 1L8.5 8.5l.94-2.06 2.06-.94-2.06-.94L8.5 2.5l-.94 2.06-2.06.94zm10 10l.94 2.06.94-2.06 2.06-.94-2.06-.94-.94-2.06-.94 2.06-2.06.94z\"/><path d=\"M17.41 7.96l-1.37-1.37c-.4-.4-.92-.59-1.43-.59-.52 0-1.04.2-1.43.59L10.3 9.45l-7.72 7.72c-.78.78-.78 2.05 0 2.83L4 21.41c.39.39.9.59 1.41.59.51 0 1.02-.2 1.41-.59l7.78-7.78 2.81-2.81c.8-.78.8-2.07 0-2.86zM5.41 20L4 18.59l7.72-7.72 1.47 1.35L5.41 20z\"/>\n",
              "  </svg>\n",
              "      </button>\n",
              "      \n",
              "  <style>\n",
              "    .colab-df-container {\n",
              "      display:flex;\n",
              "      flex-wrap:wrap;\n",
              "      gap: 12px;\n",
              "    }\n",
              "\n",
              "    .colab-df-convert {\n",
              "      background-color: #E8F0FE;\n",
              "      border: none;\n",
              "      border-radius: 50%;\n",
              "      cursor: pointer;\n",
              "      display: none;\n",
              "      fill: #1967D2;\n",
              "      height: 32px;\n",
              "      padding: 0 0 0 0;\n",
              "      width: 32px;\n",
              "    }\n",
              "\n",
              "    .colab-df-convert:hover {\n",
              "      background-color: #E2EBFA;\n",
              "      box-shadow: 0px 1px 2px rgba(60, 64, 67, 0.3), 0px 1px 3px 1px rgba(60, 64, 67, 0.15);\n",
              "      fill: #174EA6;\n",
              "    }\n",
              "\n",
              "    [theme=dark] .colab-df-convert {\n",
              "      background-color: #3B4455;\n",
              "      fill: #D2E3FC;\n",
              "    }\n",
              "\n",
              "    [theme=dark] .colab-df-convert:hover {\n",
              "      background-color: #434B5C;\n",
              "      box-shadow: 0px 1px 3px 1px rgba(0, 0, 0, 0.15);\n",
              "      filter: drop-shadow(0px 1px 2px rgba(0, 0, 0, 0.3));\n",
              "      fill: #FFFFFF;\n",
              "    }\n",
              "  </style>\n",
              "\n",
              "      <script>\n",
              "        const buttonEl =\n",
              "          document.querySelector('#df-cbf1cd88-f9ef-4a5c-9082-6496508aeb0d button.colab-df-convert');\n",
              "        buttonEl.style.display =\n",
              "          google.colab.kernel.accessAllowed ? 'block' : 'none';\n",
              "\n",
              "        async function convertToInteractive(key) {\n",
              "          const element = document.querySelector('#df-cbf1cd88-f9ef-4a5c-9082-6496508aeb0d');\n",
              "          const dataTable =\n",
              "            await google.colab.kernel.invokeFunction('convertToInteractive',\n",
              "                                                     [key], {});\n",
              "          if (!dataTable) return;\n",
              "\n",
              "          const docLinkHtml = 'Like what you see? Visit the ' +\n",
              "            '<a target=\"_blank\" href=https://colab.research.google.com/notebooks/data_table.ipynb>data table notebook</a>'\n",
              "            + ' to learn more about interactive tables.';\n",
              "          element.innerHTML = '';\n",
              "          dataTable['output_type'] = 'display_data';\n",
              "          await google.colab.output.renderOutput(dataTable, element);\n",
              "          const docLink = document.createElement('div');\n",
              "          docLink.innerHTML = docLinkHtml;\n",
              "          element.appendChild(docLink);\n",
              "        }\n",
              "      </script>\n",
              "    </div>\n",
              "  </div>\n",
              "  "
            ],
            "text/plain": [
              "    Year        Price\n",
              "55  2019   421.152548\n",
              "54  2018   511.220541\n",
              "53  2017   535.304293\n",
              "52  2016   630.406328\n",
              "51  2015   616.070771\n",
              "50  2014   608.528109\n",
              "49  2013   588.908943\n",
              "48  2012   571.785987\n",
              "47  2011   587.361161\n",
              "46  2010   633.037404\n",
              "45  2009   579.418901\n",
              "44  2008   571.031350\n",
              "43  2007   548.758056\n",
              "42  2006   505.734727\n",
              "41  2005   437.150240\n",
              "40  2004   460.053412\n",
              "39  2003   476.079192\n",
              "38  2002   597.407639\n",
              "37  2001   643.828939\n",
              "36  2000   508.967101\n",
              "35  1999   848.957436\n",
              "34  1998   593.489032\n",
              "33  1997   636.387879\n",
              "32  1996   447.563704\n",
              "31  1995   508.011333\n",
              "30  1994   415.054545\n",
              "29  1993   493.782273\n",
              "28  1992   411.570323\n",
              "27  1991   841.735789\n",
              "26  1990   479.531429\n",
              "25  1989   601.627500\n",
              "24  1988   463.933333\n",
              "23  1987   423.083077\n",
              "22  1986   375.403125\n",
              "21  1985   575.944000\n",
              "20  1984   428.800000\n",
              "19  1983   849.700000\n",
              "18  1982   388.357143\n",
              "17  1981   369.000000\n",
              "16  1980   616.000000\n",
              "15  1979   234.000000\n",
              "14  1978   879.500000\n",
              "13  1977  2346.620000\n",
              "12  1976  1028.650000\n",
              "11  1975   298.000000\n",
              "10  1974   367.333333\n",
              "9   1973   248.000000\n",
              "8   1971   477.750000\n",
              "7   1970   575.000000\n",
              "6   1969   350.000000\n",
              "5   1964   665.333333\n",
              "4   1961   304.000000\n",
              "3   1960   949.500000\n",
              "2   1925  1029.000000\n",
              "1   1905   658.000000\n",
              "0   1900  5253.000000"
            ]
          },
          "metadata": {},
          "execution_count": 1244
        }
      ]
    },
    {
      "cell_type": "markdown",
      "source": [
        "Number of Reviews"
      ],
      "metadata": {
        "id": "BhdDboyqIor7"
      }
    },
    {
      "cell_type": "code",
      "source": [
        "train_data['Num_of_reviews'].describe()"
      ],
      "metadata": {
        "colab": {
          "base_uri": "https://localhost:8080/"
        },
        "id": "WpwiHg5gI6kJ",
        "outputId": "5f72bc15-83c8-415a-86c7-8cfc57f60c01"
      },
      "execution_count": null,
      "outputs": [
        {
          "output_type": "execute_result",
          "data": {
            "text/plain": [
              "count    6237.000000\n",
              "mean       35.984287\n",
              "std       149.995031\n",
              "min         1.000000\n",
              "25%         2.000000\n",
              "50%         7.000000\n",
              "75%        22.000000\n",
              "max      6090.000000\n",
              "Name: Num_of_reviews, dtype: float64"
            ]
          },
          "metadata": {},
          "execution_count": 1245
        }
      ]
    },
    {
      "cell_type": "code",
      "source": [
        "plt.scatter( 'Num_of_reviews', 'Price', data=train_data )"
      ],
      "metadata": {
        "colab": {
          "base_uri": "https://localhost:8080/",
          "height": 500
        },
        "id": "R4m16FhuIo-6",
        "outputId": "3b7e2a37-a4ac-4acc-d286-813d4bd4ed65"
      },
      "execution_count": null,
      "outputs": [
        {
          "output_type": "execute_result",
          "data": {
            "text/plain": [
              "<matplotlib.collections.PathCollection at 0x7f1e45d73a90>"
            ]
          },
          "metadata": {},
          "execution_count": 1246
        },
        {
          "output_type": "display_data",
          "data": {
            "image/png": "[encoded data removed]",
            "text/plain": [
              "<Figure size 864x576 with 1 Axes>"
            ]
          },
          "metadata": {
            "needs_background": "light"
          }
        }
      ]
    },
    {
      "cell_type": "code",
      "source": [
        "train_data[['Num_of_reviews','Price']].groupby(['Num_of_reviews'], as_index=False).mean().sort_values(by='Num_of_reviews', ascending=False)"
      ],
      "metadata": {
        "colab": {
          "base_uri": "https://localhost:8080/",
          "height": 419
        },
        "id": "zNQW0SCaIpBp",
        "outputId": "080abf56-88b0-4315-ee29-bc938c33494b"
      },
      "execution_count": null,
      "outputs": [
        {
          "output_type": "execute_result",
          "data": {
            "text/html": [
              "\n",
              "  <div id=\"df-ea99e08f-874a-49f5-a084-421b0b922b55\">\n",
              "    <div class=\"colab-df-container\">\n",
              "      <div>\n",
              "<style scoped>\n",
              "    .dataframe tbody tr th:only-of-type {\n",
              "        vertical-align: middle;\n",
              "    }\n",
              "\n",
              "    .dataframe tbody tr th {\n",
              "        vertical-align: top;\n",
              "    }\n",
              "\n",
              "    .dataframe thead th {\n",
              "        text-align: right;\n",
              "    }\n",
              "</style>\n",
              "<table border=\"1\" class=\"dataframe\">\n",
              "  <thead>\n",
              "    <tr style=\"text-align: right;\">\n",
              "      <th></th>\n",
              "      <th>Num_of_reviews</th>\n",
              "      <th>Price</th>\n",
              "    </tr>\n",
              "  </thead>\n",
              "  <tbody>\n",
              "    <tr>\n",
              "      <th>341</th>\n",
              "      <td>6090</td>\n",
              "      <td>99.000000</td>\n",
              "    </tr>\n",
              "    <tr>\n",
              "      <th>340</th>\n",
              "      <td>3135</td>\n",
              "      <td>80.000000</td>\n",
              "    </tr>\n",
              "    <tr>\n",
              "      <th>339</th>\n",
              "      <td>3075</td>\n",
              "      <td>296.000000</td>\n",
              "    </tr>\n",
              "    <tr>\n",
              "      <th>338</th>\n",
              "      <td>2255</td>\n",
              "      <td>247.000000</td>\n",
              "    </tr>\n",
              "    <tr>\n",
              "      <th>337</th>\n",
              "      <td>2084</td>\n",
              "      <td>350.000000</td>\n",
              "    </tr>\n",
              "    <tr>\n",
              "      <th>...</th>\n",
              "      <td>...</td>\n",
              "      <td>...</td>\n",
              "    </tr>\n",
              "    <tr>\n",
              "      <th>4</th>\n",
              "      <td>5</td>\n",
              "      <td>600.204100</td>\n",
              "    </tr>\n",
              "    <tr>\n",
              "      <th>3</th>\n",
              "      <td>4</td>\n",
              "      <td>694.803127</td>\n",
              "    </tr>\n",
              "    <tr>\n",
              "      <th>2</th>\n",
              "      <td>3</td>\n",
              "      <td>609.808961</td>\n",
              "    </tr>\n",
              "    <tr>\n",
              "      <th>1</th>\n",
              "      <td>2</td>\n",
              "      <td>666.919280</td>\n",
              "    </tr>\n",
              "    <tr>\n",
              "      <th>0</th>\n",
              "      <td>1</td>\n",
              "      <td>771.994933</td>\n",
              "    </tr>\n",
              "  </tbody>\n",
              "</table>\n",
              "<p>342 rows × 2 columns</p>\n",
              "</div>\n",
              "      <button class=\"colab-df-convert\" onclick=\"convertToInteractive('df-ea99e08f-874a-49f5-a084-421b0b922b55')\"\n",
              "              title=\"Convert this dataframe to an interactive table.\"\n",
              "              style=\"display:none;\">\n",
              "        \n",
              "  <svg xmlns=\"http://www.w3.org/2000/svg\" height=\"24px\"viewBox=\"0 0 24 24\"\n",
              "       width=\"24px\">\n",
              "    <path d=\"M0 0h24v24H0V0z\" fill=\"none\"/>\n",
              "    <path d=\"M18.56 5.44l.94 2.06.94-2.06 2.06-.94-2.06-.94-.94-2.06-.94 2.06-2.06.94zm-11 1L8.5 8.5l.94-2.06 2.06-.94-2.06-.94L8.5 2.5l-.94 2.06-2.06.94zm10 10l.94 2.06.94-2.06 2.06-.94-2.06-.94-.94-2.06-.94 2.06-2.06.94z\"/><path d=\"M17.41 7.96l-1.37-1.37c-.4-.4-.92-.59-1.43-.59-.52 0-1.04.2-1.43.59L10.3 9.45l-7.72 7.72c-.78.78-.78 2.05 0 2.83L4 21.41c.39.39.9.59 1.41.59.51 0 1.02-.2 1.41-.59l7.78-7.78 2.81-2.81c.8-.78.8-2.07 0-2.86zM5.41 20L4 18.59l7.72-7.72 1.47 1.35L5.41 20z\"/>\n",
              "  </svg>\n",
              "      </button>\n",
              "      \n",
              "  <style>\n",
              "    .colab-df-container {\n",
              "      display:flex;\n",
              "      flex-wrap:wrap;\n",
              "      gap: 12px;\n",
              "    }\n",
              "\n",
              "    .colab-df-convert {\n",
              "      background-color: #E8F0FE;\n",
              "      border: none;\n",
              "      border-radius: 50%;\n",
              "      cursor: pointer;\n",
              "      display: none;\n",
              "      fill: #1967D2;\n",
              "      height: 32px;\n",
              "      padding: 0 0 0 0;\n",
              "      width: 32px;\n",
              "    }\n",
              "\n",
              "    .colab-df-convert:hover {\n",
              "      background-color: #E2EBFA;\n",
              "      box-shadow: 0px 1px 2px rgba(60, 64, 67, 0.3), 0px 1px 3px 1px rgba(60, 64, 67, 0.15);\n",
              "      fill: #174EA6;\n",
              "    }\n",
              "\n",
              "    [theme=dark] .colab-df-convert {\n",
              "      background-color: #3B4455;\n",
              "      fill: #D2E3FC;\n",
              "    }\n",
              "\n",
              "    [theme=dark] .colab-df-convert:hover {\n",
              "      background-color: #434B5C;\n",
              "      box-shadow: 0px 1px 3px 1px rgba(0, 0, 0, 0.15);\n",
              "      filter: drop-shadow(0px 1px 2px rgba(0, 0, 0, 0.3));\n",
              "      fill: #FFFFFF;\n",
              "    }\n",
              "  </style>\n",
              "\n",
              "      <script>\n",
              "        const buttonEl =\n",
              "          document.querySelector('#df-ea99e08f-874a-49f5-a084-421b0b922b55 button.colab-df-convert');\n",
              "        buttonEl.style.display =\n",
              "          google.colab.kernel.accessAllowed ? 'block' : 'none';\n",
              "\n",
              "        async function convertToInteractive(key) {\n",
              "          const element = document.querySelector('#df-ea99e08f-874a-49f5-a084-421b0b922b55');\n",
              "          const dataTable =\n",
              "            await google.colab.kernel.invokeFunction('convertToInteractive',\n",
              "                                                     [key], {});\n",
              "          if (!dataTable) return;\n",
              "\n",
              "          const docLinkHtml = 'Like what you see? Visit the ' +\n",
              "            '<a target=\"_blank\" href=https://colab.research.google.com/notebooks/data_table.ipynb>data table notebook</a>'\n",
              "            + ' to learn more about interactive tables.';\n",
              "          element.innerHTML = '';\n",
              "          dataTable['output_type'] = 'display_data';\n",
              "          await google.colab.output.renderOutput(dataTable, element);\n",
              "          const docLink = document.createElement('div');\n",
              "          docLink.innerHTML = docLinkHtml;\n",
              "          element.appendChild(docLink);\n",
              "        }\n",
              "      </script>\n",
              "    </div>\n",
              "  </div>\n",
              "  "
            ],
            "text/plain": [
              "     Num_of_reviews       Price\n",
              "341            6090   99.000000\n",
              "340            3135   80.000000\n",
              "339            3075  296.000000\n",
              "338            2255  247.000000\n",
              "337            2084  350.000000\n",
              "..              ...         ...\n",
              "4                 5  600.204100\n",
              "3                 4  694.803127\n",
              "2                 3  609.808961\n",
              "1                 2  666.919280\n",
              "0                 1  771.994933\n",
              "\n",
              "[342 rows x 2 columns]"
            ]
          },
          "metadata": {},
          "execution_count": 1247
        }
      ]
    },
    {
      "cell_type": "markdown",
      "source": [
        "Rating"
      ],
      "metadata": {
        "id": "aQpwTnWPKYZc"
      }
    },
    {
      "cell_type": "code",
      "source": [
        "train_data['Rating'].describe()"
      ],
      "metadata": {
        "colab": {
          "base_uri": "https://localhost:8080/"
        },
        "id": "xC4JfnOXIpF3",
        "outputId": "03dbd99a-bfd6-4645-bb75-8331d021569b"
      },
      "execution_count": null,
      "outputs": [
        {
          "output_type": "execute_result",
          "data": {
            "text/plain": [
              "count    6237.000000\n",
              "mean        4.269681\n",
              "std         0.710319\n",
              "min         1.000000\n",
              "25%         4.000000\n",
              "50%         4.000000\n",
              "75%         5.000000\n",
              "max         5.000000\n",
              "Name: Rating, dtype: float64"
            ]
          },
          "metadata": {},
          "execution_count": 1248
        }
      ]
    },
    {
      "cell_type": "code",
      "source": [
        "plt.scatter( 'Rating', 'Price', data=train_data )"
      ],
      "metadata": {
        "colab": {
          "base_uri": "https://localhost:8080/",
          "height": 500
        },
        "id": "BGaNbnuOIpI2",
        "outputId": "c87e8ad9-a232-48c6-8700-116dfc668cce"
      },
      "execution_count": null,
      "outputs": [
        {
          "output_type": "execute_result",
          "data": {
            "text/plain": [
              "<matplotlib.collections.PathCollection at 0x7f1e43990c10>"
            ]
          },
          "metadata": {},
          "execution_count": 1249
        },
        {
          "output_type": "display_data",
          "data": {
            "image/png": "[encoded data removed]",
            "text/plain": [
              "<Figure size 864x576 with 1 Axes>"
            ]
          },
          "metadata": {
            "needs_background": "light"
          }
        }
      ]
    },
    {
      "cell_type": "code",
      "source": [
        "sns.boxplot( y='Price', x='Rating', data=train_data )"
      ],
      "metadata": {
        "colab": {
          "base_uri": "https://localhost:8080/",
          "height": 514
        },
        "id": "woXxtjKwIpMD",
        "outputId": "43413c6a-3439-43be-c855-6d24f63e1b12"
      },
      "execution_count": null,
      "outputs": [
        {
          "output_type": "execute_result",
          "data": {
            "text/plain": [
              "<matplotlib.axes._subplots.AxesSubplot at 0x7f1e439b0390>"
            ]
          },
          "metadata": {},
          "execution_count": 1250
        },
        {
          "output_type": "display_data",
          "data": {
            "image/png": "[encoded data removed]",
            "text/plain": [
              "<Figure size 864x576 with 1 Axes>"
            ]
          },
          "metadata": {
            "needs_background": "light"
          }
        }
      ]
    },
    {
      "cell_type": "markdown",
      "source": [
        "#### Takeaways from Feature Analysis\n",
        "\n",
        "*   Paperback Books are cheap\n",
        "*   Year 1900 & 1977 had high average book price\n",
        "*   Books having high number of reviews are cheaper.\n",
        "*   High rated books are generally costly \n",
        "\n",
        "Some outliers have to removed\n",
        "\n"
      ],
      "metadata": {
        "id": "j4UTjlHLLM3z"
      }
    },
    {
      "cell_type": "code",
      "source": [
        "# train_data = train_data[ train_data['Price']<8000 ]\n",
        "\n",
        "# print(train_data.shape)"
      ],
      "metadata": {
        "id": "bZm0aRoyOC3C"
      },
      "execution_count": null,
      "outputs": []
    },
    {
      "cell_type": "code",
      "execution_count": null,
      "metadata": {
        "id": "uTTf2MPolzSg"
      },
      "outputs": [],
      "source": [
        "train_data['Author']=train_data.Author.astype(\"category\").cat.codes\n",
        "train_data['BookCategory']=train_data.BookCategory.astype(\"category\").cat.codes\n",
        "train_data['Edition_Type_updated']=train_data.Edition_Type_updated.astype(\"category\").cat.codes\n",
        "train_data['Year']=train_data.Year.astype(\"category\").cat.codes\n",
        "train_data['Genre']=train_data.Genre.astype(\"category\").cat.codes"
      ]
    },
    {
      "cell_type": "code",
      "execution_count": null,
      "metadata": {
        "id": "dnBUklpFAaZO"
      },
      "outputs": [],
      "source": [
        "test_data['Author']=test_data.Author.astype(\"category\").cat.codes\n",
        "test_data['BookCategory']=test_data.BookCategory.astype(\"category\").cat.codes\n",
        "test_data['Edition_Type_updated']=test_data.Edition_Type_updated.astype(\"category\").cat.codes\n",
        "test_data['Year']=test_data.Year.astype(\"category\").cat.codes\n",
        "test_data['Genre']=test_data.Genre.astype(\"category\").cat.codes"
      ]
    },
    {
      "cell_type": "code",
      "execution_count": null,
      "metadata": {
        "colab": {
          "base_uri": "https://localhost:8080/",
          "height": 586
        },
        "id": "DrHAlL5vlwNL",
        "outputId": "c1a9e07c-4d64-4fde-c60b-6be07a0efb19"
      },
      "outputs": [
        {
          "output_type": "display_data",
          "data": {
            "image/png": "[encoded data removed]",
            "text/plain": [
              "<Figure size 864x576 with 2 Axes>"
            ]
          },
          "metadata": {
            "needs_background": "light"
          }
        }
      ],
      "source": [
        "plt.rcParams['figure.figsize'] = 12, 8\n",
        "sns.heatmap(train_data.corr(),annot=True, linewidths=1)\n",
        "plt.show()"
      ]
    },
    {
      "cell_type": "code",
      "execution_count": null,
      "metadata": {
        "colab": {
          "base_uri": "https://localhost:8080/",
          "height": 586
        },
        "id": "ZknaKEEBAkdM",
        "outputId": "4e5bb1b1-cdb8-4eb1-c980-f9136d863dea"
      },
      "outputs": [
        {
          "output_type": "display_data",
          "data": {
            "image/png": "[encoded data removed]",
            "text/plain": [
              "<Figure size 864x576 with 2 Axes>"
            ]
          },
          "metadata": {
            "needs_background": "light"
          }
        }
      ],
      "source": [
        "plt.rcParams['figure.figsize'] = 12, 8\n",
        "sns.heatmap(test_data.corr(),annot=True, linewidths=1)\n",
        "plt.show()"
      ]
    },
    {
      "cell_type": "markdown",
      "source": [
        "## Modeling"
      ],
      "metadata": {
        "id": "CCdD-_fc8kGt"
      }
    },
    {
      "cell_type": "code",
      "source": [
        "train_data.reset_index(drop=True, inplace=True)"
      ],
      "metadata": {
        "id": "XvhGbyodQUNr"
      },
      "execution_count": null,
      "outputs": []
    },
    {
      "cell_type": "code",
      "source": [
        "# test_data"
      ],
      "metadata": {
        "id": "r2UHDDU6QUQY"
      },
      "execution_count": null,
      "outputs": []
    },
    {
      "cell_type": "code",
      "source": [
        "from sklearn.preprocessing import StandardScaler\n",
        "\n",
        "scaler = StandardScaler()\n",
        "X = train_data.drop('Price', axis =1)\n",
        "y_train, param = boxcox(train_data.Price)\n",
        "\n",
        "print('Optimal lambda', param)\n",
        "\n",
        "scaler.fit(X)\n",
        "\n",
        "X_train_scaled = scaler.transform(X)\n",
        "X_test_scaled = scaler.transform(test_data)"
      ],
      "metadata": {
        "colab": {
          "base_uri": "https://localhost:8080/"
        },
        "id": "HZ8nUp4uQUT2",
        "outputId": "344fef7c-30db-44f0-97e8-ebc19249450d"
      },
      "execution_count": null,
      "outputs": [
        {
          "output_type": "stream",
          "name": "stdout",
          "text": [
            "Optimal lambda -0.13820326756118104\n"
          ]
        }
      ]
    },
    {
      "cell_type": "code",
      "execution_count": null,
      "metadata": {
        "id": "DYsoqegWnW_A"
      },
      "outputs": [],
      "source": [
        "#X_train, X_val, y_train, y_val = train_test_split(X_train_scaled, y_train, test_size=0.20)"
      ]
    },
    {
      "cell_type": "code",
      "source": [
        "#plt.hist(y)"
      ],
      "metadata": {
        "id": "8_bd15jFvp80"
      },
      "execution_count": null,
      "outputs": []
    },
    {
      "cell_type": "code",
      "source": [
        "from sklearn.model_selection import cross_val_score\n",
        "\n",
        "def rmse_cv(model):\n",
        "    rmse= np.sqrt(-cross_val_score(model, X_train_scaled, y_train, scoring=\"neg_mean_squared_error\", cv = 5))\n",
        "    return(rmse)"
      ],
      "metadata": {
        "id": "35KDoE1whNNN"
      },
      "execution_count": null,
      "outputs": []
    },
    {
      "cell_type": "code",
      "execution_count": null,
      "metadata": {
        "colab": {
          "base_uri": "https://localhost:8080/"
        },
        "id": "YRAG8yV9m_ea",
        "outputId": "b7feb0fd-dd29-46b0-97fd-386ac7b3692d"
      },
      "outputs": [
        {
          "output_type": "execute_result",
          "data": {
            "text/plain": [
              "array([0.26021298, 0.26638931, 0.25614898, 0.27097398, 0.27426981])"
            ]
          },
          "metadata": {},
          "execution_count": 1262
        }
      ],
      "source": [
        "regressor = RandomForestRegressor(n_estimators = 300, random_state = 42)\n",
        "\n",
        "rmse_cv(regressor)"
      ]
    },
    {
      "cell_type": "code",
      "source": [
        "from sklearn.linear_model import Ridge, RidgeCV, ElasticNet, LassoCV, LassoLarsCV, LinearRegression\n",
        "\n",
        "lr_model = LinearRegression()\n",
        "rmse_cv(lr_model)"
      ],
      "metadata": {
        "colab": {
          "base_uri": "https://localhost:8080/"
        },
        "id": "KeWbEfNnjUQy",
        "outputId": "db65859b-3093-471e-9ed2-314c8cd64faa"
      },
      "execution_count": null,
      "outputs": [
        {
          "output_type": "execute_result",
          "data": {
            "text/plain": [
              "array([0.30648111, 0.31171534, 0.30878382, 0.32061832, 0.31711502])"
            ]
          },
          "metadata": {},
          "execution_count": 1263
        }
      ]
    },
    {
      "cell_type": "code",
      "source": [
        "ridge_model = Ridge(alpha=1,random_state=4)\n",
        "\n",
        "rmse_cv(ridge_model)"
      ],
      "metadata": {
        "colab": {
          "base_uri": "https://localhost:8080/"
        },
        "id": "Xa9sA_X3jUUI",
        "outputId": "78eb3950-4d49-4c52-85bb-ab71fe85ebd4"
      },
      "execution_count": null,
      "outputs": [
        {
          "output_type": "execute_result",
          "data": {
            "text/plain": [
              "array([0.30648164, 0.31171109, 0.30878394, 0.32061854, 0.31711457])"
            ]
          },
          "metadata": {},
          "execution_count": 1264
        }
      ]
    },
    {
      "cell_type": "code",
      "source": [
        "from sklearn.linear_model import Lasso\n",
        "lasso_model = Lasso(alpha=1,random_state=4)\n",
        "\n",
        "rmse_cv(lasso_model)"
      ],
      "metadata": {
        "colab": {
          "base_uri": "https://localhost:8080/"
        },
        "id": "AfGXAjDjjUWk",
        "outputId": "dee4e886-2435-40ea-e87f-be73c4d2caa7"
      },
      "execution_count": null,
      "outputs": [
        {
          "output_type": "execute_result",
          "data": {
            "text/plain": [
              "array([0.32619112, 0.32573634, 0.32895495, 0.34057382, 0.33304953])"
            ]
          },
          "metadata": {},
          "execution_count": 1265
        }
      ]
    },
    {
      "cell_type": "code",
      "source": [
        "from sklearn.ensemble import GradientBoostingRegressor\n",
        "\n",
        "gb_model = GradientBoostingRegressor(random_state=4)\n",
        "\n",
        "rmse_cv(gb_model)"
      ],
      "metadata": {
        "colab": {
          "base_uri": "https://localhost:8080/"
        },
        "id": "hpmC4a7ijUZw",
        "outputId": "47e563cf-8ddf-41ce-b596-15537f8fbeec"
      },
      "execution_count": null,
      "outputs": [
        {
          "output_type": "execute_result",
          "data": {
            "text/plain": [
              "array([0.26463875, 0.27055824, 0.26449755, 0.27771803, 0.2786033 ])"
            ]
          },
          "metadata": {},
          "execution_count": 1266
        }
      ]
    },
    {
      "cell_type": "code",
      "source": [
        "import xgboost as xgb\n",
        "\n",
        "xgb_model = xgb.XGBRegressor(random_state=4)\n",
        "\n",
        "rmse_cv(xgb_model)"
      ],
      "metadata": {
        "colab": {
          "base_uri": "https://localhost:8080/"
        },
        "id": "-DIv0QZllnMP",
        "outputId": "77195416-91e0-4214-e725-f9ef2247b214"
      },
      "execution_count": null,
      "outputs": [
        {
          "output_type": "stream",
          "name": "stdout",
          "text": [
            "[12:51:18] WARNING: /workspace/src/objective/regression_obj.cu:152: reg:linear is now deprecated in favor of reg:squarederror.\n",
            "[12:51:18] WARNING: /workspace/src/objective/regression_obj.cu:152: reg:linear is now deprecated in favor of reg:squarederror.\n",
            "[12:51:18] WARNING: /workspace/src/objective/regression_obj.cu:152: reg:linear is now deprecated in favor of reg:squarederror.\n",
            "[12:51:19] WARNING: /workspace/src/objective/regression_obj.cu:152: reg:linear is now deprecated in favor of reg:squarederror.\n",
            "[12:51:19] WARNING: /workspace/src/objective/regression_obj.cu:152: reg:linear is now deprecated in favor of reg:squarederror.\n"
          ]
        },
        {
          "output_type": "execute_result",
          "data": {
            "text/plain": [
              "array([0.26577452, 0.27101514, 0.26570856, 0.27881403, 0.27981529])"
            ]
          },
          "metadata": {},
          "execution_count": 1267
        }
      ]
    },
    {
      "cell_type": "code",
      "source": [
        "import lightgbm as lgb\n",
        "\n",
        "lgb_model = lgb.LGBMRegressor(random_state=4)\n",
        "\n",
        "rmse_cv(lgb_model)"
      ],
      "metadata": {
        "colab": {
          "base_uri": "https://localhost:8080/"
        },
        "id": "6V1u9wPYmR66",
        "outputId": "f7f349ba-5bd5-4cc1-8ff2-7b58580ca51e"
      },
      "execution_count": null,
      "outputs": [
        {
          "output_type": "execute_result",
          "data": {
            "text/plain": [
              "array([0.25764796, 0.2561821 , 0.26051141, 0.26463954, 0.2703143 ])"
            ]
          },
          "metadata": {},
          "execution_count": 1273
        }
      ]
    },
    {
      "cell_type": "code",
      "source": [
        ""
      ],
      "metadata": {
        "id": "bhUGI9BrpkGM"
      },
      "execution_count": null,
      "outputs": []
    },
    {
      "cell_type": "code",
      "source": [
        ""
      ],
      "metadata": {
        "id": "dzKuWHYqpkJQ"
      },
      "execution_count": null,
      "outputs": []
    },
    {
      "cell_type": "code",
      "execution_count": null,
      "metadata": {
        "colab": {
          "base_uri": "https://localhost:8080/"
        },
        "id": "nFeDy0AVnFW4",
        "outputId": "1806d080-230e-4a86-faea-159745d88f82"
      },
      "outputs": [
        {
          "output_type": "stream",
          "name": "stdout",
          "text": [
            "0.09166621731304239\n",
            "0.3401139377299781\n",
            "0.30276429332575266\n",
            "0.30276429332575266\n"
          ]
        }
      ],
      "source": [
        "from sklearn.metrics import r2_score\n",
        "\n",
        "y_pred = regressor.predict(X_val)\n",
        "print(mse(y_val, y_pred))\n",
        "print(r2_score(y_val,y_pred))\n",
        "print( np.sqrt(np.square(y_pred - y_val ).mean()))\n",
        "print(np.sqrt(mse(y_val, y_pred)))"
      ]
    },
    {
      "cell_type": "code",
      "execution_count": null,
      "metadata": {
        "id": "WI2VM-htofxG",
        "colab": {
          "base_uri": "https://localhost:8080/"
        },
        "outputId": "849215ac-1fb9-47a7-c00e-311fdc62be25"
      },
      "outputs": [
        {
          "output_type": "execute_result",
          "data": {
            "text/plain": [
              "array([192.01284312, 579.72974976, 290.85399743, ..., 377.03219698,\n",
              "       350.41376441, 301.26813109])"
            ]
          },
          "metadata": {},
          "execution_count": 1276
        }
      ],
      "source": [
        "lgb_model = lgb.LGBMRegressor(random_state=4 )\n",
        "\n",
        "lgb_model.fit(X_train_scaled, y_train)\n",
        "y_pred_test = lgb_model.predict(X_test_scaled)\n",
        "y_pred_test = inv_boxcox(y_pred_test, param)\n",
        "y_pred_test"
      ]
    },
    {
      "cell_type": "code",
      "execution_count": null,
      "metadata": {
        "id": "41DmvpSiCo1o",
        "colab": {
          "base_uri": "https://localhost:8080/",
          "height": 419
        },
        "outputId": "3ad75d9b-8cd9-4a31-e82a-4474635a463a"
      },
      "outputs": [
        {
          "output_type": "execute_result",
          "data": {
            "text/html": [
              "\n",
              "  <div id=\"df-83002bb1-b109-49a7-a907-dc2400a987d7\">\n",
              "    <div class=\"colab-df-container\">\n",
              "      <div>\n",
              "<style scoped>\n",
              "    .dataframe tbody tr th:only-of-type {\n",
              "        vertical-align: middle;\n",
              "    }\n",
              "\n",
              "    .dataframe tbody tr th {\n",
              "        vertical-align: top;\n",
              "    }\n",
              "\n",
              "    .dataframe thead th {\n",
              "        text-align: right;\n",
              "    }\n",
              "</style>\n",
              "<table border=\"1\" class=\"dataframe\">\n",
              "  <thead>\n",
              "    <tr style=\"text-align: right;\">\n",
              "      <th></th>\n",
              "      <th>Price</th>\n",
              "    </tr>\n",
              "  </thead>\n",
              "  <tbody>\n",
              "    <tr>\n",
              "      <th>0</th>\n",
              "      <td>192.012843</td>\n",
              "    </tr>\n",
              "    <tr>\n",
              "      <th>1</th>\n",
              "      <td>579.729750</td>\n",
              "    </tr>\n",
              "    <tr>\n",
              "      <th>2</th>\n",
              "      <td>290.853997</td>\n",
              "    </tr>\n",
              "    <tr>\n",
              "      <th>3</th>\n",
              "      <td>439.931765</td>\n",
              "    </tr>\n",
              "    <tr>\n",
              "      <th>4</th>\n",
              "      <td>454.455308</td>\n",
              "    </tr>\n",
              "    <tr>\n",
              "      <th>...</th>\n",
              "      <td>...</td>\n",
              "    </tr>\n",
              "    <tr>\n",
              "      <th>1555</th>\n",
              "      <td>572.033040</td>\n",
              "    </tr>\n",
              "    <tr>\n",
              "      <th>1556</th>\n",
              "      <td>241.830676</td>\n",
              "    </tr>\n",
              "    <tr>\n",
              "      <th>1557</th>\n",
              "      <td>377.032197</td>\n",
              "    </tr>\n",
              "    <tr>\n",
              "      <th>1558</th>\n",
              "      <td>350.413764</td>\n",
              "    </tr>\n",
              "    <tr>\n",
              "      <th>1559</th>\n",
              "      <td>301.268131</td>\n",
              "    </tr>\n",
              "  </tbody>\n",
              "</table>\n",
              "<p>1560 rows × 1 columns</p>\n",
              "</div>\n",
              "      <button class=\"colab-df-convert\" onclick=\"convertToInteractive('df-83002bb1-b109-49a7-a907-dc2400a987d7')\"\n",
              "              title=\"Convert this dataframe to an interactive table.\"\n",
              "              style=\"display:none;\">\n",
              "        \n",
              "  <svg xmlns=\"http://www.w3.org/2000/svg\" height=\"24px\"viewBox=\"0 0 24 24\"\n",
              "       width=\"24px\">\n",
              "    <path d=\"M0 0h24v24H0V0z\" fill=\"none\"/>\n",
              "    <path d=\"M18.56 5.44l.94 2.06.94-2.06 2.06-.94-2.06-.94-.94-2.06-.94 2.06-2.06.94zm-11 1L8.5 8.5l.94-2.06 2.06-.94-2.06-.94L8.5 2.5l-.94 2.06-2.06.94zm10 10l.94 2.06.94-2.06 2.06-.94-2.06-.94-.94-2.06-.94 2.06-2.06.94z\"/><path d=\"M17.41 7.96l-1.37-1.37c-.4-.4-.92-.59-1.43-.59-.52 0-1.04.2-1.43.59L10.3 9.45l-7.72 7.72c-.78.78-.78 2.05 0 2.83L4 21.41c.39.39.9.59 1.41.59.51 0 1.02-.2 1.41-.59l7.78-7.78 2.81-2.81c.8-.78.8-2.07 0-2.86zM5.41 20L4 18.59l7.72-7.72 1.47 1.35L5.41 20z\"/>\n",
              "  </svg>\n",
              "      </button>\n",
              "      \n",
              "  <style>\n",
              "    .colab-df-container {\n",
              "      display:flex;\n",
              "      flex-wrap:wrap;\n",
              "      gap: 12px;\n",
              "    }\n",
              "\n",
              "    .colab-df-convert {\n",
              "      background-color: #E8F0FE;\n",
              "      border: none;\n",
              "      border-radius: 50%;\n",
              "      cursor: pointer;\n",
              "      display: none;\n",
              "      fill: #1967D2;\n",
              "      height: 32px;\n",
              "      padding: 0 0 0 0;\n",
              "      width: 32px;\n",
              "    }\n",
              "\n",
              "    .colab-df-convert:hover {\n",
              "      background-color: #E2EBFA;\n",
              "      box-shadow: 0px 1px 2px rgba(60, 64, 67, 0.3), 0px 1px 3px 1px rgba(60, 64, 67, 0.15);\n",
              "      fill: #174EA6;\n",
              "    }\n",
              "\n",
              "    [theme=dark] .colab-df-convert {\n",
              "      background-color: #3B4455;\n",
              "      fill: #D2E3FC;\n",
              "    }\n",
              "\n",
              "    [theme=dark] .colab-df-convert:hover {\n",
              "      background-color: #434B5C;\n",
              "      box-shadow: 0px 1px 3px 1px rgba(0, 0, 0, 0.15);\n",
              "      filter: drop-shadow(0px 1px 2px rgba(0, 0, 0, 0.3));\n",
              "      fill: #FFFFFF;\n",
              "    }\n",
              "  </style>\n",
              "\n",
              "      <script>\n",
              "        const buttonEl =\n",
              "          document.querySelector('#df-83002bb1-b109-49a7-a907-dc2400a987d7 button.colab-df-convert');\n",
              "        buttonEl.style.display =\n",
              "          google.colab.kernel.accessAllowed ? 'block' : 'none';\n",
              "\n",
              "        async function convertToInteractive(key) {\n",
              "          const element = document.querySelector('#df-83002bb1-b109-49a7-a907-dc2400a987d7');\n",
              "          const dataTable =\n",
              "            await google.colab.kernel.invokeFunction('convertToInteractive',\n",
              "                                                     [key], {});\n",
              "          if (!dataTable) return;\n",
              "\n",
              "          const docLinkHtml = 'Like what you see? Visit the ' +\n",
              "            '<a target=\"_blank\" href=https://colab.research.google.com/notebooks/data_table.ipynb>data table notebook</a>'\n",
              "            + ' to learn more about interactive tables.';\n",
              "          element.innerHTML = '';\n",
              "          dataTable['output_type'] = 'display_data';\n",
              "          await google.colab.output.renderOutput(dataTable, element);\n",
              "          const docLink = document.createElement('div');\n",
              "          docLink.innerHTML = docLinkHtml;\n",
              "          element.appendChild(docLink);\n",
              "        }\n",
              "      </script>\n",
              "    </div>\n",
              "  </div>\n",
              "  "
            ],
            "text/plain": [
              "           Price\n",
              "0     192.012843\n",
              "1     579.729750\n",
              "2     290.853997\n",
              "3     439.931765\n",
              "4     454.455308\n",
              "...          ...\n",
              "1555  572.033040\n",
              "1556  241.830676\n",
              "1557  377.032197\n",
              "1558  350.413764\n",
              "1559  301.268131\n",
              "\n",
              "[1560 rows x 1 columns]"
            ]
          },
          "metadata": {},
          "execution_count": 1277
        }
      ],
      "source": [
        "y_pred_test = pd.DataFrame(y_pred_test,columns=['Price'])\n",
        "y_pred_test"
      ]
    },
    {
      "cell_type": "code",
      "source": [
        "pd.DataFrame(y_pred_test,columns=['Price']).to_csv('3rdsubmission.csv',index=None)"
      ],
      "metadata": {
        "id": "DI6GVDumwAGi"
      },
      "execution_count": null,
      "outputs": []
    },
    {
      "cell_type": "code",
      "source": [
        ""
      ],
      "metadata": {
        "id": "lNYR4O11wHOS"
      },
      "execution_count": null,
      "outputs": []
    }
  ],
  "metadata": {
    "colab": {
      "collapsed_sections": [],
      "name": "Book_Price_prediction.ipynb",
      "provenance": []
    },
    "kernelspec": {
      "display_name": "Python 3",
      "language": "python",
      "name": "python3"
    },
    "language_info": {
      "codemirror_mode": {
        "name": "ipython",
        "version": 3
      },
      "file_extension": ".py",
      "mimetype": "text/x-python",
      "name": "python",
      "nbconvert_exporter": "python",
      "pygments_lexer": "ipython3",
      "version": "3.8.5"
    }
  },
  "nbformat": 4,
  "nbformat_minor": 0
}